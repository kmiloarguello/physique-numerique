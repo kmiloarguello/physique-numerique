{
 "cells": [
  {
   "cell_type": "markdown",
   "metadata": {},
   "source": [
    "# Dictionnaires et Pandas"
   ]
  },
  {
   "cell_type": "markdown",
   "metadata": {},
   "source": [
    "## **Vidéo**: Dictionnaires"
   ]
  },
  {
   "cell_type": "code",
   "execution_count": 1,
   "metadata": {
    "tags": [
     "remove-input"
    ]
   },
   "outputs": [
    {
     "data": {
      "text/html": [
       "<iframe src=\"https://sorbonne-universite.cloud.panopto.eu/Panopto/Pages/Embed.aspx?id=abf874a0-6e15-4fab-977c-ae1400dfa2bf&autoplay=false&offerviewer=true&showtitle=true&showbrand=false&captions=false&interactivity=all\" height=\"405\" width=\"720\" style=\"border: 1px solid #464646;\" allowfullscreen allow=\"autoplay\"></iframe>\n"
      ],
      "text/plain": [
       "<IPython.core.display.HTML object>"
      ]
     },
     "metadata": {},
     "output_type": "display_data"
    }
   ],
   "source": [
    "%%HTML\n",
    "<iframe src=\"https://sorbonne-universite.cloud.panopto.eu/Panopto/Pages/Embed.aspx?id=abf874a0-6e15-4fab-977c-ae1400dfa2bf&autoplay=false&offerviewer=true&showtitle=true&showbrand=false&captions=false&interactivity=all\" height=\"405\" width=\"720\" style=\"border: 1px solid #464646;\" allowfullscreen allow=\"autoplay\"></iframe>"
   ]
  },
  {
   "cell_type": "markdown",
   "metadata": {},
   "source": [
    "## Les dictionnaires\n",
    "\n",
    "Un dictionnaire ressemble à une liste mais il est plus général. Alors que les indices d'une liste doivent être des entiers, dans un dictionnaire, les indices peuvent être de types différents.\n",
    "\n",
    "Un dictionnaire contient une collection d'indices, appelés **clés**, et une collection de valeurs. À chaque *clé* correspond une *valeur*, ce que l'on appelle une **paire clé-valeur**, ou **item**.\n",
    "\n",
    "La syntaxe pour définir un dictionnaire est :"
   ]
  },
  {
   "cell_type": "code",
   "execution_count": 2,
   "metadata": {},
   "outputs": [],
   "source": [
    "my_dict = {\n",
    "   \"key1\": \"value1\",\n",
    "   \"key2\": \"value2\",\n",
    "}"
   ]
  },
  {
   "cell_type": "markdown",
   "metadata": {},
   "source": [
    "Définissons 2 listes nous donnant les pays européens et leur capitale :"
   ]
  },
  {
   "cell_type": "code",
   "execution_count": 3,
   "metadata": {},
   "outputs": [],
   "source": [
    "pays = ['allemagne', 'autriche', 'belgique', 'bulgarie', 'chypre', 'croatie', 'danemark', 'espagne', 'estonie', \n",
    "        'finlande', 'france', 'grèce', 'hongrie', 'irlande', 'italie', 'lettonie', 'lituanie', 'luxembourg', \n",
    "        'malte', 'pays-bas', 'pologne', 'portugal', 'république tchèque', 'roumanie', 'slovaquie', 'slovénie', 'suède']\n",
    "capitales = ['berlin', 'vienne', 'bruxelles', 'sofia', 'nicosie', 'zagreb', 'copenhague', 'madrid', 'tallinn', \n",
    "             'helsinki', 'paris', 'athènes', 'budapest', 'dublin', 'rome', 'riga', 'vilnius', 'luxembourg', 'la valette',\n",
    "             'amsterdam', 'varsovie', 'lisbonne', 'prague', 'bucarest', 'bratislava', 'ljubljana', 'stockholm']"
   ]
  },
  {
   "cell_type": "markdown",
   "metadata": {},
   "source": [
    "Nous voulons trouver la capitale de la Hongrie. Nous pouvons utiliser la méthode de liste `index()` :"
   ]
  },
  {
   "cell_type": "code",
   "execution_count": 4,
   "metadata": {
    "tags": []
   },
   "outputs": [
    {
     "name": "stdout",
     "output_type": "stream",
     "text": [
      "Budapest\n"
     ]
    }
   ],
   "source": [
    "# Trouver l'indice de 'hongrie'\n",
    "ind_hongrie = pays.index('hongrie')\n",
    "\n",
    "# Afficher la capitale de la Hongrie\n",
    "print(capitales[ind_hongrie].capitalize())"
   ]
  },
  {
   "cell_type": "markdown",
   "metadata": {},
   "source": [
    "Maintenant, définissons un dictionnaire contenant les même informations :"
   ]
  },
  {
   "cell_type": "code",
   "execution_count": 92,
   "metadata": {},
   "outputs": [],
   "source": [
    "europe = {\n",
    "    'allemagne' : 'berlin',\n",
    "    'autriche' : 'vienne',\n",
    "    'belgique' : 'bruxelles',\n",
    "    'bulgarie' : 'sofia',\n",
    "    'chypre' : 'nicosie',\n",
    "    'croatie' : 'zagreb',\n",
    "    'danemark' : 'copenhague',\n",
    "    'espagne' : 'madrid',\n",
    "    'estonie' : 'tallinn',\n",
    "    'finlande' : 'helsinki',\n",
    "    'france' : 'paris',\n",
    "    'grèce' : 'athènes',\n",
    "    'hongrie' : 'budapest',\n",
    "    'irlande' : 'dublin',\n",
    "    'italie' : 'rome',\n",
    "    'lettonie' : 'riga',\n",
    "    'lituanie' : 'vilnius',\n",
    "    'luxembourg' : 'luxembourg',\n",
    "    'malte' : 'la valette',\n",
    "    'pays-bas' : 'amsterdam',\n",
    "    'pologne' : 'varsovie',\n",
    "    'portugal' : 'lisbonne',\n",
    "    'république tchèque' : 'prague',\n",
    "    'roumanie' : 'bucarest',\n",
    "    'slovaquie' : 'bratislava',\n",
    "    'slovénie' : 'ljubljana',\n",
    "    'suède' : 'stockholm'\n",
    "}"
   ]
  },
  {
   "cell_type": "markdown",
   "metadata": {
    "tags": []
   },
   "source": [
    "Pour accéder à la *valeur* associée à une *clé* donnée, il suffit alors d'utiliser la clé en indice du dictionnaire. Ainsi, pour afficher la capitale de la Hongrie :"
   ]
  },
  {
   "cell_type": "code",
   "execution_count": 93,
   "metadata": {},
   "outputs": [
    {
     "data": {
      "text/plain": [
       "'budapest'"
      ]
     },
     "execution_count": 93,
     "metadata": {},
     "output_type": "execute_result"
    }
   ],
   "source": [
    "europe['hongrie']"
   ]
  },
  {
   "cell_type": "markdown",
   "metadata": {},
   "source": [
    "Il est facile avec un dictionnaire d'ajouter ou enlever une paire clé-valeur, ou bien de changer une valeur :"
   ]
  },
  {
   "cell_type": "code",
   "execution_count": 94,
   "metadata": {},
   "outputs": [
    {
     "data": {
      "text/plain": [
       "True"
      ]
     },
     "execution_count": 94,
     "metadata": {},
     "output_type": "execute_result"
    }
   ],
   "source": [
    "# Ajouter la Turqie au dictionnaire\n",
    "europe['turquie'] = 'istanbul'\n",
    "\n",
    "# Vérifier que le pays est bien contenu dans le dictionnaire\n",
    "'turquie' in europe"
   ]
  },
  {
   "cell_type": "code",
   "execution_count": 95,
   "metadata": {
    "tags": []
   },
   "outputs": [
    {
     "name": "stdout",
     "output_type": "stream",
     "text": [
      "Ankara\n"
     ]
    }
   ],
   "source": [
    "# Changer le nom de la capitale de la Turquie (et oui ce n'est pas Istanbul...)\n",
    "europe['turquie'] = 'ankara'\n",
    "\n",
    "# Afficher la capitale de la Turquie\n",
    "print(europe['turquie'].capitalize())"
   ]
  },
  {
   "cell_type": "code",
   "execution_count": 96,
   "metadata": {},
   "outputs": [
    {
     "data": {
      "text/plain": [
       "False"
      ]
     },
     "execution_count": 96,
     "metadata": {},
     "output_type": "execute_result"
    }
   ],
   "source": [
    "# Enlever la paire clé-valeur du dictionnaire\n",
    "del(europe['turquie'])\n",
    "\n",
    "# Vérifier que le pays n'est pas contenu dans le dictionnaire\n",
    "'turquie' in europe"
   ]
  },
  {
   "cell_type": "markdown",
   "metadata": {},
   "source": [
    "## **Vidéo**: L'objet DataFrame"
   ]
  },
  {
   "cell_type": "code",
   "execution_count": 97,
   "metadata": {
    "tags": [
     "remove-input"
    ]
   },
   "outputs": [
    {
     "data": {
      "text/html": [
       "<iframe src=\"https://sorbonne-universite.cloud.panopto.eu/Panopto/Pages/Embed.aspx?id=c59d5c9e-97ab-45b3-b24d-adf900ff9859&autoplay=false&offerviewer=true&showtitle=true&showbrand=false&captions=false&interactivity=all\" height=\"405\" width=\"720\" style=\"border: 1px solid #464646;\" allowfullscreen allow=\"autoplay\"></iframe>\n"
      ],
      "text/plain": [
       "<IPython.core.display.HTML object>"
      ]
     },
     "metadata": {},
     "output_type": "display_data"
    }
   ],
   "source": [
    "%%HTML\n",
    "<iframe src=\"https://sorbonne-universite.cloud.panopto.eu/Panopto/Pages/Embed.aspx?id=c59d5c9e-97ab-45b3-b24d-adf900ff9859&autoplay=false&offerviewer=true&showtitle=true&showbrand=false&captions=false&interactivity=all\" height=\"405\" width=\"720\" style=\"border: 1px solid #464646;\" allowfullscreen allow=\"autoplay\"></iframe>"
   ]
  },
  {
   "cell_type": "markdown",
   "metadata": {},
   "source": [
    "## Pandas DataFrames\n",
    "\n",
    "[Pandas](https://pandas.pydata.org/) est un module de Python pour l'analyse et la manipulation de données. L'objet de base de Pandas est le *DataFrame*, qui est un tableau similaire aux feuilles Excel ou LibreOffice que vous devez connaître. Le module Pandas fonctionne en harmonie avec les modules [Numpy](https://numpy.org/) et [Matplotlib](https://matplotlib.org/) vus dans les cours précédents.\n",
    "\n",
    "Voyons comment créer un DataFrame à partir d'un dictionnaire. Nous allons reprendre les listes créées plus haut sur les pays et capitales européennes, les transformer en tableaux Numpy, et y ajouter d'autres informations :"
   ]
  },
  {
   "cell_type": "code",
   "execution_count": 98,
   "metadata": {},
   "outputs": [],
   "source": [
    "# Importation du module Numpy\n",
    "import numpy as np\n",
    "\n",
    "# Importation du module Pandas\n",
    "import pandas as pd\n",
    "\n",
    "# Création des tableaux Numpy à partir des listes des pays et des capitales : type string\n",
    "np_pays = np.array(pays)\n",
    "np_capitales = np.array(capitales)\n",
    "\n",
    "# Liste avec les populations des pays européens : type integer\n",
    "np_population = np.array([82162000, 8700471, 11289853, 7153784, 848319, 4190669, 5659715, 46438422, 1315944, \n",
    "                       5401267, 66661621, 10793526, 9830485, 4658530, 60665551, 1968957, 2888558, 576249, \n",
    "                       434403, 16979120, 37967209, 10341330, 10553853, 19759968, 5426252, 2064188, 9851017],\n",
    "                       dtype = 'int64')\n",
    "\n",
    "# Liste avec les dates d'adhésion des pays à l'UE : type datetime\n",
    "np_date = np.array(['1957', '1995', '1957', '2007', '2004', '2013', '1973', '1986', '2004', '1995',\n",
    "                    '1957', '1981', '2004', '1973', '1957', '2004', '2004', '1957', '2004', '1957',\n",
    "                    '2004', '1986', '2004', '2007', '2004', '2004', '1995'],\n",
    "                    dtype = 'datetime64[Y]')"
   ]
  },
  {
   "cell_type": "markdown",
   "metadata": {},
   "source": [
    "Maintenant, créons un dictionnaire en utilisant les tableaux Numpy dans les paires clé-valeur :"
   ]
  },
  {
   "cell_type": "code",
   "execution_count": 132,
   "metadata": {
    "tags": []
   },
   "outputs": [],
   "source": [
    "dic_europe = {\n",
    "    \"pays\" : np_pays,\n",
    "    \"capitale\" : np_capitales,\n",
    "    \"population\" : np_population,\n",
    "    \"date d'adhésion\" : np_date\n",
    "}"
   ]
  },
  {
   "cell_type": "markdown",
   "metadata": {},
   "source": [
    "Pour créer le *DataFrame* à partir du dictionnaire il suffit d'utiliser la fonction `DataFrame()` de Pandas :"
   ]
  },
  {
   "cell_type": "code",
   "execution_count": 133,
   "metadata": {
    "tags": []
   },
   "outputs": [
    {
     "data": {
      "text/html": [
       "<div>\n",
       "<style scoped>\n",
       "    .dataframe tbody tr th:only-of-type {\n",
       "        vertical-align: middle;\n",
       "    }\n",
       "\n",
       "    .dataframe tbody tr th {\n",
       "        vertical-align: top;\n",
       "    }\n",
       "\n",
       "    .dataframe thead th {\n",
       "        text-align: right;\n",
       "    }\n",
       "</style>\n",
       "<table border=\"1\" class=\"dataframe\">\n",
       "  <thead>\n",
       "    <tr style=\"text-align: right;\">\n",
       "      <th></th>\n",
       "      <th>pays</th>\n",
       "      <th>capitale</th>\n",
       "      <th>population</th>\n",
       "      <th>date d'adhésion</th>\n",
       "    </tr>\n",
       "  </thead>\n",
       "  <tbody>\n",
       "    <tr>\n",
       "      <th>0</th>\n",
       "      <td>allemagne</td>\n",
       "      <td>berlin</td>\n",
       "      <td>82162000</td>\n",
       "      <td>1957-01-01</td>\n",
       "    </tr>\n",
       "    <tr>\n",
       "      <th>1</th>\n",
       "      <td>autriche</td>\n",
       "      <td>vienne</td>\n",
       "      <td>8700471</td>\n",
       "      <td>1995-01-01</td>\n",
       "    </tr>\n",
       "    <tr>\n",
       "      <th>2</th>\n",
       "      <td>belgique</td>\n",
       "      <td>bruxelles</td>\n",
       "      <td>11289853</td>\n",
       "      <td>1957-01-01</td>\n",
       "    </tr>\n",
       "    <tr>\n",
       "      <th>3</th>\n",
       "      <td>bulgarie</td>\n",
       "      <td>sofia</td>\n",
       "      <td>7153784</td>\n",
       "      <td>2007-01-01</td>\n",
       "    </tr>\n",
       "    <tr>\n",
       "      <th>4</th>\n",
       "      <td>chypre</td>\n",
       "      <td>nicosie</td>\n",
       "      <td>848319</td>\n",
       "      <td>2004-01-01</td>\n",
       "    </tr>\n",
       "    <tr>\n",
       "      <th>5</th>\n",
       "      <td>croatie</td>\n",
       "      <td>zagreb</td>\n",
       "      <td>4190669</td>\n",
       "      <td>2013-01-01</td>\n",
       "    </tr>\n",
       "    <tr>\n",
       "      <th>6</th>\n",
       "      <td>danemark</td>\n",
       "      <td>copenhague</td>\n",
       "      <td>5659715</td>\n",
       "      <td>1973-01-01</td>\n",
       "    </tr>\n",
       "    <tr>\n",
       "      <th>7</th>\n",
       "      <td>espagne</td>\n",
       "      <td>madrid</td>\n",
       "      <td>46438422</td>\n",
       "      <td>1986-01-01</td>\n",
       "    </tr>\n",
       "    <tr>\n",
       "      <th>8</th>\n",
       "      <td>estonie</td>\n",
       "      <td>tallinn</td>\n",
       "      <td>1315944</td>\n",
       "      <td>2004-01-01</td>\n",
       "    </tr>\n",
       "    <tr>\n",
       "      <th>9</th>\n",
       "      <td>finlande</td>\n",
       "      <td>helsinki</td>\n",
       "      <td>5401267</td>\n",
       "      <td>1995-01-01</td>\n",
       "    </tr>\n",
       "    <tr>\n",
       "      <th>10</th>\n",
       "      <td>france</td>\n",
       "      <td>paris</td>\n",
       "      <td>66661621</td>\n",
       "      <td>1957-01-01</td>\n",
       "    </tr>\n",
       "    <tr>\n",
       "      <th>11</th>\n",
       "      <td>grèce</td>\n",
       "      <td>athènes</td>\n",
       "      <td>10793526</td>\n",
       "      <td>1981-01-01</td>\n",
       "    </tr>\n",
       "    <tr>\n",
       "      <th>12</th>\n",
       "      <td>hongrie</td>\n",
       "      <td>budapest</td>\n",
       "      <td>9830485</td>\n",
       "      <td>2004-01-01</td>\n",
       "    </tr>\n",
       "    <tr>\n",
       "      <th>13</th>\n",
       "      <td>irlande</td>\n",
       "      <td>dublin</td>\n",
       "      <td>4658530</td>\n",
       "      <td>1973-01-01</td>\n",
       "    </tr>\n",
       "    <tr>\n",
       "      <th>14</th>\n",
       "      <td>italie</td>\n",
       "      <td>rome</td>\n",
       "      <td>60665551</td>\n",
       "      <td>1957-01-01</td>\n",
       "    </tr>\n",
       "    <tr>\n",
       "      <th>15</th>\n",
       "      <td>lettonie</td>\n",
       "      <td>riga</td>\n",
       "      <td>1968957</td>\n",
       "      <td>2004-01-01</td>\n",
       "    </tr>\n",
       "    <tr>\n",
       "      <th>16</th>\n",
       "      <td>lituanie</td>\n",
       "      <td>vilnius</td>\n",
       "      <td>2888558</td>\n",
       "      <td>2004-01-01</td>\n",
       "    </tr>\n",
       "    <tr>\n",
       "      <th>17</th>\n",
       "      <td>luxembourg</td>\n",
       "      <td>luxembourg</td>\n",
       "      <td>576249</td>\n",
       "      <td>1957-01-01</td>\n",
       "    </tr>\n",
       "    <tr>\n",
       "      <th>18</th>\n",
       "      <td>malte</td>\n",
       "      <td>la valette</td>\n",
       "      <td>434403</td>\n",
       "      <td>2004-01-01</td>\n",
       "    </tr>\n",
       "    <tr>\n",
       "      <th>19</th>\n",
       "      <td>pays-bas</td>\n",
       "      <td>amsterdam</td>\n",
       "      <td>16979120</td>\n",
       "      <td>1957-01-01</td>\n",
       "    </tr>\n",
       "    <tr>\n",
       "      <th>20</th>\n",
       "      <td>pologne</td>\n",
       "      <td>varsovie</td>\n",
       "      <td>37967209</td>\n",
       "      <td>2004-01-01</td>\n",
       "    </tr>\n",
       "    <tr>\n",
       "      <th>21</th>\n",
       "      <td>portugal</td>\n",
       "      <td>lisbonne</td>\n",
       "      <td>10341330</td>\n",
       "      <td>1986-01-01</td>\n",
       "    </tr>\n",
       "    <tr>\n",
       "      <th>22</th>\n",
       "      <td>république tchèque</td>\n",
       "      <td>prague</td>\n",
       "      <td>10553853</td>\n",
       "      <td>2004-01-01</td>\n",
       "    </tr>\n",
       "    <tr>\n",
       "      <th>23</th>\n",
       "      <td>roumanie</td>\n",
       "      <td>bucarest</td>\n",
       "      <td>19759968</td>\n",
       "      <td>2007-01-01</td>\n",
       "    </tr>\n",
       "    <tr>\n",
       "      <th>24</th>\n",
       "      <td>slovaquie</td>\n",
       "      <td>bratislava</td>\n",
       "      <td>5426252</td>\n",
       "      <td>2004-01-01</td>\n",
       "    </tr>\n",
       "    <tr>\n",
       "      <th>25</th>\n",
       "      <td>slovénie</td>\n",
       "      <td>ljubljana</td>\n",
       "      <td>2064188</td>\n",
       "      <td>2004-01-01</td>\n",
       "    </tr>\n",
       "    <tr>\n",
       "      <th>26</th>\n",
       "      <td>suède</td>\n",
       "      <td>stockholm</td>\n",
       "      <td>9851017</td>\n",
       "      <td>1995-01-01</td>\n",
       "    </tr>\n",
       "  </tbody>\n",
       "</table>\n",
       "</div>"
      ],
      "text/plain": [
       "                  pays    capitale  population date d'adhésion\n",
       "0            allemagne      berlin    82162000      1957-01-01\n",
       "1             autriche      vienne     8700471      1995-01-01\n",
       "2             belgique   bruxelles    11289853      1957-01-01\n",
       "3             bulgarie       sofia     7153784      2007-01-01\n",
       "4               chypre     nicosie      848319      2004-01-01\n",
       "5              croatie      zagreb     4190669      2013-01-01\n",
       "6             danemark  copenhague     5659715      1973-01-01\n",
       "7              espagne      madrid    46438422      1986-01-01\n",
       "8              estonie     tallinn     1315944      2004-01-01\n",
       "9             finlande    helsinki     5401267      1995-01-01\n",
       "10              france       paris    66661621      1957-01-01\n",
       "11               grèce     athènes    10793526      1981-01-01\n",
       "12             hongrie    budapest     9830485      2004-01-01\n",
       "13             irlande      dublin     4658530      1973-01-01\n",
       "14              italie        rome    60665551      1957-01-01\n",
       "15            lettonie        riga     1968957      2004-01-01\n",
       "16            lituanie     vilnius     2888558      2004-01-01\n",
       "17          luxembourg  luxembourg      576249      1957-01-01\n",
       "18               malte  la valette      434403      2004-01-01\n",
       "19            pays-bas   amsterdam    16979120      1957-01-01\n",
       "20             pologne    varsovie    37967209      2004-01-01\n",
       "21            portugal    lisbonne    10341330      1986-01-01\n",
       "22  république tchèque      prague    10553853      2004-01-01\n",
       "23            roumanie    bucarest    19759968      2007-01-01\n",
       "24           slovaquie  bratislava     5426252      2004-01-01\n",
       "25            slovénie   ljubljana     2064188      2004-01-01\n",
       "26               suède   stockholm     9851017      1995-01-01"
      ]
     },
     "execution_count": 133,
     "metadata": {},
     "output_type": "execute_result"
    }
   ],
   "source": [
    "# Création du DataFrame\n",
    "df_europe = pd.DataFrame(data = dic_europe)\n",
    "\n",
    "# Affichage du DataFrame\n",
    "df_europe"
   ]
  },
  {
   "cell_type": "markdown",
   "metadata": {},
   "source": [
    "On voit que :\n",
    "\n",
    "- les clés du dictionnaire ont été utilisées pour nommer les colonnes du DataFrame,\n",
    "- les listes ont été utilisées pour remplir chaque colonne\n",
    "- les lignes sont étiquetées, par défaut avec des entiers à partir de l'indice 0 (mais il est possible d'utiliser d'autres types pour les étiquettes, comme pour les clés d'un dictionnaire, ce que nous verrons au paragraphe sur l'objet *index*)\n",
    "\n",
    "Nous pouvons vérifier le type du DataFrame avec la fonction `type()` :"
   ]
  },
  {
   "cell_type": "code",
   "execution_count": 134,
   "metadata": {
    "tags": []
   },
   "outputs": [
    {
     "name": "stdout",
     "output_type": "stream",
     "text": [
      "<class 'pandas.core.frame.DataFrame'>\n"
     ]
    }
   ],
   "source": [
    "# Affichage du type\n",
    "print(type(df_europe))"
   ]
  },
  {
   "cell_type": "markdown",
   "metadata": {},
   "source": [
    "Les attributs de DataFrame sont :\n",
    "\n",
    "| Attributs | Description\n",
    "|--|--\n",
    "| `ndim` | nombre de dimensions\n",
    "| `shape` | forme, nombre d'éléments dans chaque dimension\n",
    "| `size` | nombre d'éléments"
   ]
  },
  {
   "cell_type": "code",
   "execution_count": 135,
   "metadata": {
    "tags": []
   },
   "outputs": [
    {
     "name": "stdout",
     "output_type": "stream",
     "text": [
      "ndim : 2\n",
      "shape : (27, 4)\n",
      "size : 108\n"
     ]
    }
   ],
   "source": [
    "print('ndim :', df_europe.ndim)\n",
    "print('shape :', df_europe.shape)\n",
    "print('size :', df_europe.size)"
   ]
  },
  {
   "cell_type": "markdown",
   "metadata": {},
   "source": [
    "Les DataFrame contiennent parfois beaucoup de lignes. On peut afficher seulement les premières ou dernières lignes avec les méthodes `head()` et `tail()` :"
   ]
  },
  {
   "cell_type": "code",
   "execution_count": 136,
   "metadata": {},
   "outputs": [
    {
     "data": {
      "text/html": [
       "<div>\n",
       "<style scoped>\n",
       "    .dataframe tbody tr th:only-of-type {\n",
       "        vertical-align: middle;\n",
       "    }\n",
       "\n",
       "    .dataframe tbody tr th {\n",
       "        vertical-align: top;\n",
       "    }\n",
       "\n",
       "    .dataframe thead th {\n",
       "        text-align: right;\n",
       "    }\n",
       "</style>\n",
       "<table border=\"1\" class=\"dataframe\">\n",
       "  <thead>\n",
       "    <tr style=\"text-align: right;\">\n",
       "      <th></th>\n",
       "      <th>pays</th>\n",
       "      <th>capitale</th>\n",
       "      <th>population</th>\n",
       "      <th>date d'adhésion</th>\n",
       "    </tr>\n",
       "  </thead>\n",
       "  <tbody>\n",
       "    <tr>\n",
       "      <th>0</th>\n",
       "      <td>allemagne</td>\n",
       "      <td>berlin</td>\n",
       "      <td>82162000</td>\n",
       "      <td>1957-01-01</td>\n",
       "    </tr>\n",
       "    <tr>\n",
       "      <th>1</th>\n",
       "      <td>autriche</td>\n",
       "      <td>vienne</td>\n",
       "      <td>8700471</td>\n",
       "      <td>1995-01-01</td>\n",
       "    </tr>\n",
       "  </tbody>\n",
       "</table>\n",
       "</div>"
      ],
      "text/plain": [
       "        pays capitale  population date d'adhésion\n",
       "0  allemagne   berlin    82162000      1957-01-01\n",
       "1   autriche   vienne     8700471      1995-01-01"
      ]
     },
     "execution_count": 136,
     "metadata": {},
     "output_type": "execute_result"
    }
   ],
   "source": [
    "# Afficher les 2 premières lignes\n",
    "df_europe.head(n = 2)"
   ]
  },
  {
   "cell_type": "code",
   "execution_count": 137,
   "metadata": {},
   "outputs": [
    {
     "data": {
      "text/html": [
       "<div>\n",
       "<style scoped>\n",
       "    .dataframe tbody tr th:only-of-type {\n",
       "        vertical-align: middle;\n",
       "    }\n",
       "\n",
       "    .dataframe tbody tr th {\n",
       "        vertical-align: top;\n",
       "    }\n",
       "\n",
       "    .dataframe thead th {\n",
       "        text-align: right;\n",
       "    }\n",
       "</style>\n",
       "<table border=\"1\" class=\"dataframe\">\n",
       "  <thead>\n",
       "    <tr style=\"text-align: right;\">\n",
       "      <th></th>\n",
       "      <th>pays</th>\n",
       "      <th>capitale</th>\n",
       "      <th>population</th>\n",
       "      <th>date d'adhésion</th>\n",
       "    </tr>\n",
       "  </thead>\n",
       "  <tbody>\n",
       "    <tr>\n",
       "      <th>25</th>\n",
       "      <td>slovénie</td>\n",
       "      <td>ljubljana</td>\n",
       "      <td>2064188</td>\n",
       "      <td>2004-01-01</td>\n",
       "    </tr>\n",
       "    <tr>\n",
       "      <th>26</th>\n",
       "      <td>suède</td>\n",
       "      <td>stockholm</td>\n",
       "      <td>9851017</td>\n",
       "      <td>1995-01-01</td>\n",
       "    </tr>\n",
       "  </tbody>\n",
       "</table>\n",
       "</div>"
      ],
      "text/plain": [
       "        pays   capitale  population date d'adhésion\n",
       "25  slovénie  ljubljana     2064188      2004-01-01\n",
       "26     suède  stockholm     9851017      1995-01-01"
      ]
     },
     "execution_count": 137,
     "metadata": {},
     "output_type": "execute_result"
    }
   ],
   "source": [
    "# Afficher les 2 dernières lignes\n",
    "df_europe.tail(n = 2)"
   ]
  },
  {
   "cell_type": "markdown",
   "metadata": {},
   "source": [
    "## L'objet *Series*"
   ]
  },
  {
   "cell_type": "markdown",
   "metadata": {},
   "source": [
    "Il est possible d'extraire une colonne en mettant en indice le nom de la colonne :"
   ]
  },
  {
   "cell_type": "code",
   "execution_count": 138,
   "metadata": {
    "tags": []
   },
   "outputs": [
    {
     "name": "stdout",
     "output_type": "stream",
     "text": [
      "0              allemagne\n",
      "1               autriche\n",
      "2               belgique\n",
      "3               bulgarie\n",
      "4                 chypre\n",
      "5                croatie\n",
      "6               danemark\n",
      "7                espagne\n",
      "8                estonie\n",
      "9               finlande\n",
      "10                france\n",
      "11                 grèce\n",
      "12               hongrie\n",
      "13               irlande\n",
      "14                italie\n",
      "15              lettonie\n",
      "16              lituanie\n",
      "17            luxembourg\n",
      "18                 malte\n",
      "19              pays-bas\n",
      "20               pologne\n",
      "21              portugal\n",
      "22    république tchèque\n",
      "23              roumanie\n",
      "24             slovaquie\n",
      "25              slovénie\n",
      "26                 suède\n",
      "Name: pays, dtype: object\n"
     ]
    }
   ],
   "source": [
    "# Extraire la colonne pays du DataFrame\n",
    "col_pays = df_europe['pays']\n",
    "\n",
    "# Ou de manière similaire\n",
    "col_pays = df_europe.pays\n",
    "\n",
    "# Affichage\n",
    "print(col_pays)"
   ]
  },
  {
   "cell_type": "markdown",
   "metadata": {},
   "source": [
    "On voit que l'on a extrait la colonne mais aussi les étiquettes des lignes et d'autres informations telles que l'étiquette de la colonne. Une colonne extraite de cette manière est un objet **Series** de Pandas : "
   ]
  },
  {
   "cell_type": "code",
   "execution_count": 139,
   "metadata": {
    "tags": []
   },
   "outputs": [
    {
     "name": "stdout",
     "output_type": "stream",
     "text": [
      "<class 'pandas.core.series.Series'>\n"
     ]
    }
   ],
   "source": [
    "print(type(col_pays))"
   ]
  },
  {
   "cell_type": "markdown",
   "metadata": {},
   "source": [
    "On accède aux valeurs d'un objet *Series* de la même manière qu'un dictionnaire, c'est-à-dire en écrivant l'étiquette en indice de l'objet :"
   ]
  },
  {
   "cell_type": "code",
   "execution_count": 140,
   "metadata": {
    "tags": []
   },
   "outputs": [
    {
     "name": "stdout",
     "output_type": "stream",
     "text": [
      "roumanie\n"
     ]
    }
   ],
   "source": [
    "# Afficher la valeur de la \"Series\" col_pays correspondant a l'étiquette 23\n",
    "print(col_pays[23])"
   ]
  },
  {
   "cell_type": "markdown",
   "metadata": {},
   "source": [
    "Pour accéder à une ligne, il faut utiliser un *accesseur* `.loc[]` :"
   ]
  },
  {
   "cell_type": "code",
   "execution_count": 141,
   "metadata": {
    "tags": []
   },
   "outputs": [
    {
     "name": "stdout",
     "output_type": "stream",
     "text": [
      "pays                          roumanie\n",
      "capitale                      bucarest\n",
      "population                    19759968\n",
      "date d'adhésion    2007-01-01 00:00:00\n",
      "Name: 23, dtype: object\n"
     ]
    }
   ],
   "source": [
    "# Extraire la ligne 23 du DataFrame\n",
    "ligne_23 = df_europe.loc[23]\n",
    "\n",
    "# Affichage\n",
    "print(ligne_23)"
   ]
  },
  {
   "cell_type": "markdown",
   "metadata": {},
   "source": [
    "Une ligne extraite de cette façon est aussi un objet *Series* :"
   ]
  },
  {
   "cell_type": "code",
   "execution_count": 142,
   "metadata": {},
   "outputs": [
    {
     "data": {
      "text/plain": [
       "pandas.core.series.Series"
      ]
     },
     "execution_count": 142,
     "metadata": {},
     "output_type": "execute_result"
    }
   ],
   "source": [
    "type(ligne_23)"
   ]
  },
  {
   "cell_type": "markdown",
   "metadata": {},
   "source": [
    "Les noms des colonnes ont été utilisés pour étiqueter les lignes de ce nouvel objet, et l'étiquette de la ligne a été utilisée pour nommer l'objet."
   ]
  },
  {
   "cell_type": "markdown",
   "metadata": {},
   "source": [
    "### Exercice\n",
    "\n",
    "1. Créer un objet *Series* contenant la colonne date d'adhésion\n",
    "2. Créer un objet *Series* contenant la ligne 12"
   ]
  },
  {
   "cell_type": "code",
   "execution_count": 143,
   "metadata": {},
   "outputs": [
    {
     "name": "stdout",
     "output_type": "stream",
     "text": [
      "<class 'pandas.core.series.Series'>\n"
     ]
    }
   ],
   "source": [
    "col_date_adhesion = df_europe[\"date d'adhésion\"]\n",
    "\n",
    "print(type(col_date_adhesion))"
   ]
  },
  {
   "cell_type": "code",
   "execution_count": 144,
   "metadata": {},
   "outputs": [
    {
     "name": "stdout",
     "output_type": "stream",
     "text": [
      "pays                           hongrie\n",
      "capitale                      budapest\n",
      "population                     9830485\n",
      "date d'adhésion    2004-01-01 00:00:00\n",
      "Name: 12, dtype: object\n"
     ]
    }
   ],
   "source": [
    "ligne_12 = df_europe.loc[12]\n",
    "print(ligne_12)"
   ]
  },
  {
   "cell_type": "markdown",
   "metadata": {},
   "source": [
    "## L'objet *Index*\n",
    "\n",
    "On peut extraire les étiquettes des lignes et des colonnes avec `.index` et `.columns` :"
   ]
  },
  {
   "cell_type": "code",
   "execution_count": 145,
   "metadata": {
    "tags": []
   },
   "outputs": [
    {
     "name": "stdout",
     "output_type": "stream",
     "text": [
      "RangeIndex(start=0, stop=27, step=1)\n"
     ]
    }
   ],
   "source": [
    "# Étiquettes des lignes\n",
    "print(df_europe.index)"
   ]
  },
  {
   "cell_type": "code",
   "execution_count": 146,
   "metadata": {
    "tags": []
   },
   "outputs": [
    {
     "name": "stdout",
     "output_type": "stream",
     "text": [
      "Index(['pays', 'capitale', 'population', 'date d'adhésion'], dtype='object')\n"
     ]
    }
   ],
   "source": [
    "# Étiquette des lignes\n",
    "print(df_europe.columns)"
   ]
  },
  {
   "cell_type": "markdown",
   "metadata": {},
   "source": [
    "Ces étiquettes sont des objet Pandas appelés **Index**. Ce sont des tableaux Numpy *immuables*, c'est-à-dire qu'on ne peut pas modifier leurs éléments.\n",
    "\n",
    "On peut par contre changer un *index* entier :"
   ]
  },
  {
   "cell_type": "code",
   "execution_count": 147,
   "metadata": {
    "tags": []
   },
   "outputs": [
    {
     "data": {
      "text/html": [
       "<div>\n",
       "<style scoped>\n",
       "    .dataframe tbody tr th:only-of-type {\n",
       "        vertical-align: middle;\n",
       "    }\n",
       "\n",
       "    .dataframe tbody tr th {\n",
       "        vertical-align: top;\n",
       "    }\n",
       "\n",
       "    .dataframe thead th {\n",
       "        text-align: right;\n",
       "    }\n",
       "</style>\n",
       "<table border=\"1\" class=\"dataframe\">\n",
       "  <thead>\n",
       "    <tr style=\"text-align: right;\">\n",
       "      <th></th>\n",
       "      <th>pays</th>\n",
       "      <th>capitale</th>\n",
       "      <th>population</th>\n",
       "      <th>date d'adhésion</th>\n",
       "    </tr>\n",
       "  </thead>\n",
       "  <tbody>\n",
       "    <tr>\n",
       "      <th>1</th>\n",
       "      <td>allemagne</td>\n",
       "      <td>berlin</td>\n",
       "      <td>82162000</td>\n",
       "      <td>1957-01-01</td>\n",
       "    </tr>\n",
       "  </tbody>\n",
       "</table>\n",
       "</div>"
      ],
      "text/plain": [
       "        pays capitale  population date d'adhésion\n",
       "1  allemagne   berlin    82162000      1957-01-01"
      ]
     },
     "execution_count": 147,
     "metadata": {},
     "output_type": "execute_result"
    }
   ],
   "source": [
    "# Modifier les étiquettes des lignes du DataFrame en les faisant commencer à 1\n",
    "df_europe.index = np.arange(1, 28)\n",
    "\n",
    "# Afficher la premiere ligne\n",
    "df_europe.head(n = 1)"
   ]
  },
  {
   "cell_type": "markdown",
   "metadata": {},
   "source": [
    "## Accéder et modifier les données\n",
    "\n",
    "On peut accéder aux données du DataFrame pour les extraire ou les modifier grâce à des **accesseurs** :\n",
    "\n",
    "| Accesseur | Description\n",
    "|--|--\n",
    "| `.loc[]`  | accepte les étiquettes des lignes ou colonnes et retourne un objet *Series* ou *DataFrame*\n",
    "| `.iloc[]` | accepte les indices des lignes ou colonnes et retourne un objet *Series* ou *DataFrame*\n",
    "| `.at[]`   | accepte les étiquettes des lignes ou colonnes et retourne une valeur unique\n",
    "| `.iat[]`  | accepte les indices des lignes ou colonnes et retourne une valeur unique\n",
    "\n",
    "Comme pour les tableaux Numpy, les accesseurs supportent l'indexation et le tranchage. Voyons quelques exemples :"
   ]
  },
  {
   "cell_type": "code",
   "execution_count": 148,
   "metadata": {
    "tags": []
   },
   "outputs": [
    {
     "name": "stdout",
     "output_type": "stream",
     "text": [
      "1       berlin\n",
      "2       vienne\n",
      "3    bruxelles\n",
      "4        sofia\n",
      "Name: capitale, dtype: object\n"
     ]
    }
   ],
   "source": [
    "# Extraire les capitales des 3 premiers pays\n",
    "print(df_europe.loc[1:4, 'capitale'])"
   ]
  },
  {
   "cell_type": "markdown",
   "metadata": {},
   "source": [
    "Attention, avec `.loc[]` on a utilisé les étiquettes des lignes, décalées de 1 par rapport à leur indice. Pour extraire le  même objet *Series* avec `iloc[]`, on écrira :"
   ]
  },
  {
   "cell_type": "code",
   "execution_count": 149,
   "metadata": {
    "tags": []
   },
   "outputs": [
    {
     "name": "stdout",
     "output_type": "stream",
     "text": [
      "1       berlin\n",
      "2       vienne\n",
      "3    bruxelles\n",
      "4        sofia\n",
      "Name: capitale, dtype: object\n"
     ]
    }
   ],
   "source": [
    "# Extraire les capitales des 3 premiers pays\n",
    "print(df_europe.iloc[0:4, 1])"
   ]
  },
  {
   "cell_type": "markdown",
   "metadata": {},
   "source": [
    "Note :\n",
    "- lorsqu'on accède par étiquettes, la notation m:n signifie $[m,n]$,\n",
    "- lorsqu'on accède par indices, la notation m:n signifie $[m,n[$.\n",
    "\n",
    "Attention aux erreurs !"
   ]
  },
  {
   "cell_type": "markdown",
   "metadata": {},
   "source": [
    "Comme pour les tableaux Numpy, on peut trancher en fournissant une liste : "
   ]
  },
  {
   "cell_type": "code",
   "execution_count": 150,
   "metadata": {
    "tags": []
   },
   "outputs": [
    {
     "data": {
      "text/html": [
       "<div>\n",
       "<style scoped>\n",
       "    .dataframe tbody tr th:only-of-type {\n",
       "        vertical-align: middle;\n",
       "    }\n",
       "\n",
       "    .dataframe tbody tr th {\n",
       "        vertical-align: top;\n",
       "    }\n",
       "\n",
       "    .dataframe thead th {\n",
       "        text-align: right;\n",
       "    }\n",
       "</style>\n",
       "<table border=\"1\" class=\"dataframe\">\n",
       "  <thead>\n",
       "    <tr style=\"text-align: right;\">\n",
       "      <th></th>\n",
       "      <th>pays</th>\n",
       "      <th>population</th>\n",
       "    </tr>\n",
       "  </thead>\n",
       "  <tbody>\n",
       "    <tr>\n",
       "      <th>3</th>\n",
       "      <td>belgique</td>\n",
       "      <td>11289853</td>\n",
       "    </tr>\n",
       "    <tr>\n",
       "      <th>4</th>\n",
       "      <td>bulgarie</td>\n",
       "      <td>7153784</td>\n",
       "    </tr>\n",
       "    <tr>\n",
       "      <th>5</th>\n",
       "      <td>chypre</td>\n",
       "      <td>848319</td>\n",
       "    </tr>\n",
       "    <tr>\n",
       "      <th>6</th>\n",
       "      <td>croatie</td>\n",
       "      <td>4190669</td>\n",
       "    </tr>\n",
       "    <tr>\n",
       "      <th>7</th>\n",
       "      <td>danemark</td>\n",
       "      <td>5659715</td>\n",
       "    </tr>\n",
       "  </tbody>\n",
       "</table>\n",
       "</div>"
      ],
      "text/plain": [
       "       pays  population\n",
       "3  belgique    11289853\n",
       "4  bulgarie     7153784\n",
       "5    chypre      848319\n",
       "6   croatie     4190669\n",
       "7  danemark     5659715"
      ]
     },
     "execution_count": 150,
     "metadata": {},
     "output_type": "execute_result"
    }
   ],
   "source": [
    "# Extraire les noms et les populations des pays 3 à 7\n",
    "df_europe.loc[3:7, ['pays', 'population']]"
   ]
  },
  {
   "cell_type": "markdown",
   "metadata": {},
   "source": [
    "Avec l'accesseur `iloc[]` on écrira :"
   ]
  },
  {
   "cell_type": "code",
   "execution_count": 151,
   "metadata": {
    "tags": []
   },
   "outputs": [
    {
     "data": {
      "text/html": [
       "<div>\n",
       "<style scoped>\n",
       "    .dataframe tbody tr th:only-of-type {\n",
       "        vertical-align: middle;\n",
       "    }\n",
       "\n",
       "    .dataframe tbody tr th {\n",
       "        vertical-align: top;\n",
       "    }\n",
       "\n",
       "    .dataframe thead th {\n",
       "        text-align: right;\n",
       "    }\n",
       "</style>\n",
       "<table border=\"1\" class=\"dataframe\">\n",
       "  <thead>\n",
       "    <tr style=\"text-align: right;\">\n",
       "      <th></th>\n",
       "      <th>pays</th>\n",
       "      <th>population</th>\n",
       "    </tr>\n",
       "  </thead>\n",
       "  <tbody>\n",
       "    <tr>\n",
       "      <th>3</th>\n",
       "      <td>belgique</td>\n",
       "      <td>11289853</td>\n",
       "    </tr>\n",
       "    <tr>\n",
       "      <th>4</th>\n",
       "      <td>bulgarie</td>\n",
       "      <td>7153784</td>\n",
       "    </tr>\n",
       "    <tr>\n",
       "      <th>5</th>\n",
       "      <td>chypre</td>\n",
       "      <td>848319</td>\n",
       "    </tr>\n",
       "    <tr>\n",
       "      <th>6</th>\n",
       "      <td>croatie</td>\n",
       "      <td>4190669</td>\n",
       "    </tr>\n",
       "    <tr>\n",
       "      <th>7</th>\n",
       "      <td>danemark</td>\n",
       "      <td>5659715</td>\n",
       "    </tr>\n",
       "  </tbody>\n",
       "</table>\n",
       "</div>"
      ],
      "text/plain": [
       "       pays  population\n",
       "3  belgique    11289853\n",
       "4  bulgarie     7153784\n",
       "5    chypre      848319\n",
       "6   croatie     4190669\n",
       "7  danemark     5659715"
      ]
     },
     "execution_count": 151,
     "metadata": {},
     "output_type": "execute_result"
    }
   ],
   "source": [
    "# Extraire les noms et les populations des pays 3 à 7\n",
    "df_europe.iloc[2:7, [0, 2]]"
   ]
  },
  {
   "cell_type": "markdown",
   "metadata": {},
   "source": [
    "Pour accéder à une valeur en particulier :"
   ]
  },
  {
   "cell_type": "code",
   "execution_count": 152,
   "metadata": {
    "tags": []
   },
   "outputs": [
    {
     "name": "stdout",
     "output_type": "stream",
     "text": [
      "république tchèque\n",
      "république tchèque\n"
     ]
    }
   ],
   "source": [
    "# Nom du pays 23\n",
    "print(df_europe.at[23, 'pays'])\n",
    "\n",
    "# Ou avec les indices\n",
    "print(df_europe.iat[22, 0])"
   ]
  },
  {
   "cell_type": "markdown",
   "metadata": {},
   "source": [
    "### Exercice\n",
    "\n",
    "1. Extraire les date d'adhésion des pays avec les étiquettes 12 et 25\n",
    "2. Extraire la population du pays avec l'étiquette 6"
   ]
  },
  {
   "cell_type": "code",
   "execution_count": 153,
   "metadata": {},
   "outputs": [
    {
     "data": {
      "text/plain": [
       "12   2004-01-01\n",
       "13   1973-01-01\n",
       "14   1957-01-01\n",
       "15   2004-01-01\n",
       "16   2004-01-01\n",
       "17   1957-01-01\n",
       "18   2004-01-01\n",
       "19   1957-01-01\n",
       "20   2004-01-01\n",
       "21   1986-01-01\n",
       "22   2004-01-01\n",
       "23   2007-01-01\n",
       "24   2004-01-01\n",
       "25   2004-01-01\n",
       "Name: date d'adhésion, dtype: datetime64[ns]"
      ]
     },
     "execution_count": 153,
     "metadata": {},
     "output_type": "execute_result"
    }
   ],
   "source": [
    "col_date_adhesion.loc[12:25]"
   ]
  },
  {
   "cell_type": "code",
   "execution_count": 154,
   "metadata": {},
   "outputs": [
    {
     "name": "stdout",
     "output_type": "stream",
     "text": [
      "Int64Index([ 1,  2,  3,  4,  5,  6,  7,  8,  9, 10, 11, 12, 13, 14, 15, 16, 17,\n",
      "            18, 19, 20, 21, 22, 23, 24, 25, 26, 27],\n",
      "           dtype='int64')\n"
     ]
    }
   ],
   "source": [
    "print(df_europe.index)"
   ]
  },
  {
   "cell_type": "code",
   "execution_count": 155,
   "metadata": {},
   "outputs": [
    {
     "data": {
      "text/html": [
       "<div>\n",
       "<style scoped>\n",
       "    .dataframe tbody tr th:only-of-type {\n",
       "        vertical-align: middle;\n",
       "    }\n",
       "\n",
       "    .dataframe tbody tr th {\n",
       "        vertical-align: top;\n",
       "    }\n",
       "\n",
       "    .dataframe thead th {\n",
       "        text-align: right;\n",
       "    }\n",
       "</style>\n",
       "<table border=\"1\" class=\"dataframe\">\n",
       "  <thead>\n",
       "    <tr style=\"text-align: right;\">\n",
       "      <th></th>\n",
       "      <th>population</th>\n",
       "    </tr>\n",
       "  </thead>\n",
       "  <tbody>\n",
       "    <tr>\n",
       "      <th>1</th>\n",
       "      <td>82162000</td>\n",
       "    </tr>\n",
       "    <tr>\n",
       "      <th>2</th>\n",
       "      <td>8700471</td>\n",
       "    </tr>\n",
       "    <tr>\n",
       "      <th>3</th>\n",
       "      <td>11289853</td>\n",
       "    </tr>\n",
       "    <tr>\n",
       "      <th>4</th>\n",
       "      <td>7153784</td>\n",
       "    </tr>\n",
       "    <tr>\n",
       "      <th>5</th>\n",
       "      <td>848319</td>\n",
       "    </tr>\n",
       "    <tr>\n",
       "      <th>6</th>\n",
       "      <td>4190669</td>\n",
       "    </tr>\n",
       "    <tr>\n",
       "      <th>7</th>\n",
       "      <td>5659715</td>\n",
       "    </tr>\n",
       "    <tr>\n",
       "      <th>8</th>\n",
       "      <td>46438422</td>\n",
       "    </tr>\n",
       "    <tr>\n",
       "      <th>9</th>\n",
       "      <td>1315944</td>\n",
       "    </tr>\n",
       "    <tr>\n",
       "      <th>10</th>\n",
       "      <td>5401267</td>\n",
       "    </tr>\n",
       "    <tr>\n",
       "      <th>11</th>\n",
       "      <td>66661621</td>\n",
       "    </tr>\n",
       "    <tr>\n",
       "      <th>12</th>\n",
       "      <td>10793526</td>\n",
       "    </tr>\n",
       "    <tr>\n",
       "      <th>13</th>\n",
       "      <td>9830485</td>\n",
       "    </tr>\n",
       "    <tr>\n",
       "      <th>14</th>\n",
       "      <td>4658530</td>\n",
       "    </tr>\n",
       "    <tr>\n",
       "      <th>15</th>\n",
       "      <td>60665551</td>\n",
       "    </tr>\n",
       "    <tr>\n",
       "      <th>16</th>\n",
       "      <td>1968957</td>\n",
       "    </tr>\n",
       "    <tr>\n",
       "      <th>17</th>\n",
       "      <td>2888558</td>\n",
       "    </tr>\n",
       "    <tr>\n",
       "      <th>18</th>\n",
       "      <td>576249</td>\n",
       "    </tr>\n",
       "    <tr>\n",
       "      <th>19</th>\n",
       "      <td>434403</td>\n",
       "    </tr>\n",
       "    <tr>\n",
       "      <th>20</th>\n",
       "      <td>16979120</td>\n",
       "    </tr>\n",
       "    <tr>\n",
       "      <th>21</th>\n",
       "      <td>37967209</td>\n",
       "    </tr>\n",
       "    <tr>\n",
       "      <th>22</th>\n",
       "      <td>10341330</td>\n",
       "    </tr>\n",
       "    <tr>\n",
       "      <th>23</th>\n",
       "      <td>10553853</td>\n",
       "    </tr>\n",
       "    <tr>\n",
       "      <th>24</th>\n",
       "      <td>19759968</td>\n",
       "    </tr>\n",
       "    <tr>\n",
       "      <th>25</th>\n",
       "      <td>5426252</td>\n",
       "    </tr>\n",
       "    <tr>\n",
       "      <th>26</th>\n",
       "      <td>2064188</td>\n",
       "    </tr>\n",
       "    <tr>\n",
       "      <th>27</th>\n",
       "      <td>9851017</td>\n",
       "    </tr>\n",
       "  </tbody>\n",
       "</table>\n",
       "</div>"
      ],
      "text/plain": [
       "    population\n",
       "1     82162000\n",
       "2      8700471\n",
       "3     11289853\n",
       "4      7153784\n",
       "5       848319\n",
       "6      4190669\n",
       "7      5659715\n",
       "8     46438422\n",
       "9      1315944\n",
       "10     5401267\n",
       "11    66661621\n",
       "12    10793526\n",
       "13     9830485\n",
       "14     4658530\n",
       "15    60665551\n",
       "16     1968957\n",
       "17     2888558\n",
       "18      576249\n",
       "19      434403\n",
       "20    16979120\n",
       "21    37967209\n",
       "22    10341330\n",
       "23    10553853\n",
       "24    19759968\n",
       "25     5426252\n",
       "26     2064188\n",
       "27     9851017"
      ]
     },
     "execution_count": 155,
     "metadata": {},
     "output_type": "execute_result"
    }
   ],
   "source": [
    "df_europe.iloc[:, [2]]"
   ]
  },
  {
   "cell_type": "markdown",
   "metadata": {},
   "source": [
    "## Insérer et supprimer des données\n",
    "\n",
    "Pour insérer une nouvelle ligne, on peut créer un objet *Series* et l'ajouter au DataFrame avec la méthode `.append()`. Supposons que la Turquie joigne l'Union Européenne en 2026 :"
   ]
  },
  {
   "cell_type": "code",
   "execution_count": 156,
   "metadata": {
    "tags": []
   },
   "outputs": [
    {
     "name": "stdout",
     "output_type": "stream",
     "text": [
      "pays                turquie\n",
      "capitale             ankara\n",
      "population         83154997\n",
      "date d'adhésion        2026\n",
      "Name: 28, dtype: object\n"
     ]
    }
   ],
   "source": [
    "# Création de l'objet Series\n",
    "ligne_turquie = pd.Series(data = ['turquie', 'ankara', 83154997, np.datetime64('2026', 'Y')], \n",
    "                          index = df_europe.columns, name = 28)\n",
    "\n",
    "# name c'est pour donner un name de colonne ou ID\n",
    "\n",
    "# Affichage\n",
    "print(ligne_turquie)"
   ]
  },
  {
   "cell_type": "code",
   "execution_count": 157,
   "metadata": {},
   "outputs": [
    {
     "name": "stdout",
     "output_type": "stream",
     "text": [
      "Index(['pays', 'capitale', 'population', 'date d'adhésion'], dtype='object')\n"
     ]
    }
   ],
   "source": [
    "# en supposant un pays hors de l'europe\n",
    "ligne_co = pd.Series(data = ['colombie', 'bogota', 8123213, np.datetime64('2022', 'Y')], \n",
    "                     index=df_europe.columns, name=29)\n",
    "    \n",
    "print(df_europe.columns)"
   ]
  },
  {
   "cell_type": "code",
   "execution_count": 158,
   "metadata": {
    "tags": []
   },
   "outputs": [
    {
     "data": {
      "text/html": [
       "<div>\n",
       "<style scoped>\n",
       "    .dataframe tbody tr th:only-of-type {\n",
       "        vertical-align: middle;\n",
       "    }\n",
       "\n",
       "    .dataframe tbody tr th {\n",
       "        vertical-align: top;\n",
       "    }\n",
       "\n",
       "    .dataframe thead th {\n",
       "        text-align: right;\n",
       "    }\n",
       "</style>\n",
       "<table border=\"1\" class=\"dataframe\">\n",
       "  <thead>\n",
       "    <tr style=\"text-align: right;\">\n",
       "      <th></th>\n",
       "      <th>pays</th>\n",
       "      <th>capitale</th>\n",
       "      <th>population</th>\n",
       "      <th>date d'adhésion</th>\n",
       "    </tr>\n",
       "  </thead>\n",
       "  <tbody>\n",
       "    <tr>\n",
       "      <th>27</th>\n",
       "      <td>suède</td>\n",
       "      <td>stockholm</td>\n",
       "      <td>9851017</td>\n",
       "      <td>1995-01-01</td>\n",
       "    </tr>\n",
       "    <tr>\n",
       "      <th>28</th>\n",
       "      <td>turquie</td>\n",
       "      <td>ankara</td>\n",
       "      <td>83154997</td>\n",
       "      <td>2026-01-01</td>\n",
       "    </tr>\n",
       "  </tbody>\n",
       "</table>\n",
       "</div>"
      ],
      "text/plain": [
       "       pays   capitale  population date d'adhésion\n",
       "27    suède  stockholm     9851017      1995-01-01\n",
       "28  turquie     ankara    83154997      2026-01-01"
      ]
     },
     "execution_count": 158,
     "metadata": {},
     "output_type": "execute_result"
    }
   ],
   "source": [
    "# Ajout de la ligne à l'objet DataFrame\n",
    "df_europe = df_europe.append(ligne_turquie)\n",
    "\n",
    "# Affichage des 2 dernières lignes\n",
    "df_europe.tail(n = 2)"
   ]
  },
  {
   "cell_type": "code",
   "execution_count": 159,
   "metadata": {},
   "outputs": [
    {
     "data": {
      "text/html": [
       "<div>\n",
       "<style scoped>\n",
       "    .dataframe tbody tr th:only-of-type {\n",
       "        vertical-align: middle;\n",
       "    }\n",
       "\n",
       "    .dataframe tbody tr th {\n",
       "        vertical-align: top;\n",
       "    }\n",
       "\n",
       "    .dataframe thead th {\n",
       "        text-align: right;\n",
       "    }\n",
       "</style>\n",
       "<table border=\"1\" class=\"dataframe\">\n",
       "  <thead>\n",
       "    <tr style=\"text-align: right;\">\n",
       "      <th></th>\n",
       "      <th>pays</th>\n",
       "      <th>capitale</th>\n",
       "      <th>population</th>\n",
       "      <th>date d'adhésion</th>\n",
       "    </tr>\n",
       "  </thead>\n",
       "  <tbody>\n",
       "    <tr>\n",
       "      <th>28</th>\n",
       "      <td>turquie</td>\n",
       "      <td>ankara</td>\n",
       "      <td>83154997</td>\n",
       "      <td>2026-01-01</td>\n",
       "    </tr>\n",
       "    <tr>\n",
       "      <th>29</th>\n",
       "      <td>colombie</td>\n",
       "      <td>bogota</td>\n",
       "      <td>8123213</td>\n",
       "      <td>2022-01-01</td>\n",
       "    </tr>\n",
       "  </tbody>\n",
       "</table>\n",
       "</div>"
      ],
      "text/plain": [
       "        pays capitale  population date d'adhésion\n",
       "28   turquie   ankara    83154997      2026-01-01\n",
       "29  colombie   bogota     8123213      2022-01-01"
      ]
     },
     "execution_count": 159,
     "metadata": {},
     "output_type": "execute_result"
    }
   ],
   "source": [
    "# Ajout de la ligne à l'objet DataFrame\n",
    "df_europe = df_europe.append(ligne_co)\n",
    "\n",
    "# Affichage des 2 dernières lignes\n",
    "df_europe.tail(n = 2)"
   ]
  },
  {
   "cell_type": "markdown",
   "metadata": {},
   "source": [
    "Plusieurs remarques :\n",
    "- Pour créer l'objet *Series* on a utilisé l'option `index` pour nommer les colonnes, et l'option `name` pour lui donner un nom\n",
    "- L'étiquette de la nouvelle ligne de l'objet DataFrame est le nom de l'objet Series\n",
    "- On aurait pu ignorer ce nom en utilisant l'option de la méthode `append()` : `ignore_index = True`\n",
    "\n",
    "La méthode `.drop()` permet de supprimer des lignes :"
   ]
  },
  {
   "cell_type": "code",
   "execution_count": 160,
   "metadata": {
    "tags": []
   },
   "outputs": [
    {
     "data": {
      "text/html": [
       "<div>\n",
       "<style scoped>\n",
       "    .dataframe tbody tr th:only-of-type {\n",
       "        vertical-align: middle;\n",
       "    }\n",
       "\n",
       "    .dataframe tbody tr th {\n",
       "        vertical-align: top;\n",
       "    }\n",
       "\n",
       "    .dataframe thead th {\n",
       "        text-align: right;\n",
       "    }\n",
       "</style>\n",
       "<table border=\"1\" class=\"dataframe\">\n",
       "  <thead>\n",
       "    <tr style=\"text-align: right;\">\n",
       "      <th></th>\n",
       "      <th>pays</th>\n",
       "      <th>capitale</th>\n",
       "      <th>population</th>\n",
       "      <th>date d'adhésion</th>\n",
       "    </tr>\n",
       "  </thead>\n",
       "  <tbody>\n",
       "    <tr>\n",
       "      <th>27</th>\n",
       "      <td>suède</td>\n",
       "      <td>stockholm</td>\n",
       "      <td>9851017</td>\n",
       "      <td>1995-01-01</td>\n",
       "    </tr>\n",
       "    <tr>\n",
       "      <th>29</th>\n",
       "      <td>colombie</td>\n",
       "      <td>bogota</td>\n",
       "      <td>8123213</td>\n",
       "      <td>2022-01-01</td>\n",
       "    </tr>\n",
       "  </tbody>\n",
       "</table>\n",
       "</div>"
      ],
      "text/plain": [
       "        pays   capitale  population date d'adhésion\n",
       "27     suède  stockholm     9851017      1995-01-01\n",
       "29  colombie     bogota     8123213      2022-01-01"
      ]
     },
     "execution_count": 160,
     "metadata": {},
     "output_type": "execute_result"
    }
   ],
   "source": [
    "# Supprimer la ligne avec l'étiquette 28\n",
    "df_europe = df_europe.drop([28])\n",
    "\n",
    "# Affichage des 2 dernières lignes\n",
    "df_europe.tail(n = 2)"
   ]
  },
  {
   "cell_type": "code",
   "execution_count": 161,
   "metadata": {},
   "outputs": [],
   "source": [
    "df_europe = df_europe.drop([29]) # remove the line i added"
   ]
  },
  {
   "cell_type": "markdown",
   "metadata": {},
   "source": [
    "Il est beaucoup plus simple d'ajouter une colonne à un DataFrame. On peut le faire de la même manière que l'on ajoute une paire clé-valeur à un dictionnaire. Par exemple, ajoutons la colonne qui donne le nombre de sièges au parlement européen pour chaque pays de l'UE :"
   ]
  },
  {
   "cell_type": "code",
   "execution_count": 162,
   "metadata": {
    "tags": []
   },
   "outputs": [
    {
     "data": {
      "text/html": [
       "<div>\n",
       "<style scoped>\n",
       "    .dataframe tbody tr th:only-of-type {\n",
       "        vertical-align: middle;\n",
       "    }\n",
       "\n",
       "    .dataframe tbody tr th {\n",
       "        vertical-align: top;\n",
       "    }\n",
       "\n",
       "    .dataframe thead th {\n",
       "        text-align: right;\n",
       "    }\n",
       "</style>\n",
       "<table border=\"1\" class=\"dataframe\">\n",
       "  <thead>\n",
       "    <tr style=\"text-align: right;\">\n",
       "      <th></th>\n",
       "      <th>pays</th>\n",
       "      <th>capitale</th>\n",
       "      <th>population</th>\n",
       "      <th>date d'adhésion</th>\n",
       "      <th>sièges</th>\n",
       "    </tr>\n",
       "  </thead>\n",
       "  <tbody>\n",
       "    <tr>\n",
       "      <th>1</th>\n",
       "      <td>allemagne</td>\n",
       "      <td>berlin</td>\n",
       "      <td>82162000</td>\n",
       "      <td>1957-01-01</td>\n",
       "      <td>96</td>\n",
       "    </tr>\n",
       "    <tr>\n",
       "      <th>2</th>\n",
       "      <td>autriche</td>\n",
       "      <td>vienne</td>\n",
       "      <td>8700471</td>\n",
       "      <td>1995-01-01</td>\n",
       "      <td>18</td>\n",
       "    </tr>\n",
       "  </tbody>\n",
       "</table>\n",
       "</div>"
      ],
      "text/plain": [
       "        pays capitale  population date d'adhésion  sièges\n",
       "1  allemagne   berlin    82162000      1957-01-01      96\n",
       "2   autriche   vienne     8700471      1995-01-01      18"
      ]
     },
     "execution_count": 162,
     "metadata": {},
     "output_type": "execute_result"
    }
   ],
   "source": [
    "# Nombre de sièges au parlement\n",
    "np_sieges = np.array([96, 18, 21, 17, 6, 11, 13, 54, 6, 13, 74, 21, 21, 11, 73, 8, 11, 6, 6, 26, 51, 21, 21, 32, 13, 8, 20])\n",
    "\n",
    "# Ajout de la colonne\n",
    "df_europe['sièges'] = np_sieges\n",
    "\n",
    "# Affichage des 2 premières lignes\n",
    "df_europe.head(n = 2)"
   ]
  },
  {
   "cell_type": "markdown",
   "metadata": {},
   "source": [
    "## Opérateurs arithmétiques et fonctions\n",
    "\n",
    "Il est possible d'utiliser les opérateurs arithmétiques usuels et les fonctions Numpy sur les colonnes d'un objet DataFrame. Par exemple, calculons le pourcentage de la population dans chaque pays par rapport à la population totale :"
   ]
  },
  {
   "cell_type": "code",
   "execution_count": 163,
   "metadata": {
    "tags": []
   },
   "outputs": [
    {
     "name": "stdout",
     "output_type": "stream",
     "text": [
      "1     18.480761\n",
      "2      1.957004\n",
      "3      2.539435\n",
      "4      1.609106\n",
      "5      0.190813\n",
      "6      0.942610\n",
      "7      1.273044\n",
      "8     10.445429\n",
      "9      0.295996\n",
      "10     1.214911\n",
      "11    14.994249\n",
      "12     2.427796\n",
      "13     2.211178\n",
      "14     1.047847\n",
      "15    13.645548\n",
      "16     0.442879\n",
      "17     0.649726\n",
      "18     0.129616\n",
      "19     0.097711\n",
      "20     3.819126\n",
      "21     8.539993\n",
      "22     2.326083\n",
      "23     2.373886\n",
      "24     4.444625\n",
      "25     1.220531\n",
      "26     0.464299\n",
      "27     2.215797\n",
      "Name: population, dtype: float64\n"
     ]
    }
   ],
   "source": [
    "# Population totale\n",
    "pop_tot = df_europe['population'].sum()\n",
    "\n",
    "# Pourcentage de la population\n",
    "pop_pourcentage = df_europe['population'] / pop_tot * 100\n",
    "\n",
    "# Affichage\n",
    "print(pop_pourcentage)"
   ]
  },
  {
   "cell_type": "markdown",
   "metadata": {},
   "source": [
    "### Exercice\n",
    "\n",
    "Nous voulons connaître le poids de chaque pays au parlement par rapport à son nombre d'habitants.\n",
    "\n",
    "1. Calculer le nombre de sièges au parlement par habitant dans chaque pays, c'est-à-dire :\n",
    "\n",
    "$$N_i = \\frac{\\text{nombre de sièges}}{\\text{nombre d'habitants}}$$\n",
    "\n",
    "2. Normaliser le résultat et l'exprimer en pourcentage, c'est-à-dire :\n",
    "\n",
    "$$\\bar{N}_i = \\frac{N_i}{\\sum_i N_i}\\times 100$$\n",
    "\n",
    "3. Ajouter une nouvelle colonne au DataFrame `df_europe` avec le nom `'poids'` qui contient $\\bar{N}_i$\n",
    "4. Afficher les colonnes `'pays'` et `'poids'` du DataFrame `df_europe` pour les 20 premières lignes"
   ]
  },
  {
   "cell_type": "code",
   "execution_count": 180,
   "metadata": {},
   "outputs": [
    {
     "name": "stdout",
     "output_type": "stream",
     "text": [
      "          pays      poids\n",
      "1    allemagne   1.370336\n",
      "2     autriche   2.426367\n",
      "3     belgique   2.181513\n",
      "4     bulgarie   2.787018\n",
      "5       chypre   8.295046\n",
      "6      croatie   3.078478\n",
      "7     danemark   2.693863\n",
      "8      espagne   1.363776\n",
      "9      estonie   5.347374\n",
      "10    finlande   2.822763\n",
      "11      france   1.301915\n",
      "12       grèce   2.281827\n",
      "13     hongrie   2.505365\n",
      "14     irlande   2.769303\n",
      "15      italie   1.411261\n",
      "16    lettonie   4.765193\n",
      "17    lituanie   4.466202\n",
      "18  luxembourg  12.211466\n",
      "19       malte  16.198887\n",
      "20    pays-bas   1.795911\n"
     ]
    }
   ],
   "source": [
    "\n",
    "# 1\n",
    "N_1 = df_europe['sièges'] / df_europe['population']\n",
    "\n",
    "# 2  - normaliser\n",
    "N_1 = ( N_1 / N_1.sum() ) * 100\n",
    "\n",
    "# 3\n",
    "df_europe['poids'] = N_1\n",
    "\n",
    "# 4\n",
    "print(df_europe[['pays','poids']].head(n=20))\n"
   ]
  },
  {
   "cell_type": "markdown",
   "metadata": {},
   "source": [
    "## Trier un *DataFrame*\n",
    "\n",
    "Il est très facile de trier un objet DataFrame avec la méthode `.sort_values()`. Par exemple, on voit qu'en classant les pays d'abord par nombre de sièges croissant, puis, pour un même nombre de sièges, par poids décroissant, on déduit que plus le nombre de sièges et la population augmentent, plus le poids d'un pays au parlement diminue :"
   ]
  },
  {
   "cell_type": "code",
   "execution_count": 194,
   "metadata": {
    "tags": []
   },
   "outputs": [
    {
     "data": {
      "text/html": [
       "<div>\n",
       "<style scoped>\n",
       "    .dataframe tbody tr th:only-of-type {\n",
       "        vertical-align: middle;\n",
       "    }\n",
       "\n",
       "    .dataframe tbody tr th {\n",
       "        vertical-align: top;\n",
       "    }\n",
       "\n",
       "    .dataframe thead th {\n",
       "        text-align: right;\n",
       "    }\n",
       "</style>\n",
       "<table border=\"1\" class=\"dataframe\">\n",
       "  <thead>\n",
       "    <tr style=\"text-align: right;\">\n",
       "      <th></th>\n",
       "      <th>pays</th>\n",
       "      <th>capitale</th>\n",
       "      <th>population</th>\n",
       "      <th>date d'adhésion</th>\n",
       "      <th>sièges</th>\n",
       "      <th>poids</th>\n",
       "    </tr>\n",
       "  </thead>\n",
       "  <tbody>\n",
       "    <tr>\n",
       "      <th>1</th>\n",
       "      <td>allemagne</td>\n",
       "      <td>berlin</td>\n",
       "      <td>82162000</td>\n",
       "      <td>1957-01-01</td>\n",
       "      <td>96</td>\n",
       "      <td>1.370336</td>\n",
       "    </tr>\n",
       "    <tr>\n",
       "      <th>11</th>\n",
       "      <td>france</td>\n",
       "      <td>paris</td>\n",
       "      <td>66661621</td>\n",
       "      <td>1957-01-01</td>\n",
       "      <td>74</td>\n",
       "      <td>1.301915</td>\n",
       "    </tr>\n",
       "    <tr>\n",
       "      <th>15</th>\n",
       "      <td>italie</td>\n",
       "      <td>rome</td>\n",
       "      <td>60665551</td>\n",
       "      <td>1957-01-01</td>\n",
       "      <td>73</td>\n",
       "      <td>1.411261</td>\n",
       "    </tr>\n",
       "    <tr>\n",
       "      <th>8</th>\n",
       "      <td>espagne</td>\n",
       "      <td>madrid</td>\n",
       "      <td>46438422</td>\n",
       "      <td>1986-01-01</td>\n",
       "      <td>54</td>\n",
       "      <td>1.363776</td>\n",
       "    </tr>\n",
       "    <tr>\n",
       "      <th>21</th>\n",
       "      <td>pologne</td>\n",
       "      <td>varsovie</td>\n",
       "      <td>37967209</td>\n",
       "      <td>2004-01-01</td>\n",
       "      <td>51</td>\n",
       "      <td>1.575391</td>\n",
       "    </tr>\n",
       "    <tr>\n",
       "      <th>24</th>\n",
       "      <td>roumanie</td>\n",
       "      <td>bucarest</td>\n",
       "      <td>19759968</td>\n",
       "      <td>2007-01-01</td>\n",
       "      <td>32</td>\n",
       "      <td>1.899287</td>\n",
       "    </tr>\n",
       "    <tr>\n",
       "      <th>20</th>\n",
       "      <td>pays-bas</td>\n",
       "      <td>amsterdam</td>\n",
       "      <td>16979120</td>\n",
       "      <td>1957-01-01</td>\n",
       "      <td>26</td>\n",
       "      <td>1.795911</td>\n",
       "    </tr>\n",
       "    <tr>\n",
       "      <th>13</th>\n",
       "      <td>hongrie</td>\n",
       "      <td>budapest</td>\n",
       "      <td>9830485</td>\n",
       "      <td>2004-01-01</td>\n",
       "      <td>21</td>\n",
       "      <td>2.505365</td>\n",
       "    </tr>\n",
       "    <tr>\n",
       "      <th>22</th>\n",
       "      <td>portugal</td>\n",
       "      <td>lisbonne</td>\n",
       "      <td>10341330</td>\n",
       "      <td>1986-01-01</td>\n",
       "      <td>21</td>\n",
       "      <td>2.381604</td>\n",
       "    </tr>\n",
       "    <tr>\n",
       "      <th>23</th>\n",
       "      <td>république tchèque</td>\n",
       "      <td>prague</td>\n",
       "      <td>10553853</td>\n",
       "      <td>2004-01-01</td>\n",
       "      <td>21</td>\n",
       "      <td>2.333646</td>\n",
       "    </tr>\n",
       "    <tr>\n",
       "      <th>12</th>\n",
       "      <td>grèce</td>\n",
       "      <td>athènes</td>\n",
       "      <td>10793526</td>\n",
       "      <td>1981-01-01</td>\n",
       "      <td>21</td>\n",
       "      <td>2.281827</td>\n",
       "    </tr>\n",
       "    <tr>\n",
       "      <th>3</th>\n",
       "      <td>belgique</td>\n",
       "      <td>bruxelles</td>\n",
       "      <td>11289853</td>\n",
       "      <td>1957-01-01</td>\n",
       "      <td>21</td>\n",
       "      <td>2.181513</td>\n",
       "    </tr>\n",
       "    <tr>\n",
       "      <th>27</th>\n",
       "      <td>suède</td>\n",
       "      <td>stockholm</td>\n",
       "      <td>9851017</td>\n",
       "      <td>1995-01-01</td>\n",
       "      <td>20</td>\n",
       "      <td>2.381089</td>\n",
       "    </tr>\n",
       "    <tr>\n",
       "      <th>2</th>\n",
       "      <td>autriche</td>\n",
       "      <td>vienne</td>\n",
       "      <td>8700471</td>\n",
       "      <td>1995-01-01</td>\n",
       "      <td>18</td>\n",
       "      <td>2.426367</td>\n",
       "    </tr>\n",
       "    <tr>\n",
       "      <th>4</th>\n",
       "      <td>bulgarie</td>\n",
       "      <td>sofia</td>\n",
       "      <td>7153784</td>\n",
       "      <td>2007-01-01</td>\n",
       "      <td>17</td>\n",
       "      <td>2.787018</td>\n",
       "    </tr>\n",
       "    <tr>\n",
       "      <th>10</th>\n",
       "      <td>finlande</td>\n",
       "      <td>helsinki</td>\n",
       "      <td>5401267</td>\n",
       "      <td>1995-01-01</td>\n",
       "      <td>13</td>\n",
       "      <td>2.822763</td>\n",
       "    </tr>\n",
       "    <tr>\n",
       "      <th>25</th>\n",
       "      <td>slovaquie</td>\n",
       "      <td>bratislava</td>\n",
       "      <td>5426252</td>\n",
       "      <td>2004-01-01</td>\n",
       "      <td>13</td>\n",
       "      <td>2.809766</td>\n",
       "    </tr>\n",
       "    <tr>\n",
       "      <th>7</th>\n",
       "      <td>danemark</td>\n",
       "      <td>copenhague</td>\n",
       "      <td>5659715</td>\n",
       "      <td>1973-01-01</td>\n",
       "      <td>13</td>\n",
       "      <td>2.693863</td>\n",
       "    </tr>\n",
       "    <tr>\n",
       "      <th>17</th>\n",
       "      <td>lituanie</td>\n",
       "      <td>vilnius</td>\n",
       "      <td>2888558</td>\n",
       "      <td>2004-01-01</td>\n",
       "      <td>11</td>\n",
       "      <td>4.466202</td>\n",
       "    </tr>\n",
       "    <tr>\n",
       "      <th>6</th>\n",
       "      <td>croatie</td>\n",
       "      <td>zagreb</td>\n",
       "      <td>4190669</td>\n",
       "      <td>2013-01-01</td>\n",
       "      <td>11</td>\n",
       "      <td>3.078478</td>\n",
       "    </tr>\n",
       "    <tr>\n",
       "      <th>14</th>\n",
       "      <td>irlande</td>\n",
       "      <td>dublin</td>\n",
       "      <td>4658530</td>\n",
       "      <td>1973-01-01</td>\n",
       "      <td>11</td>\n",
       "      <td>2.769303</td>\n",
       "    </tr>\n",
       "    <tr>\n",
       "      <th>16</th>\n",
       "      <td>lettonie</td>\n",
       "      <td>riga</td>\n",
       "      <td>1968957</td>\n",
       "      <td>2004-01-01</td>\n",
       "      <td>8</td>\n",
       "      <td>4.765193</td>\n",
       "    </tr>\n",
       "    <tr>\n",
       "      <th>26</th>\n",
       "      <td>slovénie</td>\n",
       "      <td>ljubljana</td>\n",
       "      <td>2064188</td>\n",
       "      <td>2004-01-01</td>\n",
       "      <td>8</td>\n",
       "      <td>4.545352</td>\n",
       "    </tr>\n",
       "    <tr>\n",
       "      <th>19</th>\n",
       "      <td>malte</td>\n",
       "      <td>la valette</td>\n",
       "      <td>434403</td>\n",
       "      <td>2004-01-01</td>\n",
       "      <td>6</td>\n",
       "      <td>16.198887</td>\n",
       "    </tr>\n",
       "    <tr>\n",
       "      <th>18</th>\n",
       "      <td>luxembourg</td>\n",
       "      <td>luxembourg</td>\n",
       "      <td>576249</td>\n",
       "      <td>1957-01-01</td>\n",
       "      <td>6</td>\n",
       "      <td>12.211466</td>\n",
       "    </tr>\n",
       "    <tr>\n",
       "      <th>5</th>\n",
       "      <td>chypre</td>\n",
       "      <td>nicosie</td>\n",
       "      <td>848319</td>\n",
       "      <td>2004-01-01</td>\n",
       "      <td>6</td>\n",
       "      <td>8.295046</td>\n",
       "    </tr>\n",
       "    <tr>\n",
       "      <th>9</th>\n",
       "      <td>estonie</td>\n",
       "      <td>tallinn</td>\n",
       "      <td>1315944</td>\n",
       "      <td>2004-01-01</td>\n",
       "      <td>6</td>\n",
       "      <td>5.347374</td>\n",
       "    </tr>\n",
       "  </tbody>\n",
       "</table>\n",
       "</div>"
      ],
      "text/plain": [
       "                  pays    capitale  population date d'adhésion  sièges  \\\n",
       "1            allemagne      berlin    82162000      1957-01-01      96   \n",
       "11              france       paris    66661621      1957-01-01      74   \n",
       "15              italie        rome    60665551      1957-01-01      73   \n",
       "8              espagne      madrid    46438422      1986-01-01      54   \n",
       "21             pologne    varsovie    37967209      2004-01-01      51   \n",
       "24            roumanie    bucarest    19759968      2007-01-01      32   \n",
       "20            pays-bas   amsterdam    16979120      1957-01-01      26   \n",
       "13             hongrie    budapest     9830485      2004-01-01      21   \n",
       "22            portugal    lisbonne    10341330      1986-01-01      21   \n",
       "23  république tchèque      prague    10553853      2004-01-01      21   \n",
       "12               grèce     athènes    10793526      1981-01-01      21   \n",
       "3             belgique   bruxelles    11289853      1957-01-01      21   \n",
       "27               suède   stockholm     9851017      1995-01-01      20   \n",
       "2             autriche      vienne     8700471      1995-01-01      18   \n",
       "4             bulgarie       sofia     7153784      2007-01-01      17   \n",
       "10            finlande    helsinki     5401267      1995-01-01      13   \n",
       "25           slovaquie  bratislava     5426252      2004-01-01      13   \n",
       "7             danemark  copenhague     5659715      1973-01-01      13   \n",
       "17            lituanie     vilnius     2888558      2004-01-01      11   \n",
       "6              croatie      zagreb     4190669      2013-01-01      11   \n",
       "14             irlande      dublin     4658530      1973-01-01      11   \n",
       "16            lettonie        riga     1968957      2004-01-01       8   \n",
       "26            slovénie   ljubljana     2064188      2004-01-01       8   \n",
       "19               malte  la valette      434403      2004-01-01       6   \n",
       "18          luxembourg  luxembourg      576249      1957-01-01       6   \n",
       "5               chypre     nicosie      848319      2004-01-01       6   \n",
       "9              estonie     tallinn     1315944      2004-01-01       6   \n",
       "\n",
       "        poids  \n",
       "1    1.370336  \n",
       "11   1.301915  \n",
       "15   1.411261  \n",
       "8    1.363776  \n",
       "21   1.575391  \n",
       "24   1.899287  \n",
       "20   1.795911  \n",
       "13   2.505365  \n",
       "22   2.381604  \n",
       "23   2.333646  \n",
       "12   2.281827  \n",
       "3    2.181513  \n",
       "27   2.381089  \n",
       "2    2.426367  \n",
       "4    2.787018  \n",
       "10   2.822763  \n",
       "25   2.809766  \n",
       "7    2.693863  \n",
       "17   4.466202  \n",
       "6    3.078478  \n",
       "14   2.769303  \n",
       "16   4.765193  \n",
       "26   4.545352  \n",
       "19  16.198887  \n",
       "18  12.211466  \n",
       "5    8.295046  \n",
       "9    5.347374  "
      ]
     },
     "execution_count": 194,
     "metadata": {},
     "output_type": "execute_result"
    }
   ],
   "source": [
    "df_europe.sort_values(by = ['sièges', 'poids', 'population'], ascending = [False, False,False])"
   ]
  },
  {
   "cell_type": "code",
   "execution_count": 190,
   "metadata": {},
   "outputs": [
    {
     "name": "stdout",
     "output_type": "stream",
     "text": [
      "Help on function sort_values in module pandas.core.frame:\n",
      "\n",
      "sort_values(self, by, axis: 'Axis' = 0, ascending=True, inplace: 'bool' = False, kind: 'str' = 'quicksort', na_position: 'str' = 'last', ignore_index: 'bool' = False, key: 'ValueKeyFunc' = None)\n",
      "    Sort by the values along either axis.\n",
      "    \n",
      "    Parameters\n",
      "    ----------\n",
      "            by : str or list of str\n",
      "                Name or list of names to sort by.\n",
      "    \n",
      "                - if `axis` is 0 or `'index'` then `by` may contain index\n",
      "                  levels and/or column labels.\n",
      "                - if `axis` is 1 or `'columns'` then `by` may contain column\n",
      "                  levels and/or index labels.\n",
      "    axis : {0 or 'index', 1 or 'columns'}, default 0\n",
      "         Axis to be sorted.\n",
      "    ascending : bool or list of bool, default True\n",
      "         Sort ascending vs. descending. Specify list for multiple sort\n",
      "         orders.  If this is a list of bools, must match the length of\n",
      "         the by.\n",
      "    inplace : bool, default False\n",
      "         If True, perform operation in-place.\n",
      "    kind : {'quicksort', 'mergesort', 'heapsort', 'stable'}, default 'quicksort'\n",
      "         Choice of sorting algorithm. See also :func:`numpy.sort` for more\n",
      "         information. `mergesort` and `stable` are the only stable algorithms. For\n",
      "         DataFrames, this option is only applied when sorting on a single\n",
      "         column or label.\n",
      "    na_position : {'first', 'last'}, default 'last'\n",
      "         Puts NaNs at the beginning if `first`; `last` puts NaNs at the\n",
      "         end.\n",
      "    ignore_index : bool, default False\n",
      "         If True, the resulting axis will be labeled 0, 1, …, n - 1.\n",
      "    \n",
      "         .. versionadded:: 1.0.0\n",
      "    \n",
      "    key : callable, optional\n",
      "        Apply the key function to the values\n",
      "        before sorting. This is similar to the `key` argument in the\n",
      "        builtin :meth:`sorted` function, with the notable difference that\n",
      "        this `key` function should be *vectorized*. It should expect a\n",
      "        ``Series`` and return a Series with the same shape as the input.\n",
      "        It will be applied to each column in `by` independently.\n",
      "    \n",
      "        .. versionadded:: 1.1.0\n",
      "    \n",
      "    Returns\n",
      "    -------\n",
      "    DataFrame or None\n",
      "        DataFrame with sorted values or None if ``inplace=True``.\n",
      "    \n",
      "    See Also\n",
      "    --------\n",
      "    DataFrame.sort_index : Sort a DataFrame by the index.\n",
      "    Series.sort_values : Similar method for a Series.\n",
      "    \n",
      "    Examples\n",
      "    --------\n",
      "    >>> df = pd.DataFrame({\n",
      "    ...     'col1': ['A', 'A', 'B', np.nan, 'D', 'C'],\n",
      "    ...     'col2': [2, 1, 9, 8, 7, 4],\n",
      "    ...     'col3': [0, 1, 9, 4, 2, 3],\n",
      "    ...     'col4': ['a', 'B', 'c', 'D', 'e', 'F']\n",
      "    ... })\n",
      "    >>> df\n",
      "      col1  col2  col3 col4\n",
      "    0    A     2     0    a\n",
      "    1    A     1     1    B\n",
      "    2    B     9     9    c\n",
      "    3  NaN     8     4    D\n",
      "    4    D     7     2    e\n",
      "    5    C     4     3    F\n",
      "    \n",
      "    Sort by col1\n",
      "    \n",
      "    >>> df.sort_values(by=['col1'])\n",
      "      col1  col2  col3 col4\n",
      "    0    A     2     0    a\n",
      "    1    A     1     1    B\n",
      "    2    B     9     9    c\n",
      "    5    C     4     3    F\n",
      "    4    D     7     2    e\n",
      "    3  NaN     8     4    D\n",
      "    \n",
      "    Sort by multiple columns\n",
      "    \n",
      "    >>> df.sort_values(by=['col1', 'col2'])\n",
      "      col1  col2  col3 col4\n",
      "    1    A     1     1    B\n",
      "    0    A     2     0    a\n",
      "    2    B     9     9    c\n",
      "    5    C     4     3    F\n",
      "    4    D     7     2    e\n",
      "    3  NaN     8     4    D\n",
      "    \n",
      "    Sort Descending\n",
      "    \n",
      "    >>> df.sort_values(by='col1', ascending=False)\n",
      "      col1  col2  col3 col4\n",
      "    4    D     7     2    e\n",
      "    5    C     4     3    F\n",
      "    2    B     9     9    c\n",
      "    0    A     2     0    a\n",
      "    1    A     1     1    B\n",
      "    3  NaN     8     4    D\n",
      "    \n",
      "    Putting NAs first\n",
      "    \n",
      "    >>> df.sort_values(by='col1', ascending=False, na_position='first')\n",
      "      col1  col2  col3 col4\n",
      "    3  NaN     8     4    D\n",
      "    4    D     7     2    e\n",
      "    5    C     4     3    F\n",
      "    2    B     9     9    c\n",
      "    0    A     2     0    a\n",
      "    1    A     1     1    B\n",
      "    \n",
      "    Sorting with a key function\n",
      "    \n",
      "    >>> df.sort_values(by='col4', key=lambda col: col.str.lower())\n",
      "       col1  col2  col3 col4\n",
      "    0    A     2     0    a\n",
      "    1    A     1     1    B\n",
      "    2    B     9     9    c\n",
      "    3  NaN     8     4    D\n",
      "    4    D     7     2    e\n",
      "    5    C     4     3    F\n",
      "    \n",
      "    Natural sort with the key argument,\n",
      "    using the `natsort <https://github.com/SethMMorton/natsort>` package.\n",
      "    \n",
      "    >>> df = pd.DataFrame({\n",
      "    ...    \"time\": ['0hr', '128hr', '72hr', '48hr', '96hr'],\n",
      "    ...    \"value\": [10, 20, 30, 40, 50]\n",
      "    ... })\n",
      "    >>> df\n",
      "        time  value\n",
      "    0    0hr     10\n",
      "    1  128hr     20\n",
      "    2   72hr     30\n",
      "    3   48hr     40\n",
      "    4   96hr     50\n",
      "    >>> from natsort import index_natsorted\n",
      "    >>> df.sort_values(\n",
      "    ...    by=\"time\",\n",
      "    ...    key=lambda x: np.argsort(index_natsorted(df[\"time\"]))\n",
      "    ... )\n",
      "        time  value\n",
      "    0    0hr     10\n",
      "    3   48hr     40\n",
      "    2   72hr     30\n",
      "    4   96hr     50\n",
      "    1  128hr     20\n",
      "\n"
     ]
    }
   ],
   "source": [
    "help(pd.DataFrame.sort_values)"
   ]
  },
  {
   "cell_type": "markdown",
   "metadata": {},
   "source": [
    "## Sauvegarder un DataFrame\n",
    "Il est possible de sauver un objet DataFrame sous la forme d'un [fichier csv](https://fr.wikipedia.org/wiki/Comma-separated_values). C'est un format pratique qui peut être lu par la plupart des tableurs comme LibreOffice Calc ou Microsoft Excel. Il faut utiliser la métode `.to_csv()` :"
   ]
  },
  {
   "cell_type": "code",
   "execution_count": 195,
   "metadata": {},
   "outputs": [],
   "source": [
    "df_europe.to_csv(\"europe-ca.csv\")"
   ]
  },
  {
   "cell_type": "markdown",
   "metadata": {},
   "source": [
    "Cette méthode crée un fichier nommé *data.csv* dans le répertoire de travail (allez vérifier !), avec le contenu du DataFrame :\n",
    "\n",
    "```\n",
    ",pays,capitale,population,date d'adhésion,sièges,poids\n",
    "1,allemagne,berlin,82162000,1957-01-01,96,1.3703356988657123\n",
    "2,autriche,vienne,8700471,1995-01-01,18,2.4263669538020842\n",
    "3,belgique,bruxelles,11289853,1957-01-01,21,2.1815127149779783\n",
    "4,bulgarie,sofia,7153784,2007-01-01,17,2.7870184226008328\n",
    "5,chypre,nicosie,848319,2004-01-01,6,8.295045974023676\n",
    "6,croatie,zagreb,4190669,2013-01-01,11,3.078478088741746\n",
    "7,danemark,copenhague,5659715,1973-01-01,13,2.6938631589897866\n",
    "8,espagne,madrid,46438422,1986-01-01,54,1.363776011827881\n",
    "9,estonie,tallinn,1315944,2004-01-01,6,5.347374284648732\n",
    "10,finlande,helsinki,5401267,1995-01-01,13,2.822763201464005\n",
    "11,france,paris,66661621,1957-01-01,74,1.301914879970682\n",
    "12,grèce,athènes,10793526,1981-01-01,21,2.28182689046492\n",
    "13,hongrie,budapest,9830485,2004-01-01,21,2.5053654900782893\n",
    "14,irlande,dublin,4658530,1973-01-01,11,2.7693033411117423\n",
    "15,italie,rome,60665551,1957-01-01,73,1.4112613727889787\n",
    "16,lettonie,riga,1968957,2004-01-01,8,4.765193013788716\n",
    "17,lituanie,vilnius,2888558,2004-01-01,11,4.466201715066578\n",
    "18,luxembourg,luxembourg,576249,1957-01-01,6,12.211466060050068\n",
    "19,malte,la valette,434403,2004-01-01,6,16.198886991198936\n",
    "20,pays-bas,amsterdam,16979120,1957-01-01,26,1.7959114169499812\n",
    "21,pologne,varsovie,37967209,2004-01-01,51,1.5753905797479404\n",
    "22,portugal,lisbonne,10341330,1986-01-01,21,2.381604481215885\n",
    "23,république tchèque,prague,10553853,2004-01-01,21,2.3336460977552242\n",
    "24,roumanie,bucarest,19759968,2007-01-01,32,1.8992865050895604\n",
    "25,slovaquie,bratislava,5426252,2004-01-01,13,2.8097658805528902\n",
    "26,slovénie,ljubljana,2064188,2004-01-01,8,4.545351557537583\n",
    "27,suède,stockholm,9851017,1995-01-01,20,2.381089216689604\n",
    "```"
   ]
  },
  {
   "cell_type": "markdown",
   "metadata": {},
   "source": [
    "Il est alors possible, plus tard, de charger le contenu du fichier csv avec la méthode `.read_csv()` :"
   ]
  },
  {
   "cell_type": "code",
   "execution_count": 196,
   "metadata": {},
   "outputs": [],
   "source": [
    "df_europe_from_csv = pd.read_csv(\"europe-ca.csv\", index_col = 0, encoding = 'utf-8')"
   ]
  },
  {
   "cell_type": "markdown",
   "metadata": {},
   "source": [
    "L'option `encoding` peut être nécessaire sur certains ordinateurs, pas sur d'autres.\n",
    "\n",
    "Un problème de sauvegarder en csv est que si une des colonnes contient des objets python, il peuvent être convertis en un autre type au moment de l'écriture et de la lecture. Dans l'exemple ci-dessus, la colonne `date d'adhésion` n'est plus un objet `datetime64` au moment de la lecture : il a été converti en objet `str`. "
   ]
  },
  {
   "cell_type": "code",
   "execution_count": 197,
   "metadata": {
    "tags": []
   },
   "outputs": [
    {
     "name": "stdout",
     "output_type": "stream",
     "text": [
      "1957-01-01\n",
      "<class 'str'>\n"
     ]
    }
   ],
   "source": [
    "A = df_europe_from_csv[\"date d'adhésion\"][1]\n",
    "print(A)\n",
    "print(type(A))"
   ]
  },
  {
   "cell_type": "markdown",
   "metadata": {},
   "source": [
    "Une façon de garder toutes les propriétés des objets python est de les sauver dans un format que l'on appelle *pickle* :"
   ]
  },
  {
   "cell_type": "code",
   "execution_count": 198,
   "metadata": {},
   "outputs": [],
   "source": [
    "# Sauvegarde d'un DataFrame dans un fichier pickle\n",
    "df_europe.to_pickle('europe.pkl')\n",
    "\n",
    "# Lecture du fichier pickle\n",
    "df_europe_from_pickle = pd.read_pickle('./europe.pkl')"
   ]
  },
  {
   "cell_type": "markdown",
   "metadata": {},
   "source": [
    "On voit alors que les dates sont restées des objets `datetime64` :"
   ]
  },
  {
   "cell_type": "code",
   "execution_count": 199,
   "metadata": {
    "tags": []
   },
   "outputs": [
    {
     "data": {
      "text/plain": [
       "1   1957-01-01\n",
       "2   1995-01-01\n",
       "Name: date d'adhésion, dtype: datetime64[ns]"
      ]
     },
     "execution_count": 199,
     "metadata": {},
     "output_type": "execute_result"
    }
   ],
   "source": [
    "df_europe_from_pickle[\"date d'adhésion\"].head(n = 2)"
   ]
  },
  {
   "cell_type": "code",
   "execution_count": null,
   "metadata": {},
   "outputs": [],
   "source": []
  }
 ],
 "metadata": {
  "celltoolbar": "Tags",
  "kernelspec": {
   "display_name": "Python 3 (ipykernel)",
   "language": "python",
   "name": "python3"
  },
  "language_info": {
   "codemirror_mode": {
    "name": "ipython",
    "version": 3
   },
   "file_extension": ".py",
   "mimetype": "text/x-python",
   "name": "python",
   "nbconvert_exporter": "python",
   "pygments_lexer": "ipython3",
   "version": "3.9.5"
  }
 },
 "nbformat": 4,
 "nbformat_minor": 4
}
