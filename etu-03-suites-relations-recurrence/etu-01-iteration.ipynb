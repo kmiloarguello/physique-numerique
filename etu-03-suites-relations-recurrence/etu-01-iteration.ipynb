{
 "cells": [
  {
   "cell_type": "markdown",
   "metadata": {},
   "source": [
    "# Itération\n",
    "L'itération est la capacité d'exécuter à plusieurs reprises un bloc d'instructions."
   ]
  },
  {
   "cell_type": "markdown",
   "metadata": {},
   "source": [
    "## **Vidéo**: Instructions while et for"
   ]
  },
  {
   "cell_type": "code",
   "execution_count": 1,
   "metadata": {
    "tags": [
     "remove-input"
    ]
   },
   "outputs": [
    {
     "data": {
      "text/html": [
       "<iframe src=\"https://sorbonne-universite.cloud.panopto.eu/Panopto/Pages/Embed.aspx?id=c0312907-29eb-4e7a-b62c-ae1400df9455&autoplay=false&offerviewer=true&showtitle=true&showbrand=false&captions=false&interactivity=all\" height=\"405\" width=\"720\" style=\"border: 1px solid #464646;\" allowfullscreen allow=\"autoplay\"></iframe>\n"
      ],
      "text/plain": [
       "<IPython.core.display.HTML object>"
      ]
     },
     "metadata": {},
     "output_type": "display_data"
    }
   ],
   "source": [
    "%%HTML\n",
    "<iframe src=\"https://sorbonne-universite.cloud.panopto.eu/Panopto/Pages/Embed.aspx?id=c0312907-29eb-4e7a-b62c-ae1400df9455&autoplay=false&offerviewer=true&showtitle=true&showbrand=false&captions=false&interactivity=all\" height=\"405\" width=\"720\" style=\"border: 1px solid #464646;\" allowfullscreen allow=\"autoplay\"></iframe>"
   ]
  },
  {
   "cell_type": "markdown",
   "metadata": {},
   "source": [
    "## Mise à jour d'une variable\n",
    "On parle de **mise à jour** de la variable lorsque la valeur de ré-affectation d'une variable dépend de son ancienne valeur. Par exemple :"
   ]
  },
  {
   "cell_type": "code",
   "execution_count": 2,
   "metadata": {},
   "outputs": [],
   "source": [
    "# Création et affectation de la variable x (initialisation)\n",
    "x = 0\n",
    "\n",
    "# Mise à jour de la variable x\n",
    "x = x + 1"
   ]
  },
  {
   "cell_type": "markdown",
   "metadata": {},
   "source": [
    "Si on ajoute 1 à la valeur de la variable, on appelle cela une **incrémentation**. Si on enlève 1, c'est une **décrémentation**."
   ]
  },
  {
   "cell_type": "markdown",
   "metadata": {},
   "source": [
    "## L'instruction `while`\n",
    "L'instruction `while` signifie *tant que*. Elle est suivie d'une condition. C'est une façon de répéter une instruction `if`. Voici un exemple de compte à rebours :"
   ]
  },
  {
   "cell_type": "code",
   "execution_count": 3,
   "metadata": {
    "tags": []
   },
   "outputs": [
    {
     "name": "stdout",
     "output_type": "stream",
     "text": [
      "3\n",
      "2\n",
      "1\n",
      "Partez !\n"
     ]
    }
   ],
   "source": [
    "# Initialisation\n",
    "n = 3\n",
    "\n",
    "# Compte à rebours\n",
    "while n > 0:\n",
    "    print(n)\n",
    "    n = n - 1\n",
    "print(\"Partez !\")"
   ]
  },
  {
   "cell_type": "markdown",
   "metadata": {},
   "source": [
    "La variable `n` est initialisée à 3. Lors de la première exécution de l'instruction `while`, `n` vaut 3 et donc la condition `n > 0` est vraie. Le bloc d'instructions (indenté) est alors exécuté : on affiche 3 à l'écran, et `n` est incrémenté. C'est la première **itération**. Lors de la deuxième itération, `n` vaut 2. La condition est toujours vraie donc le bloc d'instructions est exécuté une deuxième fois. Idem pour la troisième itération où `n` vaut 1. Lors de la quatrième itération, `n` vaut 0 donc la condition est fausse : le bloc d'instructions n'est pas exécuté et on passe à la première instruction qui n'est pas indentée après le `while`.\n",
    "\n",
    "Le *flux d'exécution* pour une instruction `while` est :\n",
    "\n",
    "1. Déterminer si la condition est vraie ou fausse ;\n",
    "2. Si elle est fausse, passer le bloc d'instructions (indenté) suivant l'instruction `while`, et poursuivre l'exécution à l'instruction suivante ;\n",
    "3. Si la condition est vraie, exécuter le bloc d'instructions, puis retourner à l'étape 1.\n",
    "\n",
    "Ce type de flux est une **boucle** car l'étape 3 *reboucle* à l'étape 1. Le bloc d'instructions doit changer la valeur d'au moins une variable pour que la condition finisse par devenir fausse au bout d'un certain nombre d'itérations. Si ce n'est pas le cas, on aura alors une **boucle infinie**, car le bloc d'instructions sera répété à l'infini. Il faudra alors interrompre le programme d'une manière ou d'une autre."
   ]
  },
  {
   "cell_type": "markdown",
   "metadata": {},
   "source": [
    "### Exercice\n",
    "Initialisez une variable appelée `x` à 40. Créer une boucle `while` qui, tant que `x` est supérieur à 1, divise `x` par 4. À la sortie de la boucle, afficher à l'écran la valeur de `x`."
   ]
  },
  {
   "cell_type": "code",
   "execution_count": 4,
   "metadata": {},
   "outputs": [
    {
     "name": "stdout",
     "output_type": "stream",
     "text": [
      "La valeur de x=0.625\n"
     ]
    }
   ],
   "source": [
    "x = 40\n",
    "\n",
    "while x > 1:\n",
    "    x /= 4\n",
    "    \n",
    "print(\"La valeur de x=\" + str(x))"
   ]
  },
  {
   "cell_type": "markdown",
   "metadata": {},
   "source": [
    "## L'instruction `break`\n",
    "Il arrive que nous voulions arrêter la boucle `while` à l'intérieur du bloc d'instructions, si une certaine condition est vraie. Dans ce cas on ne laisse pas la boucle aller jusqu'au bout. Pour cela on peut utiliser l'instruction `break` pour forcer à sortir de la boucle.\n",
    "\n",
    "Reprenons l'exemple du compte à rebours :"
   ]
  },
  {
   "cell_type": "code",
   "execution_count": null,
   "metadata": {
    "tags": []
   },
   "outputs": [],
   "source": [
    "# Initialisation\n",
    "n = 5.8\n",
    "\n",
    "# Compte à rebours\n",
    "while n > 0:\n",
    "    if n % 1 != 0:\n",
    "        print(\"n doit être entier\")\n",
    "        break\n",
    "    print(n)\n",
    "    n = n - 1"
   ]
  },
  {
   "cell_type": "markdown",
   "metadata": {},
   "source": [
    "Dans cet exemple on vérifie si le compteur du compte à rebours est bien un entier, à l'intérieur de la boucle. Si ce n'est pas le cas, alors on n'exécute pas la boucle et on affiche un message d'erreur à l'utilisateur."
   ]
  },
  {
   "cell_type": "markdown",
   "metadata": {},
   "source": [
    "### Exercice\n",
    "Reprendre l'exercice précédent. Dans la boucle, ajouter une condition qui vérifie que `x` est un nombre pair. Si ce n'est pas le cas, afficher le message d'erreur `\"x doit être pair\"` et sortir de la boucle."
   ]
  },
  {
   "cell_type": "code",
   "execution_count": 8,
   "metadata": {},
   "outputs": [
    {
     "name": "stdout",
     "output_type": "stream",
     "text": [
      "x doit être pair\n",
      "La valeur de x=2.5\n"
     ]
    }
   ],
   "source": [
    "x = 40\n",
    "\n",
    "while x > 1:\n",
    "    x /= 4\n",
    "    if x % 2 != 0:\n",
    "        print(\"x doit être pair\")\n",
    "        break \n",
    "    \n",
    "print(\"La valeur de x=\" + str(x))"
   ]
  },
  {
   "cell_type": "markdown",
   "metadata": {},
   "source": [
    "<div class=\"alert alert-info\">\n",
    "\n",
    "**Bon usage**\n",
    "\n",
    "Bien que l'instruction `break` puisse être pratique, il est souvent recommandé de l'utiliser le moins possible. Cette instruction peut être la source d'erreurs difficiles à trouver. En effet, normalement, si on sort d'une boucle `while`, c'est parce que la condition n'est plus satisfaite ; et s'il y a plusieurs points où il est possible de sortir de la boucle `while`, il peut être (très) difficile de savoir quelle est la condition qui doit être vérifiée pour sortir, et donc de continuer à programmer. L'usage excessif de l'instruction `break` (ainsi que `continue`, ou le fameux `goto` qui n'existe pas en Python) est qualifié de [programmation spaghetti](https://fr.wikipedia.org/wiki/Programmation_spaghetti).\n",
    "\n",
    "Une meilleure solution de l'exercice précédent, sans `break`, est donc ceci :\n",
    "\n",
    "</div>"
   ]
  },
  {
   "cell_type": "code",
   "execution_count": 10,
   "metadata": {},
   "outputs": [
    {
     "name": "stdout",
     "output_type": "stream",
     "text": [
      "x doit être pair 2.5\n"
     ]
    }
   ],
   "source": [
    "# Initialisation\n",
    "x = 40\n",
    "\n",
    "# Initialisation d'une variable booléenne qui vaut True si x est pair\n",
    "pair = x % 2 == 0\n",
    "# Boucle while avec une unique condition de sortie\n",
    "while x > 1 and pair:\n",
    "    x = x / 4.0\n",
    "    pair = x % 2 == 0\n",
    "# Vérification que x est pair\n",
    "if not pair:\n",
    "    print(\"x doit être pair\", x)"
   ]
  },
  {
   "cell_type": "markdown",
   "metadata": {},
   "source": [
    "## L'instruction `for`\n",
    "L'instruction `for` est utilisée lorsque le nombre d'itérations est connu à l'avance. Voici par exemple une version du compte à rebours utilisant une boucle `for` :"
   ]
  },
  {
   "cell_type": "code",
   "execution_count": 13,
   "metadata": {
    "tags": []
   },
   "outputs": [
    {
     "name": "stdout",
     "output_type": "stream",
     "text": [
      "3\n",
      "2\n",
      "1\n",
      "Partez !\n"
     ]
    }
   ],
   "source": [
    "n = 3\n",
    "for i in range(n):\n",
    "    print(n - i)\n",
    "print(\"Partez !\")"
   ]
  },
  {
   "cell_type": "markdown",
   "metadata": {},
   "source": [
    "L'instruction `range()` est un [type de Python](https://docs.python.org/fr/3/library/stdtypes.html?highlight=range#range) qui représente une séquence immuable de nombres. Il s'utilise de la façon suivante :\n",
    "\n",
    "```\n",
    "range(start, stop, step)\n",
    "```\n",
    "\n",
    "où `start`, `stop` et `step` sont des entiers. La séquence créée contient alors des entiers dans l'intervalle semi-ouvert `[start, stop[` (stop est exclu), avec un pas égal à `step`. Pour transformer l'objet de type `range` en objet de type `list`, on peut utiliser la fonction `list()` :"
   ]
  },
  {
   "cell_type": "code",
   "execution_count": 14,
   "metadata": {},
   "outputs": [
    {
     "data": {
      "text/plain": [
       "[2, 5, 8, 11]"
      ]
     },
     "execution_count": 14,
     "metadata": {},
     "output_type": "execute_result"
    }
   ],
   "source": [
    "list(range(2, 14, 3))"
   ]
  },
  {
   "cell_type": "markdown",
   "metadata": {},
   "source": [
    "### Exercice\n",
    "Créer une boucle `for` qui affiche les multiples de 4 compris entre 1 et 20 (inclus)."
   ]
  },
  {
   "cell_type": "code",
   "execution_count": 20,
   "metadata": {},
   "outputs": [
    {
     "name": "stdout",
     "output_type": "stream",
     "text": [
      "4\n",
      "8\n",
      "12\n",
      "16\n",
      "20\n"
     ]
    }
   ],
   "source": [
    "n = 5\n",
    "for i in range(1, n+1):\n",
    "    m = 4 * i\n",
    "    print(m)\n"
   ]
  },
  {
   "cell_type": "markdown",
   "metadata": {},
   "source": [
    "## **Vidéo**: Itération sur des objets"
   ]
  },
  {
   "cell_type": "code",
   "execution_count": 21,
   "metadata": {
    "tags": [
     "remove-input"
    ]
   },
   "outputs": [
    {
     "data": {
      "text/html": [
       "<iframe src=\"https://sorbonne-universite.cloud.panopto.eu/Panopto/Pages/Embed.aspx?id=b8b7e924-d52d-44a3-a11a-ae150110dd43&autoplay=false&offerviewer=true&showtitle=true&showbrand=false&captions=false&interactivity=all\" height=\"405\" width=\"720\" style=\"border: 1px solid #464646;\" allowfullscreen allow=\"autoplay\"></iframe>\n"
      ],
      "text/plain": [
       "<IPython.core.display.HTML object>"
      ]
     },
     "metadata": {},
     "output_type": "display_data"
    }
   ],
   "source": [
    "%%HTML\n",
    "<iframe src=\"https://sorbonne-universite.cloud.panopto.eu/Panopto/Pages/Embed.aspx?id=b8b7e924-d52d-44a3-a11a-ae150110dd43&autoplay=false&offerviewer=true&showtitle=true&showbrand=false&captions=false&interactivity=all\" height=\"405\" width=\"720\" style=\"border: 1px solid #464646;\" allowfullscreen allow=\"autoplay\"></iframe>"
   ]
  },
  {
   "cell_type": "markdown",
   "metadata": {},
   "source": [
    "## Itérer sur une liste\n",
    "Une particularité de Python est de pouvoir itérer sur de nombreux objets composés. En particulier, il est possible d'itérer sur les éléments d'une liste :"
   ]
  },
  {
   "cell_type": "code",
   "execution_count": 22,
   "metadata": {
    "tags": []
   },
   "outputs": [
    {
     "name": "stdout",
     "output_type": "stream",
     "text": [
      "b\n",
      "2\n",
      "True\n",
      "5.897\n"
     ]
    }
   ],
   "source": [
    "# Création d'une liste\n",
    "L = ['b', 2, True, 5.897]\n",
    "\n",
    "# Itération sur les éléments de la liste\n",
    "for x in L:\n",
    "    print(x)"
   ]
  },
  {
   "cell_type": "markdown",
   "metadata": {},
   "source": [
    "Il est possible d'accéder aussi à l'indice de l'élément avec la fonction `enumerate()` : "
   ]
  },
  {
   "cell_type": "code",
   "execution_count": 23,
   "metadata": {
    "tags": []
   },
   "outputs": [
    {
     "name": "stdout",
     "output_type": "stream",
     "text": [
      "indice 0 : b\n",
      "indice 1 : 2\n",
      "indice 2 : True\n",
      "indice 3 : 5.897\n"
     ]
    }
   ],
   "source": [
    "# Itération sur les indices et les éléments de la liste\n",
    "for i, x in enumerate(L):\n",
    "    print('indice', i, ':', x)"
   ]
  },
  {
   "cell_type": "markdown",
   "metadata": {},
   "source": [
    "ou bien encore d'itérer sur une liste de listes :"
   ]
  },
  {
   "cell_type": "code",
   "execution_count": 24,
   "metadata": {
    "tags": []
   },
   "outputs": [
    {
     "name": "stdout",
     "output_type": "stream",
     "text": [
      "taille gentiane : 7.5 cm\n",
      "taille campanule : 5.8 cm\n",
      "taille pensée : 11.4 cm\n"
     ]
    }
   ],
   "source": [
    "# Création d'une liste de listes\n",
    "taille_plantes = [[\"gentiane\",  7.5 ], \n",
    "                  [\"campanule\", 5.8 ],\n",
    "                  [\"pensée\",    11.4]]\n",
    "\n",
    "# Iteration\n",
    "for L in taille_plantes:\n",
    "    print('taille', L[0], ':', L[1], 'cm')"
   ]
  },
  {
   "cell_type": "markdown",
   "metadata": {},
   "source": [
    "### Exercice\n",
    "Créons la liste de listes donnant les superficie en $\\mathrm{m}^2$ des pièces d'une maison :"
   ]
  },
  {
   "cell_type": "code",
   "execution_count": 25,
   "metadata": {},
   "outputs": [],
   "source": [
    "maison = [[\"cuisine\", 18.0], \n",
    "          [\"salon\", 20.0], \n",
    "          [\"chambre\", 10.75], \n",
    "          [\"salle de bains\", 9.50]]"
   ]
  },
  {
   "cell_type": "markdown",
   "metadata": {},
   "source": [
    "En utilisant une boucle `for`, afficher pour chaque pièce le numéro de la pièce (en commençant par 1), le nom de la pièce et sa superficie, sous la forme `Pièce n : nom (superficie)`. Par exemple, pour la première itération : `Pièce 1 : cuisine (18.0 m**2)`."
   ]
  },
  {
   "cell_type": "code",
   "execution_count": 27,
   "metadata": {},
   "outputs": [
    {
     "name": "stdout",
     "output_type": "stream",
     "text": [
      "Pièce 1 : cuisine 18.0\n",
      "Pièce 2 : salon 20.0\n",
      "Pièce 3 : chambre 10.75\n",
      "Pièce 4 : salle de bains 9.5\n"
     ]
    }
   ],
   "source": [
    "for i, piece in enumerate(maison):\n",
    "    j = i + 1\n",
    "    print(\"Pièce \" + str(j) + \" : \" + piece[0] + \" \" + str(piece[1]))"
   ]
  },
  {
   "cell_type": "markdown",
   "metadata": {},
   "source": [
    "## Itérer sur un dictionnaire\n",
    "Il est très simple d'itérer sur un dictionnaire avec la méthode `.items()` :"
   ]
  },
  {
   "cell_type": "code",
   "execution_count": 28,
   "metadata": {
    "tags": []
   },
   "outputs": [
    {
     "name": "stdout",
     "output_type": "stream",
     "text": [
      "gentiane -- 7.5 cm\n",
      "campanule -- 5.8 cm\n",
      "pensée -- 11.4 cm\n"
     ]
    }
   ],
   "source": [
    "# Création d'un dictionnaire\n",
    "dic_taille_plantes = {\"gentiane\"  : 7.5, \n",
    "                      \"campanule\" : 5.8,\n",
    "                      \"pensée\"    : 11.4}\n",
    "\n",
    "# Itérer sur le dictionnaire\n",
    "for key, values in dic_taille_plantes.items():\n",
    "    print(key + \" -- \" + str(values) + \" cm\")"
   ]
  },
  {
   "cell_type": "markdown",
   "metadata": {},
   "source": [
    "## Itérer sur un tableau Numpy\n",
    "Pour itérer sur un tableau 1D c'est aussi simple que :"
   ]
  },
  {
   "cell_type": "code",
   "execution_count": 29,
   "metadata": {
    "tags": []
   },
   "outputs": [
    {
     "name": "stdout",
     "output_type": "stream",
     "text": [
      "4\n",
      "6\n",
      "1\n"
     ]
    }
   ],
   "source": [
    "# Importation du module numpy\n",
    "import numpy as np\n",
    "\n",
    "# Création du tableau Numpy\n",
    "A = np.array([4, 6, 1])\n",
    "\n",
    "# Itérer sur le tableau Numpy\n",
    "for i in A:\n",
    "    print(i)"
   ]
  },
  {
   "cell_type": "markdown",
   "metadata": {},
   "source": [
    "Si on veut itérer sur tous les éléments d'un tableau 2D, on peut utiliser la fonction Numpy `nditer()` :"
   ]
  },
  {
   "cell_type": "code",
   "execution_count": 31,
   "metadata": {
    "tags": []
   },
   "outputs": [
    {
     "name": "stdout",
     "output_type": "stream",
     "text": [
      "1\n",
      "7\n",
      "8\n",
      "0\n"
     ]
    }
   ],
   "source": [
    "# Création du tableau Numpy à 2 dimensions\n",
    "B = np.array([[1, 7],\n",
    "              [8, 0]])\n",
    "\n",
    "# Itérer sur tous les éléments du tableau 2D\n",
    "for x in np.nditer(B):\n",
    "    print(x)"
   ]
  },
  {
   "cell_type": "markdown",
   "metadata": {},
   "source": [
    "## Itérer sur un `DataFrame`\n",
    "Il est possible d'itérer sur les différentes lignes d'un DataFrame en utilisant la méthode `.iterrows()`.\n",
    "\n",
    "Par exemple, créons un DataFrame à partir d'un dictionnaire donnant les tailles de 3 de nos plantes pendant 4 jours, avec une observation par jour :"
   ]
  },
  {
   "cell_type": "code",
   "execution_count": 36,
   "metadata": {
    "tags": []
   },
   "outputs": [],
   "source": [
    "# Importation du module Pandas\n",
    "import pandas as pd\n",
    "\n",
    "# Création d'un dictionnaire\n",
    "dic_taille_plantes = {\"gentiane\"  : [7.5, 7.8, 8.3, 8.4], \n",
    "                      \"campanule\" : [5.8, 6.6, 7.4, 8.3],\n",
    "                      \"pensée\"    : [11.4, 11.6, 11.7, 11.7]}\n",
    "\n",
    "# Création du DataFrame\n",
    "df_taille_plantes = pd.DataFrame(data = dic_taille_plantes, index = range(1, 5))"
   ]
  },
  {
   "cell_type": "markdown",
   "metadata": {},
   "source": [
    "Voici notre DataFrame :"
   ]
  },
  {
   "cell_type": "code",
   "execution_count": 37,
   "metadata": {},
   "outputs": [
    {
     "data": {
      "text/html": [
       "<div>\n",
       "<style scoped>\n",
       "    .dataframe tbody tr th:only-of-type {\n",
       "        vertical-align: middle;\n",
       "    }\n",
       "\n",
       "    .dataframe tbody tr th {\n",
       "        vertical-align: top;\n",
       "    }\n",
       "\n",
       "    .dataframe thead th {\n",
       "        text-align: right;\n",
       "    }\n",
       "</style>\n",
       "<table border=\"1\" class=\"dataframe\">\n",
       "  <thead>\n",
       "    <tr style=\"text-align: right;\">\n",
       "      <th></th>\n",
       "      <th>gentiane</th>\n",
       "      <th>campanule</th>\n",
       "      <th>pensée</th>\n",
       "    </tr>\n",
       "  </thead>\n",
       "  <tbody>\n",
       "    <tr>\n",
       "      <th>1</th>\n",
       "      <td>7.5</td>\n",
       "      <td>5.8</td>\n",
       "      <td>11.4</td>\n",
       "    </tr>\n",
       "    <tr>\n",
       "      <th>2</th>\n",
       "      <td>7.8</td>\n",
       "      <td>6.6</td>\n",
       "      <td>11.6</td>\n",
       "    </tr>\n",
       "    <tr>\n",
       "      <th>3</th>\n",
       "      <td>8.3</td>\n",
       "      <td>7.4</td>\n",
       "      <td>11.7</td>\n",
       "    </tr>\n",
       "    <tr>\n",
       "      <th>4</th>\n",
       "      <td>8.4</td>\n",
       "      <td>8.3</td>\n",
       "      <td>11.7</td>\n",
       "    </tr>\n",
       "  </tbody>\n",
       "</table>\n",
       "</div>"
      ],
      "text/plain": [
       "   gentiane  campanule  pensée\n",
       "1       7.5        5.8    11.4\n",
       "2       7.8        6.6    11.6\n",
       "3       8.3        7.4    11.7\n",
       "4       8.4        8.3    11.7"
      ]
     },
     "execution_count": 37,
     "metadata": {},
     "output_type": "execute_result"
    }
   ],
   "source": [
    "df_taille_plantes"
   ]
  },
  {
   "cell_type": "markdown",
   "metadata": {},
   "source": [
    "sur lequel nous itérons chaque observation (une observation par jour, en commençant par le jour 1) :"
   ]
  },
  {
   "cell_type": "code",
   "execution_count": 38,
   "metadata": {
    "tags": []
   },
   "outputs": [
    {
     "name": "stdout",
     "output_type": "stream",
     "text": [
      "jour 1\n",
      "gentiane      7.5\n",
      "campanule     5.8\n",
      "pensée       11.4\n",
      "Name: 1, dtype: float64\n",
      "\n",
      "jour 2\n",
      "gentiane      7.8\n",
      "campanule     6.6\n",
      "pensée       11.6\n",
      "Name: 2, dtype: float64\n",
      "\n",
      "jour 3\n",
      "gentiane      8.3\n",
      "campanule     7.4\n",
      "pensée       11.7\n",
      "Name: 3, dtype: float64\n",
      "\n",
      "jour 4\n",
      "gentiane      8.4\n",
      "campanule     8.3\n",
      "pensée       11.7\n",
      "Name: 4, dtype: float64\n",
      "\n"
     ]
    }
   ],
   "source": [
    "for label, row in df_taille_plantes.iterrows():\n",
    "    print(\"jour\", label)\n",
    "    print(row)\n",
    "    print()"
   ]
  },
  {
   "cell_type": "markdown",
   "metadata": {},
   "source": [
    "Dans la boucle, la variable `row` extrait avec la méthode `.iterrows()` est un objet de type `Series`. Cet objet est construit avec comme Index le nom des colonnes, et comme nom l'Index de la ligne correspondante du DataFrame. Le tableau est en quelque sorte renversé pour produire une série d'observations pour chaque jour.\n",
    "\n",
    "Il est alors facile d'extraire les observations correspondant seulement à une plante donnée :"
   ]
  },
  {
   "cell_type": "code",
   "execution_count": 39,
   "metadata": {
    "tags": []
   },
   "outputs": [
    {
     "name": "stdout",
     "output_type": "stream",
     "text": [
      "jour 1 : 7.5\n",
      "jour 2 : 7.8\n",
      "jour 3 : 8.3\n",
      "jour 4 : 8.4\n"
     ]
    }
   ],
   "source": [
    "for label, row in df_taille_plantes.iterrows():\n",
    "    print(\"jour \" + str(label) + \" : \" + str(row[\"gentiane\"]))"
   ]
  },
  {
   "cell_type": "markdown",
   "metadata": {},
   "source": [
    "Il est aussi possible d'itérer sur les colonnes de l'objet DataFrame avec la méthode `.iteritems()` :"
   ]
  },
  {
   "cell_type": "code",
   "execution_count": 41,
   "metadata": {
    "tags": []
   },
   "outputs": [
    {
     "name": "stdout",
     "output_type": "stream",
     "text": [
      "Plante : gentiane\n",
      "1    7.5\n",
      "2    7.8\n",
      "3    8.3\n",
      "4    8.4\n",
      "Name: gentiane, dtype: float64\n",
      "\n",
      "Plante : campanule\n",
      "1    5.8\n",
      "2    6.6\n",
      "3    7.4\n",
      "4    8.3\n",
      "Name: campanule, dtype: float64\n",
      "\n",
      "Plante : pensée\n",
      "1    11.4\n",
      "2    11.6\n",
      "3    11.7\n",
      "4    11.7\n",
      "Name: pensée, dtype: float64\n",
      "\n"
     ]
    }
   ],
   "source": [
    "for label, col in df_taille_plantes.iteritems():\n",
    "    print(\"Plante : \" + label)\n",
    "    print(col)\n",
    "    print()"
   ]
  },
  {
   "cell_type": "markdown",
   "metadata": {},
   "source": [
    "On voit que la variable `col` est un objet `Series` contenant toutes les observations correspondant à une colonne donnée, c'est-à-dire à une plante donnée."
   ]
  },
  {
   "cell_type": "markdown",
   "metadata": {},
   "source": [
    "### Exercice\n",
    "Importons les données sauvées dans le fichier pickle contenant l'objet DataFrame sur les pays de l'Union Européenne :"
   ]
  },
  {
   "cell_type": "code",
   "execution_count": 43,
   "metadata": {},
   "outputs": [],
   "source": [
    "df_europe = pd.read_pickle('./europe.pkl')"
   ]
  },
  {
   "cell_type": "markdown",
   "metadata": {},
   "source": [
    "1. Créer une copie de cet objet appelée `df_europe_cp` avec [la méthode](https://pandas.pydata.org/pandas-docs/stable/reference/api/pandas.DataFrame.copy.html?highlight=copy#pandas.DataFrame.copy) `.copy()`\n",
    "2. À l'aide d'une boucle `for`, écrire chaque pays et capitale sous la forme `Pays : Capitale` (avec une majuscule pour la première lettre, on peut utliser la méthode `.capitalize()`). Par exemple pour la première itération : `Allemagne : Berlin`."
   ]
  },
  {
   "cell_type": "code",
   "execution_count": 44,
   "metadata": {},
   "outputs": [],
   "source": [
    "# 1\n",
    "\n",
    "df_europe_cp = df_europe.copy()"
   ]
  },
  {
   "cell_type": "code",
   "execution_count": 48,
   "metadata": {},
   "outputs": [
    {
     "data": {
      "text/html": [
       "<div>\n",
       "<style scoped>\n",
       "    .dataframe tbody tr th:only-of-type {\n",
       "        vertical-align: middle;\n",
       "    }\n",
       "\n",
       "    .dataframe tbody tr th {\n",
       "        vertical-align: top;\n",
       "    }\n",
       "\n",
       "    .dataframe thead th {\n",
       "        text-align: right;\n",
       "    }\n",
       "</style>\n",
       "<table border=\"1\" class=\"dataframe\">\n",
       "  <thead>\n",
       "    <tr style=\"text-align: right;\">\n",
       "      <th></th>\n",
       "      <th>pays</th>\n",
       "      <th>capitale</th>\n",
       "      <th>population</th>\n",
       "      <th>date d'adhésion</th>\n",
       "      <th>sièges</th>\n",
       "      <th>poids</th>\n",
       "    </tr>\n",
       "  </thead>\n",
       "  <tbody>\n",
       "    <tr>\n",
       "      <th>1</th>\n",
       "      <td>allemagne</td>\n",
       "      <td>berlin</td>\n",
       "      <td>82162000</td>\n",
       "      <td>1957-01-01</td>\n",
       "      <td>96</td>\n",
       "      <td>1.370336</td>\n",
       "    </tr>\n",
       "    <tr>\n",
       "      <th>2</th>\n",
       "      <td>autriche</td>\n",
       "      <td>vienne</td>\n",
       "      <td>8700471</td>\n",
       "      <td>1995-01-01</td>\n",
       "      <td>18</td>\n",
       "      <td>2.426367</td>\n",
       "    </tr>\n",
       "  </tbody>\n",
       "</table>\n",
       "</div>"
      ],
      "text/plain": [
       "        pays capitale  population date d'adhésion  sièges     poids\n",
       "1  allemagne   berlin    82162000      1957-01-01      96  1.370336\n",
       "2   autriche   vienne     8700471      1995-01-01      18  2.426367"
      ]
     },
     "execution_count": 48,
     "metadata": {},
     "output_type": "execute_result"
    }
   ],
   "source": [
    "df_europe_cp.head(n=2)\n"
   ]
  },
  {
   "cell_type": "code",
   "execution_count": 51,
   "metadata": {},
   "outputs": [
    {
     "name": "stdout",
     "output_type": "stream",
     "text": [
      "Allemagne : Berlin\n",
      "Autriche : Vienne\n",
      "Belgique : Bruxelles\n",
      "Bulgarie : Sofia\n",
      "Chypre : Nicosie\n",
      "Croatie : Zagreb\n",
      "Danemark : Copenhague\n",
      "Espagne : Madrid\n",
      "Estonie : Tallinn\n",
      "Finlande : Helsinki\n",
      "France : Paris\n",
      "Grèce : Athènes\n",
      "Hongrie : Budapest\n",
      "Irlande : Dublin\n",
      "Italie : Rome\n",
      "Lettonie : Riga\n",
      "Lituanie : Vilnius\n",
      "Luxembourg : Luxembourg\n",
      "Malte : La valette\n",
      "Pays-bas : Amsterdam\n",
      "Pologne : Varsovie\n",
      "Portugal : Lisbonne\n",
      "République tchèque : Prague\n",
      "Roumanie : Bucarest\n",
      "Slovaquie : Bratislava\n",
      "Slovénie : Ljubljana\n",
      "Suède : Stockholm\n"
     ]
    }
   ],
   "source": [
    "# 2\n",
    "for l, row in df_europe_cp.iterrows():\n",
    "    print(row[\"pays\"].capitalize() + \" : \" + row[\"capitale\"].capitalize())"
   ]
  }
 ],
 "metadata": {
  "celltoolbar": "Tags",
  "kernelspec": {
   "display_name": "Python 3 (ipykernel)",
   "language": "python",
   "name": "python3"
  },
  "language_info": {
   "codemirror_mode": {
    "name": "ipython",
    "version": 3
   },
   "file_extension": ".py",
   "mimetype": "text/x-python",
   "name": "python",
   "nbconvert_exporter": "python",
   "pygments_lexer": "ipython3",
   "version": "3.9.5"
  }
 },
 "nbformat": 4,
 "nbformat_minor": 4
}
