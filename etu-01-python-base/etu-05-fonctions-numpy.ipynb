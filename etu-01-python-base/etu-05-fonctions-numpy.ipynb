{
 "cells": [
  {
   "cell_type": "markdown",
   "metadata": {},
   "source": [
    "# Les fonctions de Numpy"
   ]
  },
  {
   "cell_type": "markdown",
   "metadata": {},
   "source": [
    "## **Vidéo**: Création de tableaux"
   ]
  },
  {
   "cell_type": "code",
   "execution_count": 1,
   "metadata": {
    "tags": [
     "remove-input"
    ]
   },
   "outputs": [
    {
     "data": {
      "text/html": [
       "<iframe src=\"https://sorbonne-universite.cloud.panopto.eu/Panopto/Pages/Embed.aspx?id=8b879221-1151-42ec-972b-adb100bce1f6&autoplay=false&offerviewer=true&showtitle=true&showbrand=false&captions=false&interactivity=all\" height=\"405\" width=\"720\" style=\"border: 1px solid #464646;\" allowfullscreen allow=\"autoplay\"></iframe>\n"
      ],
      "text/plain": [
       "<IPython.core.display.HTML object>"
      ]
     },
     "metadata": {},
     "output_type": "display_data"
    }
   ],
   "source": [
    "%%HTML\n",
    "<iframe src=\"https://sorbonne-universite.cloud.panopto.eu/Panopto/Pages/Embed.aspx?id=8b879221-1151-42ec-972b-adb100bce1f6&autoplay=false&offerviewer=true&showtitle=true&showbrand=false&captions=false&interactivity=all\" height=\"405\" width=\"720\" style=\"border: 1px solid #464646;\" allowfullscreen allow=\"autoplay\"></iframe>"
   ]
  },
  {
   "cell_type": "markdown",
   "metadata": {},
   "source": [
    "## Créer des tableaux Numpy"
   ]
  },
  {
   "cell_type": "markdown",
   "metadata": {},
   "source": [
    "De nombreuses fonctions de Numpy sont dédiées à la construction de tableaux multidimensionnels. La [liste complète des fonctions](https://docs.scipy.org/doc/numpy/reference/routines.array-creation.html) pour la création de tableaux peut se trouver dans la documentation Numpy. Attention à bien choisir la documentation appropriée à votre version de Numpy, accessible avec :"
   ]
  },
  {
   "cell_type": "code",
   "execution_count": 2,
   "metadata": {
    "tags": []
   },
   "outputs": [
    {
     "name": "stdout",
     "output_type": "stream",
     "text": [
      "1.21.2\n"
     ]
    }
   ],
   "source": [
    "# Importation du module Numpy\n",
    "import numpy as np\n",
    "\n",
    "print(np.__version__)"
   ]
  },
  {
   "cell_type": "markdown",
   "metadata": {},
   "source": [
    "## La fonction `arrayInfo`\n",
    "\n",
    "Nous allons créer une fonction pour afficher les informations relatives aux tableaux Numpy, même si nous verrons plus tard la syntaxe de création d'une fonction personnelle."
   ]
  },
  {
   "cell_type": "code",
   "execution_count": 3,
   "metadata": {},
   "outputs": [],
   "source": [
    "def arrayInfo(array_name):\n",
    "    \"\"\" Prints out the content, shape, dimensions and data type of an array \"\"\"\n",
    "    print(\"-----\")\n",
    "    print(array_name)\n",
    "    print(\"shape:\", array_name.shape)\n",
    "    print(\"number of dimensions:\", array_name.ndim)\n",
    "    print(\"datatype:\", array_name.dtype)\n",
    "    print(\"-----\")\n",
    "    return"
   ]
  },
  {
   "cell_type": "markdown",
   "metadata": {},
   "source": [
    "Nous pouvons alors utiliser cette fonction comme une fonction Python pour obtenir des informations sur un tableau :"
   ]
  },
  {
   "cell_type": "code",
   "execution_count": 4,
   "metadata": {
    "tags": []
   },
   "outputs": [
    {
     "name": "stdout",
     "output_type": "stream",
     "text": [
      "-----\n",
      "[[ 3  5  9]\n",
      " [ 4  6 -2]]\n",
      "shape: (2, 3)\n",
      "number of dimensions: 2\n",
      "datatype: int64\n",
      "-----\n"
     ]
    }
   ],
   "source": [
    "# Création d'un tableau Numpy\n",
    "A = np.array([[3, 5, 9],\n",
    "            [4, 6, -2]])\n",
    "\n",
    "# Utilisation de la fonction arrayInfo\n",
    "arrayInfo(A)"
   ]
  },
  {
   "cell_type": "markdown",
   "metadata": {},
   "source": [
    "## Uns et zeros\n",
    "\n",
    "Voici quelques fonctions utiles pour créer des tableaux préremplis :\n",
    "\n",
    "fonction | description\n",
    "--|--\n",
    "`empty(shape)` | retourne un tableau de forme donnée\n",
    "`ones(shape)` | retourne un tableau rempli de 1 de forme donnée\n",
    "`zeros(shape)` | retourne un tableau rempli de 0 de forme donnée"
   ]
  },
  {
   "cell_type": "markdown",
   "metadata": {},
   "source": [
    "Par exemple, créons un tableau `A` avec 3 lignes et 4 colonnes rempli de 1 :"
   ]
  },
  {
   "cell_type": "code",
   "execution_count": 5,
   "metadata": {
    "tags": []
   },
   "outputs": [
    {
     "name": "stdout",
     "output_type": "stream",
     "text": [
      "-----\n",
      "[[1. 1. 1. 1.]\n",
      " [1. 1. 1. 1.]\n",
      " [1. 1. 1. 1.]]\n",
      "shape: (3, 4)\n",
      "number of dimensions: 2\n",
      "datatype: float64\n",
      "-----\n"
     ]
    }
   ],
   "source": [
    "A = np.ones((3, 4))\n",
    "arrayInfo(A)"
   ]
  },
  {
   "cell_type": "markdown",
   "metadata": {},
   "source": [
    "On rappelle que la forme du tableau (*shape*) s'écrit sous la forme d'un *tuple* (voir Le module Numpy). Ici le *tuple* définit le nombre d'éléments dans chacune des dimensions du tableau : 3 éléments dans la dimension 0 (lignes), et 4 éléments dans la dimension 1 (colonnes), c’est-à-dire un tableau avec 3 lignes et 4 colonnes.\n",
    "\n",
    "On remarque que le type des éléments du tableau est par défaut `float64`, c'est-à-dire des réels. Si nous voulons un type différent, il faut ajouter l'argument `dtype` à la fonction :"
   ]
  },
  {
   "cell_type": "code",
   "execution_count": 9,
   "metadata": {
    "tags": []
   },
   "outputs": [
    {
     "name": "stdout",
     "output_type": "stream",
     "text": [
      "-----\n",
      "[[1 1 1 1]\n",
      " [1 1 1 1]\n",
      " [1 1 1 1]]\n",
      "shape: (3, 4)\n",
      "number of dimensions: 2\n",
      "datatype: int64\n",
      "-----\n",
      "-----\n",
      "[[1 1 1 1]\n",
      " [1 1 1 1]\n",
      " [1 1 1 1]]\n",
      "shape: (3, 4)\n",
      "number of dimensions: 2\n",
      "datatype: uint8\n",
      "-----\n"
     ]
    }
   ],
   "source": [
    "A = np.ones((3, 4), dtype = 'int64')\n",
    "arrayInfo(A)\n",
    "\n",
    "A_ = np.ones((3, 4), dtype = 'uint8')\n",
    "arrayInfo(A_)"
   ]
  },
  {
   "cell_type": "markdown",
   "metadata": {},
   "source": [
    "Maintenant, créons un tableau à une dimension avec 5 éléments tous égaux à zéro. Pour cela, il faut se souvenir comment écrire un *tuple* avec 1 seul élément :"
   ]
  },
  {
   "cell_type": "code",
   "execution_count": 10,
   "metadata": {
    "tags": []
   },
   "outputs": [
    {
     "name": "stdout",
     "output_type": "stream",
     "text": [
      "-----\n",
      "[0. 0. 0. 0. 0.]\n",
      "shape: (5,)\n",
      "number of dimensions: 1\n",
      "datatype: float64\n",
      "-----\n"
     ]
    }
   ],
   "source": [
    "A = np.zeros((5,))\n",
    "arrayInfo(A)"
   ]
  },
  {
   "cell_type": "markdown",
   "metadata": {},
   "source": [
    "La fonction `empty()` permet de créer un tableau rapidement. Mais attention, ce tableau n'est pas vide, contrairement à ce que le nom de la fonction laisse entendre :"
   ]
  },
  {
   "cell_type": "code",
   "execution_count": 14,
   "metadata": {
    "tags": []
   },
   "outputs": [
    {
     "name": "stdout",
     "output_type": "stream",
     "text": [
      "-----\n",
      "[[2.60605835e-31 5.21211670e-31 1.30302917e-31]\n",
      " [5.21211670e-31 1.13363538e-30 3.51817877e-31]\n",
      " [1.30302917e-31 3.51817877e-31 2.01969522e-31]]\n",
      "shape: (3, 3)\n",
      "number of dimensions: 2\n",
      "datatype: float64\n",
      "-----\n"
     ]
    }
   ],
   "source": [
    "A = np.empty((3, 3))\n",
    "arrayInfo(A)"
   ]
  },
  {
   "cell_type": "markdown",
   "metadata": {},
   "source": [
    "On peut tester la vitesse d'exécution des différentes fonctions avec la commande `%timeit` :"
   ]
  },
  {
   "cell_type": "code",
   "execution_count": 16,
   "metadata": {
    "tags": []
   },
   "outputs": [
    {
     "name": "stdout",
     "output_type": "stream",
     "text": [
      "299 µs ± 12.2 µs per loop (mean ± std. dev. of 7 runs, 1000 loops each)\n"
     ]
    }
   ],
   "source": [
    "%timeit np.zeros((1000, 1000))"
   ]
  },
  {
   "cell_type": "code",
   "execution_count": 17,
   "metadata": {},
   "outputs": [
    {
     "name": "stdout",
     "output_type": "stream",
     "text": [
      "776 ns ± 7.28 ns per loop (mean ± std. dev. of 7 runs, 1000000 loops each)\n"
     ]
    }
   ],
   "source": [
    "%timeit np.empty((1000, 1000))"
   ]
  },
  {
   "cell_type": "markdown",
   "metadata": {},
   "source": [
    "Comme on ne sait jamais vraiment ce que la fonction `empty()` met dans le tableau initialisé, il est presque toujours préférable d'utiliser `zeros()` ou `ones()`, pour être certain de ce qui est dans le tableau.\n",
    "\n",
    "Les erreurs liées à des variables non itialisées ou mal initialisées sont fréquentes en programmation, et c'est donc une bonne habitude à prendre de toujours être certain que les variables sont correctement initialisées."
   ]
  },
  {
   "cell_type": "markdown",
   "metadata": {},
   "source": [
    "### Exercice\n",
    "\n",
    "1. Créer un tableau `A` de dimension 1, contenant 7 éléments tous égaux à $4.2$ avec la fonction `ones()`. Afficher les attributs du tableau avec la fonction `arrayInfo()`\n",
    "2. Créer un tableau vide B avec la fonction `zeros()`, de même forme que A, sans écrire explicitement de *tuple* en argument de la fonction"
   ]
  },
  {
   "cell_type": "code",
   "execution_count": 27,
   "metadata": {},
   "outputs": [
    {
     "name": "stdout",
     "output_type": "stream",
     "text": [
      "-----\n",
      "[[4.2 4.2 4.2 4.2 4.2 4.2 4.2]]\n",
      "shape: (1, 7)\n",
      "number of dimensions: 2\n",
      "datatype: float64\n",
      "-----\n"
     ]
    }
   ],
   "source": [
    "A = np.full((1,7), 4.2)\n",
    "arrayInfo(A)"
   ]
  },
  {
   "cell_type": "code",
   "execution_count": 29,
   "metadata": {},
   "outputs": [
    {
     "name": "stdout",
     "output_type": "stream",
     "text": [
      "-----\n",
      "[[0. 0. 0. 0. 0. 0. 0.]]\n",
      "shape: (1, 7)\n",
      "number of dimensions: 2\n",
      "datatype: float64\n",
      "-----\n"
     ]
    }
   ],
   "source": [
    "B = np.zeros(A.shape)\n",
    "arrayInfo(B)"
   ]
  },
  {
   "cell_type": "markdown",
   "metadata": {},
   "source": [
    "## Intervalles et pas\n",
    "\n",
    "Voici quelques fonctions utiles pour créer des tableaux dans un intervalle donné :\n",
    "\n",
    "fonction | description\n",
    "--|--\n",
    "`arange()` | valeurs régulièrement espacées pour un pas donné\n",
    "`linspace()` | valeurs régulièrement espacées pour un nombre d'éléments donné\n",
    "`logspace()` | valeurs régulièrement espacées sur une échelle logarithmique pour un nombre d'éléments donné\n",
    "\n",
    "La fonction `linspace()` est utile pour générer des tableaux avec des valeurs définies sur un intervalle donné. Par exemple, pour générer un tableau avec 15 valeurs dans l'intervalle `[−4, 4]` :"
   ]
  },
  {
   "cell_type": "code",
   "execution_count": 30,
   "metadata": {
    "tags": []
   },
   "outputs": [
    {
     "name": "stdout",
     "output_type": "stream",
     "text": [
      "-----\n",
      "[-4.         -3.42857143 -2.85714286 -2.28571429 -1.71428571 -1.14285714\n",
      " -0.57142857  0.          0.57142857  1.14285714  1.71428571  2.28571429\n",
      "  2.85714286  3.42857143  4.        ]\n",
      "shape: (15,)\n",
      "number of dimensions: 1\n",
      "datatype: float64\n",
      "-----\n"
     ]
    }
   ],
   "source": [
    "A = np.linspace(-4., 4, 15) # min, max, nombre d'éléments\n",
    "arrayInfo(A)"
   ]
  },
  {
   "cell_type": "markdown",
   "metadata": {},
   "source": [
    "Les deux premiers arguments de la fonction sont les bornes inférieure et supérieure, et le troisième argument est le nombre d'éléments du tableau. Si le nombre de points est omis, la fonction `linspace()` utilisera la valeur par défaut de 50 points, ce que l'on peut vérifier dans l'aide de python :"
   ]
  },
  {
   "cell_type": "code",
   "execution_count": 31,
   "metadata": {
    "tags": []
   },
   "outputs": [
    {
     "name": "stdout",
     "output_type": "stream",
     "text": [
      "Help on function linspace in module numpy:\n",
      "\n",
      "linspace(start, stop, num=50, endpoint=True, retstep=False, dtype=None, axis=0)\n",
      "    Return evenly spaced numbers over a specified interval.\n",
      "    \n",
      "    Returns `num` evenly spaced samples, calculated over the\n",
      "    interval [`start`, `stop`].\n",
      "    \n",
      "    The endpoint of the interval can optionally be excluded.\n",
      "    \n",
      "    .. versionchanged:: 1.16.0\n",
      "        Non-scalar `start` and `stop` are now supported.\n",
      "    \n",
      "    .. versionchanged:: 1.20.0\n",
      "        Values are rounded towards ``-inf`` instead of ``0`` when an\n",
      "        integer ``dtype`` is specified. The old behavior can\n",
      "        still be obtained with ``np.linspace(start, stop, num).astype(int)``\n",
      "    \n",
      "    Parameters\n",
      "    ----------\n",
      "    start : array_like\n",
      "        The starting value of the sequence.\n",
      "    stop : array_like\n",
      "        The end value of the sequence, unless `endpoint` is set to False.\n",
      "        In that case, the sequence consists of all but the last of ``num + 1``\n",
      "        evenly spaced samples, so that `stop` is excluded.  Note that the step\n",
      "        size changes when `endpoint` is False.\n",
      "    num : int, optional\n",
      "        Number of samples to generate. Default is 50. Must be non-negative.\n",
      "    endpoint : bool, optional\n",
      "        If True, `stop` is the last sample. Otherwise, it is not included.\n",
      "        Default is True.\n",
      "    retstep : bool, optional\n",
      "        If True, return (`samples`, `step`), where `step` is the spacing\n",
      "        between samples.\n",
      "    dtype : dtype, optional\n",
      "        The type of the output array.  If `dtype` is not given, the data type\n",
      "        is inferred from `start` and `stop`. The inferred dtype will never be\n",
      "        an integer; `float` is chosen even if the arguments would produce an\n",
      "        array of integers.\n",
      "    \n",
      "        .. versionadded:: 1.9.0\n",
      "    \n",
      "    axis : int, optional\n",
      "        The axis in the result to store the samples.  Relevant only if start\n",
      "        or stop are array-like.  By default (0), the samples will be along a\n",
      "        new axis inserted at the beginning. Use -1 to get an axis at the end.\n",
      "    \n",
      "        .. versionadded:: 1.16.0\n",
      "    \n",
      "    Returns\n",
      "    -------\n",
      "    samples : ndarray\n",
      "        There are `num` equally spaced samples in the closed interval\n",
      "        ``[start, stop]`` or the half-open interval ``[start, stop)``\n",
      "        (depending on whether `endpoint` is True or False).\n",
      "    step : float, optional\n",
      "        Only returned if `retstep` is True\n",
      "    \n",
      "        Size of spacing between samples.\n",
      "    \n",
      "    \n",
      "    See Also\n",
      "    --------\n",
      "    arange : Similar to `linspace`, but uses a step size (instead of the\n",
      "             number of samples).\n",
      "    geomspace : Similar to `linspace`, but with numbers spaced evenly on a log\n",
      "                scale (a geometric progression).\n",
      "    logspace : Similar to `geomspace`, but with the end points specified as\n",
      "               logarithms.\n",
      "    \n",
      "    Examples\n",
      "    --------\n",
      "    >>> np.linspace(2.0, 3.0, num=5)\n",
      "    array([2.  , 2.25, 2.5 , 2.75, 3.  ])\n",
      "    >>> np.linspace(2.0, 3.0, num=5, endpoint=False)\n",
      "    array([2. ,  2.2,  2.4,  2.6,  2.8])\n",
      "    >>> np.linspace(2.0, 3.0, num=5, retstep=True)\n",
      "    (array([2.  ,  2.25,  2.5 ,  2.75,  3.  ]), 0.25)\n",
      "    \n",
      "    Graphical illustration:\n",
      "    \n",
      "    >>> import matplotlib.pyplot as plt\n",
      "    >>> N = 8\n",
      "    >>> y = np.zeros(N)\n",
      "    >>> x1 = np.linspace(0, 10, N, endpoint=True)\n",
      "    >>> x2 = np.linspace(0, 10, N, endpoint=False)\n",
      "    >>> plt.plot(x1, y, 'o')\n",
      "    [<matplotlib.lines.Line2D object at 0x...>]\n",
      "    >>> plt.plot(x2, y + 0.5, 'o')\n",
      "    [<matplotlib.lines.Line2D object at 0x...>]\n",
      "    >>> plt.ylim([-0.5, 1])\n",
      "    (-0.5, 1)\n",
      "    >>> plt.show()\n",
      "\n"
     ]
    }
   ],
   "source": [
    "help(np.linspace)"
   ]
  },
  {
   "cell_type": "markdown",
   "metadata": {},
   "source": [
    "Il arrive souvent que l'on veuille créer un tableau avec non pas un nombre d'éléments donné à l'avance, mais un *pas* donné à l'avance. Le *pas* est l'intervalle entre 2 éléments. Si l'intervalle entre n'importe quels 2 éléments consécutifs reste le même, on parle alors de *pas fixe* ou de *pas constant*.\n",
    "\n",
    "Voici une petite routine qui permet de créer un tableau d'éléments compris entre 2 bornes connues à l'avance et un pas fixe :"
   ]
  },
  {
   "cell_type": "code",
   "execution_count": 39,
   "metadata": {
    "tags": []
   },
   "outputs": [
    {
     "name": "stdout",
     "output_type": "stream",
     "text": [
      "-----\n",
      "[-1.  -0.9 -0.8 -0.7 -0.6 -0.5 -0.4 -0.3 -0.2 -0.1  0.   0.1  0.2  0.3\n",
      "  0.4  0.5  0.6  0.7  0.8  0.9  1.   1.1  1.2  1.3  1.4  1.5  1.6  1.7\n",
      "  1.8  1.9  2. ]\n",
      "shape: (31,)\n",
      "number of dimensions: 1\n",
      "datatype: float64\n",
      "-----\n"
     ]
    }
   ],
   "source": [
    "# Paramètres\n",
    "start = -1.0   # borne inférieure\n",
    "end = 2.0       # borne supérieure\n",
    "step = 0.1      # pas\n",
    "\n",
    "# Création du tableau\n",
    "interval = end - start                     # intervalle\n",
    "num_points = int(interval / step) + 1      # nombre d'éléments\n",
    "g = np.linspace(start, end, num_points)    # tableau\n",
    "\n",
    "# Attributs du tableau\n",
    "arrayInfo(g)"
   ]
  },
  {
   "cell_type": "markdown",
   "metadata": {},
   "source": [
    "### Exercice\n",
    "\n",
    "Pourquoi dans la routine précédente le nombre de points est donné par `int(interval / step) + 1` ?"
   ]
  },
  {
   "cell_type": "markdown",
   "metadata": {},
   "source": [
    "> Parce qu'on doit prend en compte l'indice 0, c'est à dire si on cherche un tableu de taille. `size=30`, nous devons compter dépuis zero, sinon, on va avoir un tableau jusqu'à `size=29`. Et cela peut signifier en valeurs dans l'interval incorrecte."
   ]
  },
  {
   "cell_type": "code",
   "execution_count": 40,
   "metadata": {},
   "outputs": [
    {
     "data": {
      "text/plain": [
       "array([-1.        , -0.89655172, -0.79310345, -0.68965517, -0.5862069 ,\n",
       "       -0.48275862, -0.37931034, -0.27586207, -0.17241379, -0.06896552,\n",
       "        0.03448276,  0.13793103,  0.24137931,  0.34482759,  0.44827586,\n",
       "        0.55172414,  0.65517241,  0.75862069,  0.86206897,  0.96551724,\n",
       "        1.06896552,  1.17241379,  1.27586207,  1.37931034,  1.48275862,\n",
       "        1.5862069 ,  1.68965517,  1.79310345,  1.89655172,  2.        ])"
      ]
     },
     "execution_count": 40,
     "metadata": {},
     "output_type": "execute_result"
    }
   ],
   "source": [
    "np.linspace(start, end, int(((2.-(-1.)) / .1))) "
   ]
  },
  {
   "cell_type": "markdown",
   "metadata": {},
   "source": [
    "La fonction `arange()` génère des valeurs dans l'intervalle semi-ouvert [début, fin[ avec un pas donné. Cependant, il est conseillé de ne pas l'utiliser avec un pas non entier, car le résultat n'est pas toujours cohérent avec la définition. Par exemple :"
   ]
  },
  {
   "cell_type": "code",
   "execution_count": 41,
   "metadata": {
    "tags": []
   },
   "outputs": [
    {
     "name": "stdout",
     "output_type": "stream",
     "text": [
      "[7.8  7.85 7.9  7.95 8.   8.05 8.1  8.15 8.2  8.25 8.3  8.35 8.4 ]\n"
     ]
    }
   ],
   "source": [
    "print(np.arange(7.8, 8.4, 0.05))"
   ]
  },
  {
   "cell_type": "markdown",
   "metadata": {},
   "source": [
    "inclut l'élément 8.4 au lieu de l'exclure.\n",
    "\n",
    "Par défaut la fonction `arange()` va générer des valeurs entières si tous les arguments d'entrée sont des nombres entiers. De plus, si le pas est omis, la fonction `arange()` utilisera le pas par de défaut de 1.\n",
    "\n",
    "On peut donc l'utiliser à la place de la fonction `range()` pour générer un tableau Numpy d'entiers :"
   ]
  },
  {
   "cell_type": "code",
   "execution_count": 42,
   "metadata": {
    "tags": []
   },
   "outputs": [
    {
     "name": "stdout",
     "output_type": "stream",
     "text": [
      "-----\n",
      "[-3 -2 -1  0  1  2  3  4]\n",
      "shape: (8,)\n",
      "number of dimensions: 1\n",
      "datatype: int64\n",
      "-----\n",
      "-----\n",
      "[-3 -2 -1  0  1  2  3  4]\n",
      "shape: (8,)\n",
      "number of dimensions: 1\n",
      "datatype: int64\n",
      "-----\n"
     ]
    }
   ],
   "source": [
    "A = np.arange(-3, 5)\n",
    "\n",
    "# est équivalent à :\n",
    "B = np.array(list(range(-3, 5)))\n",
    "\n",
    "arrayInfo(A)\n",
    "arrayInfo(B)"
   ]
  },
  {
   "cell_type": "markdown",
   "metadata": {},
   "source": [
    "### Exercice\n",
    "\n",
    "En vous aidant de l'aide de la fonction `logspace()`, créer le tableau Numpy contenant toutes les puissances de $10$ depuis $10^{-4}$ à $10^{5}$, puis affichez les attributs du tableau avec arrayInfo."
   ]
  },
  {
   "cell_type": "code",
   "execution_count": 44,
   "metadata": {},
   "outputs": [
    {
     "name": "stdout",
     "output_type": "stream",
     "text": [
      "Help on function logspace in module numpy:\n",
      "\n",
      "logspace(start, stop, num=50, endpoint=True, base=10.0, dtype=None, axis=0)\n",
      "    Return numbers spaced evenly on a log scale.\n",
      "    \n",
      "    In linear space, the sequence starts at ``base ** start``\n",
      "    (`base` to the power of `start`) and ends with ``base ** stop``\n",
      "    (see `endpoint` below).\n",
      "    \n",
      "    .. versionchanged:: 1.16.0\n",
      "        Non-scalar `start` and `stop` are now supported.\n",
      "    \n",
      "    Parameters\n",
      "    ----------\n",
      "    start : array_like\n",
      "        ``base ** start`` is the starting value of the sequence.\n",
      "    stop : array_like\n",
      "        ``base ** stop`` is the final value of the sequence, unless `endpoint`\n",
      "        is False.  In that case, ``num + 1`` values are spaced over the\n",
      "        interval in log-space, of which all but the last (a sequence of\n",
      "        length `num`) are returned.\n",
      "    num : integer, optional\n",
      "        Number of samples to generate.  Default is 50.\n",
      "    endpoint : boolean, optional\n",
      "        If true, `stop` is the last sample. Otherwise, it is not included.\n",
      "        Default is True.\n",
      "    base : array_like, optional\n",
      "        The base of the log space. The step size between the elements in\n",
      "        ``ln(samples) / ln(base)`` (or ``log_base(samples)``) is uniform.\n",
      "        Default is 10.0.\n",
      "    dtype : dtype\n",
      "        The type of the output array.  If `dtype` is not given, the data type\n",
      "        is inferred from `start` and `stop`. The inferred type will never be\n",
      "        an integer; `float` is chosen even if the arguments would produce an\n",
      "        array of integers.\n",
      "    axis : int, optional\n",
      "        The axis in the result to store the samples.  Relevant only if start\n",
      "        or stop are array-like.  By default (0), the samples will be along a\n",
      "        new axis inserted at the beginning. Use -1 to get an axis at the end.\n",
      "    \n",
      "        .. versionadded:: 1.16.0\n",
      "    \n",
      "    \n",
      "    Returns\n",
      "    -------\n",
      "    samples : ndarray\n",
      "        `num` samples, equally spaced on a log scale.\n",
      "    \n",
      "    See Also\n",
      "    --------\n",
      "    arange : Similar to linspace, with the step size specified instead of the\n",
      "             number of samples. Note that, when used with a float endpoint, the\n",
      "             endpoint may or may not be included.\n",
      "    linspace : Similar to logspace, but with the samples uniformly distributed\n",
      "               in linear space, instead of log space.\n",
      "    geomspace : Similar to logspace, but with endpoints specified directly.\n",
      "    \n",
      "    Notes\n",
      "    -----\n",
      "    Logspace is equivalent to the code\n",
      "    \n",
      "    >>> y = np.linspace(start, stop, num=num, endpoint=endpoint)\n",
      "    ... # doctest: +SKIP\n",
      "    >>> power(base, y).astype(dtype)\n",
      "    ... # doctest: +SKIP\n",
      "    \n",
      "    Examples\n",
      "    --------\n",
      "    >>> np.logspace(2.0, 3.0, num=4)\n",
      "    array([ 100.        ,  215.443469  ,  464.15888336, 1000.        ])\n",
      "    >>> np.logspace(2.0, 3.0, num=4, endpoint=False)\n",
      "    array([100.        ,  177.827941  ,  316.22776602,  562.34132519])\n",
      "    >>> np.logspace(2.0, 3.0, num=4, base=2.0)\n",
      "    array([4.        ,  5.0396842 ,  6.34960421,  8.        ])\n",
      "    \n",
      "    Graphical illustration:\n",
      "    \n",
      "    >>> import matplotlib.pyplot as plt\n",
      "    >>> N = 10\n",
      "    >>> x1 = np.logspace(0.1, 1, N, endpoint=True)\n",
      "    >>> x2 = np.logspace(0.1, 1, N, endpoint=False)\n",
      "    >>> y = np.zeros(N)\n",
      "    >>> plt.plot(x1, y, 'o')\n",
      "    [<matplotlib.lines.Line2D object at 0x...>]\n",
      "    >>> plt.plot(x2, y + 0.5, 'o')\n",
      "    [<matplotlib.lines.Line2D object at 0x...>]\n",
      "    >>> plt.ylim([-0.5, 1])\n",
      "    (-0.5, 1)\n",
      "    >>> plt.show()\n",
      "\n"
     ]
    }
   ],
   "source": [
    "help(np.logspace)"
   ]
  },
  {
   "cell_type": "code",
   "execution_count": 51,
   "metadata": {},
   "outputs": [
    {
     "name": "stdout",
     "output_type": "stream",
     "text": [
      "-----\n",
      "[1.00000000e-04 1.52641797e-04 2.32995181e-04 3.55648031e-04\n",
      " 5.42867544e-04 8.28642773e-04 1.26485522e-03 1.93069773e-03\n",
      " 2.94705170e-03 4.49843267e-03 6.86648845e-03 1.04811313e-02\n",
      " 1.59985872e-02 2.44205309e-02 3.72759372e-02 5.68986603e-02\n",
      " 8.68511374e-02 1.32571137e-01 2.02358965e-01 3.08884360e-01\n",
      " 4.71486636e-01 7.19685673e-01 1.09854114e+00 1.67683294e+00\n",
      " 2.55954792e+00 3.90693994e+00 5.96362332e+00 9.10298178e+00\n",
      " 1.38949549e+01 2.12095089e+01 3.23745754e+01 4.94171336e+01\n",
      " 7.54312006e+01 1.15139540e+02 1.75751062e+02 2.68269580e+02\n",
      " 4.09491506e+02 6.25055193e+02 9.54095476e+02 1.45634848e+03\n",
      " 2.22299648e+03 3.39322177e+03 5.17947468e+03 7.90604321e+03\n",
      " 1.20679264e+04 1.84206997e+04 2.81176870e+04 4.29193426e+04\n",
      " 6.55128557e+04 1.00000000e+05]\n",
      "shape: (50,)\n",
      "number of dimensions: 1\n",
      "datatype: float64\n",
      "-----\n"
     ]
    }
   ],
   "source": [
    "A = np.logspace(-4,5)\n",
    "arrayInfo(A)"
   ]
  },
  {
   "cell_type": "markdown",
   "metadata": {},
   "source": [
    "## **Vidéo**: Manipuler les tableaux"
   ]
  },
  {
   "cell_type": "code",
   "execution_count": 52,
   "metadata": {
    "tags": [
     "remove-input"
    ]
   },
   "outputs": [
    {
     "data": {
      "text/html": [
       "<iframe src=\"https://sorbonne-universite.cloud.panopto.eu/Panopto/Pages/Embed.aspx?id=994343bb-6059-470b-888f-ae1400dff208&autoplay=false&offerviewer=true&showtitle=true&showbrand=false&captions=false&interactivity=all\" height=\"405\" width=\"720\" style=\"border: 1px solid #464646;\" allowfullscreen allow=\"autoplay\"></iframe>\n"
      ],
      "text/plain": [
       "<IPython.core.display.HTML object>"
      ]
     },
     "metadata": {},
     "output_type": "display_data"
    }
   ],
   "source": [
    "%%HTML\n",
    "<iframe src=\"https://sorbonne-universite.cloud.panopto.eu/Panopto/Pages/Embed.aspx?id=994343bb-6059-470b-888f-ae1400dff208&autoplay=false&offerviewer=true&showtitle=true&showbrand=false&captions=false&interactivity=all\" height=\"405\" width=\"720\" style=\"border: 1px solid #464646;\" allowfullscreen allow=\"autoplay\"></iframe>"
   ]
  },
  {
   "cell_type": "markdown",
   "metadata": {},
   "source": [
    "## Manipulation de tableau\n",
    "\n",
    "Voici quelques fonctions utiles pour manipuler les tableaux Numpy. [La liste complète](https://numpy.org/doc/stable/reference/routines.array-manipulation.html) est dans la documentation Numpy.\n",
    "\n",
    "fonction | description\n",
    "--|--\n",
    "`reshape()` | donne une forme différente au tableau sans changer ses éléments\n",
    "`t.flatten()` | retourne une copie 1D du tableau\n",
    "`t.T` | transposée du tableau\n",
    "`concatenate()` | joindre plusieurs tableaux\n",
    "`append()` | ajoute des valeurs à la fin du tableau\n",
    "`unique()` | trouve les éléments uniques du tableau\n",
    "`flip()` | inverse l'ordre des éléments"
   ]
  },
  {
   "cell_type": "markdown",
   "metadata": {},
   "source": [
    "Voici quelques exemples d'utilisation de ces fonctions :"
   ]
  },
  {
   "cell_type": "code",
   "execution_count": 53,
   "metadata": {
    "tags": []
   },
   "outputs": [
    {
     "name": "stdout",
     "output_type": "stream",
     "text": [
      "-----\n",
      "[[ 2  7  9  1]\n",
      " [-3  4  0  2]]\n",
      "shape: (2, 4)\n",
      "number of dimensions: 2\n",
      "datatype: int64\n",
      "-----\n"
     ]
    }
   ],
   "source": [
    "# Tableau de forme (2, 4)\n",
    "A = np.array([[2, 7, 9, 1],\n",
    "            [-3, 4, 0, 2]])\n",
    "arrayInfo(A)"
   ]
  },
  {
   "cell_type": "code",
   "execution_count": 54,
   "metadata": {
    "tags": []
   },
   "outputs": [
    {
     "name": "stdout",
     "output_type": "stream",
     "text": [
      "-----\n",
      "[[ 2  7]\n",
      " [ 9  1]\n",
      " [-3  4]\n",
      " [ 0  2]]\n",
      "shape: (4, 2)\n",
      "number of dimensions: 2\n",
      "datatype: int64\n",
      "-----\n"
     ]
    }
   ],
   "source": [
    "# Reformer en tableau de forme (4, 2)\n",
    "B = np.reshape(A, (4, 2))\n",
    "arrayInfo(B)"
   ]
  },
  {
   "cell_type": "code",
   "execution_count": 55,
   "metadata": {
    "tags": []
   },
   "outputs": [
    {
     "name": "stdout",
     "output_type": "stream",
     "text": [
      "-----\n",
      "[[ 2 -3]\n",
      " [ 7  4]\n",
      " [ 9  0]\n",
      " [ 1  2]]\n",
      "shape: (4, 2)\n",
      "number of dimensions: 2\n",
      "datatype: int64\n",
      "-----\n"
     ]
    }
   ],
   "source": [
    "# Attention, on voit que reshape est différent de la transposée, que l'on obtient comme suit :\n",
    "C = A.T\n",
    "arrayInfo(C)"
   ]
  },
  {
   "cell_type": "markdown",
   "metadata": {},
   "source": [
    "On peut joindre 2 tableaux suivant un axe donné, ici la première dimension, ou dimension 0 (lignes), avec la fonction `append()` :"
   ]
  },
  {
   "cell_type": "code",
   "execution_count": 56,
   "metadata": {
    "tags": []
   },
   "outputs": [
    {
     "name": "stdout",
     "output_type": "stream",
     "text": [
      "-----\n",
      "[[1 2]\n",
      " [3 4]\n",
      " [5 6]]\n",
      "shape: (3, 2)\n",
      "number of dimensions: 2\n",
      "datatype: int64\n",
      "-----\n"
     ]
    }
   ],
   "source": [
    "A = np.array([[1, 2], [3, 4]])\n",
    "B = np.array([[5, 6]])\n",
    "D = np.append(A, B, axis = 0)\n",
    "\n",
    "arrayInfo(D)"
   ]
  },
  {
   "cell_type": "markdown",
   "metadata": {},
   "source": [
    "Si on veut joindre plusieurs tableaux ensemble, il faut les *concaténer* avec la fonction `concatenate()` :"
   ]
  },
  {
   "cell_type": "code",
   "execution_count": 61,
   "metadata": {
    "tags": []
   },
   "outputs": [
    {
     "name": "stdout",
     "output_type": "stream",
     "text": [
      "-----\n",
      "[[ 1  2]\n",
      " [ 3  4]\n",
      " [ 5  6]\n",
      " [ 7  8]\n",
      " [ 9 10]\n",
      " [11 12]]\n",
      "shape: (6, 2)\n",
      "number of dimensions: 2\n",
      "datatype: int64\n",
      "-----\n",
      "-----\n",
      "[[  1   2]\n",
      " [  3   4]\n",
      " [  5   6]\n",
      " [  7   8]\n",
      " [  9  10]\n",
      " [ 11  12]\n",
      " [ 70  80]\n",
      " [ 90 100]\n",
      " [110 120]]\n",
      "shape: (9, 2)\n",
      "number of dimensions: 2\n",
      "datatype: int64\n",
      "-----\n"
     ]
    }
   ],
   "source": [
    "C = np.array([[7, 8], [9, 10], [11, 12]])\n",
    "D = np.concatenate((A, B, C), axis = 0)\n",
    "\n",
    "arrayInfo(D)\n",
    "\n",
    "\n",
    "E = np.array([[70,80], [90, 100], [110, 120]])\n",
    "F = np.concatenate((D, E), axis = 0)\n",
    "\n",
    "arrayInfo(F)"
   ]
  },
  {
   "cell_type": "markdown",
   "metadata": {},
   "source": [
    "## Un peu de tri\n",
    "\n",
    "Il peut être utile de trier un tableau Numpy. Reprenons les tableaux de la leçon précédente donnant les nombres d'habitants et les superficies des 8 villes les plus peuplées de France en 2017 :"
   ]
  },
  {
   "cell_type": "code",
   "execution_count": 62,
   "metadata": {},
   "outputs": [],
   "source": [
    "noms = np.array(['Paris', 'Marseille', 'Lyon', 'Toulouse', 'Nice', 'Nantes', 'Montpellier', 'Strasbourg'])\n",
    "nombre_habitants = np.array([2187526, 863310, 516092, 479553, 340017, 309346, 285121, 280966])\n",
    "superficie = np.array([105.40, 240.62, 47.87, 118.30, 71.92, 65.19, 56.88, 78.26]) # km**2"
   ]
  },
  {
   "cell_type": "markdown",
   "metadata": {},
   "source": [
    "Nous voyons que les tableaux sont triés suivant la donnée du nombre d'habitants, du plus grand au plus petit. On aimerait trier les données des villes suivant la donnée de la superficie en ordre décroissant. On peut utiliser les fonctions `sort()` et `flip()` :"
   ]
  },
  {
   "cell_type": "code",
   "execution_count": 71,
   "metadata": {
    "tags": []
   },
   "outputs": [
    {
     "name": "stdout",
     "output_type": "stream",
     "text": [
      "[0 1 2 3 4 5 6 7]\n",
      "[7 6 5 4 3 2 1 0]\n",
      "[240.62 118.3  105.4   78.26  71.92  65.19  56.88  47.87]\n"
     ]
    }
   ],
   "source": [
    "superficie_sorted = np.sort(superficie)         # Tri par défaut dans l'ordre croissant\n",
    "print(np.argsort(superficie_sorted))\n",
    "\n",
    "superficie_sorted = np.flip(superficie_sorted)    # Inverse l'ordre du tri\n",
    "print(np.argsort(superficie_sorted))\n",
    "\n",
    "print(superficie_sorted)"
   ]
  },
  {
   "cell_type": "markdown",
   "metadata": {},
   "source": [
    "Si on obtient bien un tableau trié dans le bon ordre pour les superficies, les tableaux contenant les nombres d'habitants et les noms de ville n'ont pas été triés, et on ne sait pas dans quel ordre les trier pour qu'ils correspondent au nouvel ordre du tableau donnant les superficies.\n",
    "\n",
    "Pour résoudre ce problème, on va utiliser un *masque d'indices* grâce à la fonction `argsort()`. Cette fonction retourne non pas le tableau trié, mais le tableau d'indices qui permet de trier le tableau. On peut alors utiliser ce *masque d'indices* en indice pour trier les autres tableaux :"
   ]
  },
  {
   "cell_type": "code",
   "execution_count": 72,
   "metadata": {
    "tags": []
   },
   "outputs": [
    {
     "name": "stdout",
     "output_type": "stream",
     "text": [
      "['Marseille' 'Toulouse' 'Paris' 'Strasbourg' 'Nice' 'Nantes' 'Montpellier'\n",
      " 'Lyon']\n",
      "[ 863310  479553 2187526  280966  340017  309346  285121  516092]\n",
      "[240.62 118.3  105.4   78.26  71.92  65.19  56.88  47.87]\n"
     ]
    }
   ],
   "source": [
    "mask = np.argsort(superficie) # Retourne le masque d'indices pour trier le tableau dans l'ordre croissant\n",
    "mask = np.flip(mask)            # Inverse l'ordre du masque pour obtenir un ordre décroissant\n",
    "\n",
    "# Application du masque sur les 3 tableaux\n",
    "noms_sorted = noms[mask]\n",
    "nombre_habitants_sorted = nombre_habitants[mask]\n",
    "superficie_sorted = superficie[mask]\n",
    "\n",
    "# Affichage des tableaux triés\n",
    "print(noms_sorted)\n",
    "print(nombre_habitants_sorted)\n",
    "print(superficie_sorted)"
   ]
  },
  {
   "cell_type": "markdown",
   "metadata": {},
   "source": [
    "## **Vidéo**: format DateTime64 et fonctions maths"
   ]
  },
  {
   "cell_type": "code",
   "execution_count": 73,
   "metadata": {
    "tags": [
     "remove-input"
    ]
   },
   "outputs": [
    {
     "data": {
      "text/html": [
       "<iframe src=\"https://sorbonne-universite.cloud.panopto.eu/Panopto/Pages/Embed.aspx?id=b32af658-3e80-4675-bb92-ae150110ead8&autoplay=false&offerviewer=true&showtitle=true&showbrand=false&captions=false&interactivity=all\" height=\"405\" width=\"720\" style=\"border: 1px solid #464646;\" allowfullscreen allow=\"autoplay\"></iframe>\n"
      ],
      "text/plain": [
       "<IPython.core.display.HTML object>"
      ]
     },
     "metadata": {},
     "output_type": "display_data"
    }
   ],
   "source": [
    "%%HTML\n",
    "<iframe src=\"https://sorbonne-universite.cloud.panopto.eu/Panopto/Pages/Embed.aspx?id=b32af658-3e80-4675-bb92-ae150110ead8&autoplay=false&offerviewer=true&showtitle=true&showbrand=false&captions=false&interactivity=all\" height=\"405\" width=\"720\" style=\"border: 1px solid #464646;\" allowfullscreen allow=\"autoplay\"></iframe>"
   ]
  },
  {
   "cell_type": "markdown",
   "metadata": {},
   "source": [
    "## Quelle est la date ?\n",
    "\n",
    "Afin de manipuler simplement des dates, Numpy a un type de données `datetime64`. On peut alors utiliser les fonctions vues plus haut sur ce nouveau type de données.\n",
    "\n",
    "Pour créer une date on utilise alors la fonction `datetime()` :"
   ]
  },
  {
   "cell_type": "code",
   "execution_count": 76,
   "metadata": {
    "tags": []
   },
   "outputs": [
    {
     "name": "stdout",
     "output_type": "stream",
     "text": [
      "La date est : 2022-07-18\n",
      "L'année est : 2022\n"
     ]
    }
   ],
   "source": [
    "date = np.datetime64('2022-07-18')\n",
    "print(\"La date est :\", date)\n",
    "print(\"L'année est :\", np.datetime64(date, 'Y'))"
   ]
  },
  {
   "cell_type": "markdown",
   "metadata": {},
   "source": [
    "On peut créer simplement des tableaux de dates avec la fonction `arange()` :"
   ]
  },
  {
   "cell_type": "code",
   "execution_count": 77,
   "metadata": {
    "tags": []
   },
   "outputs": [
    {
     "name": "stdout",
     "output_type": "stream",
     "text": [
      "Dates de septembre 2021 :\n",
      " ['2021-09-01' '2021-09-02' '2021-09-03' '2021-09-04' '2021-09-05'\n",
      " '2021-09-06' '2021-09-07' '2021-09-08' '2021-09-09' '2021-09-10'\n",
      " '2021-09-11' '2021-09-12' '2021-09-13' '2021-09-14' '2021-09-15'\n",
      " '2021-09-16' '2021-09-17' '2021-09-18' '2021-09-19' '2021-09-20'\n",
      " '2021-09-21' '2021-09-22' '2021-09-23' '2021-09-24' '2021-09-25'\n",
      " '2021-09-26' '2021-09-27' '2021-09-28' '2021-09-29' '2021-09-30']\n",
      "La date est en septembre : False\n"
     ]
    }
   ],
   "source": [
    "dates = np.arange('2021-09', '2021-10', dtype = 'datetime64[D]') \n",
    "print(\"Dates de septembre 2021 :\\n\", dates) \n",
    "print(\"La date est en septembre :\", date in dates)"
   ]
  },
  {
   "cell_type": "markdown",
   "metadata": {},
   "source": [
    "Ou encore calculer des durées :"
   ]
  },
  {
   "cell_type": "code",
   "execution_count": 87,
   "metadata": {
    "tags": []
   },
   "outputs": [
    {
     "name": "stdout",
     "output_type": "stream",
     "text": [
      "No. de jours : 106 days\n",
      "No. de semaines : 15 weeks\n"
     ]
    }
   ],
   "source": [
    "duree = np.datetime64('2022-01-05') - np.datetime64('2021-09-21')\n",
    "print(\"No. de jours :\", duree) \n",
    "print(\"No. de semaines :\", np.timedelta64(duree, 'W')) "
   ]
  },
  {
   "cell_type": "code",
   "execution_count": 90,
   "metadata": {},
   "outputs": [
    {
     "name": "stdout",
     "output_type": "stream",
     "text": [
      "Ma vie en jours  : 10529 days\n",
      "Ma vie en semaines : 1504 weeks\n"
     ]
    }
   ],
   "source": [
    "duree = np.datetime64('2022-01-28') - np.datetime64('1993-04-01')\n",
    "print(\"Ma vie en jours  :\", duree) \n",
    "print(\"Ma vie en semaines :\", np.timedelta64(duree, 'W')) "
   ]
  },
  {
   "cell_type": "markdown",
   "metadata": {},
   "source": [
    "Ou encore trier un tableau de dates :"
   ]
  },
  {
   "cell_type": "code",
   "execution_count": 89,
   "metadata": {
    "tags": []
   },
   "outputs": [
    {
     "name": "stdout",
     "output_type": "stream",
     "text": [
      "Dates triées : ['2017-05-06' '2018-01-19' '2021-11-25']\n"
     ]
    }
   ],
   "source": [
    "a = np.array(['2018-01-19', '2017-05-06', '2021-11-25'], dtype = 'datetime64') \n",
    "print(\"Dates triées :\", np.sort(a))"
   ]
  },
  {
   "cell_type": "markdown",
   "metadata": {},
   "source": [
    "<div class=\"alert alert-info\">\n",
    "\n",
    "**Pour aller plus loin**\n",
    "\n",
    "Le type `datetime64` de Numpy est similaire au type `datetime` de Python. On peut trouver les références [pour Numpy ici](https://numpy.org/doc/stable/reference/arrays.datetime.html#arrays-dtypes-dateunits), et [pour Python ici](https://docs.python.org/3/library/datetime.html#datetime-objects).\n",
    "\n",
    "</div>"
   ]
  },
  {
   "cell_type": "markdown",
   "metadata": {},
   "source": [
    "## Les fonctions mathématiques\n",
    "\n",
    "La force de Numpy est d'avoir de nombreuses fonctions mathématiques prédéfinies que l'on peut utiliser avec comme argument un tableau Numpy. La plupart de ces fonctions sont vectorisées, c'est-à-dire qu'elles fonctionnent avec des tableaux multidimensionnels, de la même manière que lorsque l'on a utilisé les opérateurs arithmétiques.\n",
    "\n",
    "Voici une liste non exhaustive de fonctions classées par thème. La [liste complète](https://numpy.org/doc/stable/reference/routines.math.html) est dans l'aide de Numpy.\n",
    "\n",
    "fonctions | Numpy\n",
    "--|--\n",
    "Trigonométrique| `sin()`, `cos()`, `tan()`, `degrees()`, `radians()`\n",
    "Somme, produit | `prod()`, `sum()`\n",
    "Exponentielle et logarithme | `exp()`, `log()`, `log10()`\n",
    "Autres | `sqrt()`, `fabs()`, `maximum()`, `minimum()`\n",
    "\n",
    "Ces fonctions appartiennent au module Numpy, il ne faut donc pas oublier d'écrire `np.func()` pour les appeler."
   ]
  },
  {
   "cell_type": "markdown",
   "metadata": {},
   "source": [
    "### Exercice\n",
    "\n",
    "Un oscillateur amorti en régime libre à une dimension, lorsque le taux d'amortissement $\\xi$ est faible, se déplace suivant l'équation\n",
    "\n",
    "$$ x(t) = C e^{-\\xi\\omega_0 t} \\sin(\\omega_d t+\\phi) $$\n",
    "\n",
    "avec $x$ la position, $t$ le temps, et $\\omega_d=\\omega_0\\sqrt{1-\\xi^2}$. Vous prendrez comme valeurs : $C=1~\\mathrm{m}$, $\\xi=0.1$, $\\omega_0=1~\\mathrm{s}^{-1}$ et $\\phi=0.2~\\mathrm{rad}$.\n",
    "\n",
    "1. Créer le tableau Numpy `t` contenant 50 valeurs de $t$ entre 0 et 10.\n",
    "2. Calculer alors le tableau Numpy `x` contenant les valeurs de $x$ pour les valeurs correspondantes du tableau `t`, grâce à une unique expression\n",
    "3. Afficher le tableau des positions"
   ]
  },
  {
   "cell_type": "code",
   "execution_count": 97,
   "metadata": {},
   "outputs": [
    {
     "name": "stdout",
     "output_type": "stream",
     "text": [
      "[ 0.19866933  0.84168976  0.66673787 -0.03211896 -0.57752858 -0.5427954\n",
      " -0.06202597  0.38328337  0.42846703  0.10840221 -0.24398044] <class 'numpy.ndarray'>\n"
     ]
    }
   ],
   "source": [
    "# 1\n",
    "t = np.arange(0,11)\n",
    "\n",
    "# x (t)\n",
    "\n",
    "w_0 = 1 # s^-1\n",
    "C_ = 1 # m\n",
    "E_ = .1 \n",
    "phi = .2 # rad\n",
    "\n",
    "w_d = w_0 * np.sqrt(1 - (E_ ** 2))\n",
    "x = C_ * np.exp(- (E_ * w_0 * t)) * np.sin(w_d * t + phi)\n",
    "\n",
    "print(x, type(x))"
   ]
  }
 ],
 "metadata": {
  "celltoolbar": "Tags",
  "kernelspec": {
   "display_name": "Python 3 (ipykernel)",
   "language": "python",
   "name": "python3"
  },
  "language_info": {
   "codemirror_mode": {
    "name": "ipython",
    "version": 3
   },
   "file_extension": ".py",
   "mimetype": "text/x-python",
   "name": "python",
   "nbconvert_exporter": "python",
   "pygments_lexer": "ipython3",
   "version": "3.9.5"
  }
 },
 "nbformat": 4,
 "nbformat_minor": 4
}
