{
 "cells": [
  {
   "cell_type": "markdown",
   "metadata": {},
   "source": [
    "# Fonctions et modules"
   ]
  },
  {
   "cell_type": "markdown",
   "metadata": {},
   "source": [
    "## Fonctions natives"
   ]
  },
  {
   "cell_type": "markdown",
   "metadata": {},
   "source": [
    "Il existe des fonctions prêtes à l'emploi dans Python. On en a déjà vu plusieurs :\n",
    "\n",
    "fonction | description\n",
    "--|--\n",
    "`print()` | affiche le résultat à l'écran\n",
    "`type()` | renvoie le type (classe) de l'objet\n",
    "`str()`, `float()` et `int()` | conversion d'un type vers un autre\n",
    "`del()` | supprime un ou plusieurs éléments d'une liste\n",
    "`list()` | effectue une copie superficielle d'une liste\n",
    "\n",
    "Par exemple, pour obtenir le type de la valeur `10` et affecter le résultat à une nouvelle variable, on écrit :"
   ]
  },
  {
   "cell_type": "code",
   "execution_count": 1,
   "metadata": {},
   "outputs": [],
   "source": [
    "resultat = type(10)"
   ]
  },
  {
   "cell_type": "markdown",
   "metadata": {},
   "source": [
    "De manière générale, une fonction a des entrées et des sorties, et on l'appelle de la manière suivante :\n",
    "\n",
    "`sorties = nom_fonction(entrées)`"
   ]
  },
  {
   "cell_type": "markdown",
   "metadata": {},
   "source": [
    "La fonction `len()` permet d'obtenir la longueur d'une liste ou d'une chaîne, c'est-à-dire le nombre d'éléments contenus dans la liste, ou le nombre de caractères contenus dans la chaîne.\n",
    "\n",
    "Les fonctions `min()` et `max()` renvoient respectivement le plus petit et le plus grand élément d'une liste qui contient des élements d'un même type. Si ces éléments sont des chaînes, alors ils sont classés dans l'ordre alphabétique ($a < b < c < \\dots$)."
   ]
  },
  {
   "cell_type": "markdown",
   "metadata": {},
   "source": [
    "<div class=\"alert alert-info\">\n",
    "\n",
    "**Liste des fonctions natives**\n",
    "\n",
    "Vous pouvez trouver la liste des fonctions natives et leur description à l'adresse :\n",
    "\n",
    "https://docs.python.org/fr/3.8/library/functions.html\n",
    "\n",
    "</div>"
   ]
  },
  {
   "cell_type": "markdown",
   "metadata": {},
   "source": [
    "### Exercice\n",
    "1. Vous prévoyez un voyage en France qui passe par les villes suivantes : Le Mans, Nantes, Limoges, Toulouse, Montpellier, Lyon, Dijon, Nancy. Créez une liste `villes` qui contient le nom de ces villes.\n",
    "2. À l'aide des fonctions `len()` et `print()`, affichez le nombre de villes que vous prévoyez de visiter à l'écran."
   ]
  },
  {
   "cell_type": "code",
   "execution_count": 4,
   "metadata": {},
   "outputs": [
    {
     "name": "stdout",
     "output_type": "stream",
     "text": [
      "je vais visiter 8 villes\n"
     ]
    }
   ],
   "source": [
    "villes = [\"Le Mans\", \"Nantes\", \"Limoges\", \"Toulouse\",\"Montpellier\", \"Lyon\", \"Dijon\", \"Nancy\"]\n",
    "\n",
    "print(\"je vais visiter\", len(villes), \"villes\")"
   ]
  },
  {
   "cell_type": "markdown",
   "metadata": {},
   "source": [
    "## Aide"
   ]
  },
  {
   "cell_type": "markdown",
   "metadata": {},
   "source": [
    "Vous connaissez le nom d'une fonction mais vous ne vous souvenez plus comment l'utiliser ? Vous pouvez obtenir de l'aide (en anglais) grâce à une autre fonction, `help()`, ou bien en écrivant `?` avant le nom de la fonction. Par exemple :"
   ]
  },
  {
   "cell_type": "code",
   "execution_count": 5,
   "metadata": {},
   "outputs": [
    {
     "name": "stdout",
     "output_type": "stream",
     "text": [
      "Help on built-in function len in module builtins:\n",
      "\n",
      "len(obj, /)\n",
      "    Return the number of items in a container.\n",
      "\n"
     ]
    }
   ],
   "source": [
    "help(len)"
   ]
  },
  {
   "cell_type": "markdown",
   "metadata": {},
   "source": [
    "L'aide nous renseigne sur les entrées et sorties de la fonction. Dans l'exemple, on traduit par :\n",
    "\n",
    "entrée | sortie | provenance\n",
    "--|--|--\n",
    "un objet (obj) | nombre d'éléments dans le conteneur | fonction native (built-in)"
   ]
  },
  {
   "cell_type": "markdown",
   "metadata": {},
   "source": [
    "<div class=\"alert alert-info\">\n",
    "\n",
    "**Conteneur**\n",
    "\n",
    "En Python, on appelle conteneur (*container*) un objet ayant vocation à en contenir d’autres, comme les chaînes qui contiennent des caractères, et les listes qui contiennent n'importe quel objet.\n",
    "\n",
    "</div>"
   ]
  },
  {
   "cell_type": "markdown",
   "metadata": {},
   "source": [
    "Voici un autre exemple :"
   ]
  },
  {
   "cell_type": "code",
   "execution_count": 6,
   "metadata": {},
   "outputs": [
    {
     "name": "stdout",
     "output_type": "stream",
     "text": [
      "Help on built-in function print in module builtins:\n",
      "\n",
      "print(...)\n",
      "    print(value, ..., sep=' ', end='\\n', file=sys.stdout, flush=False)\n",
      "    \n",
      "    Prints the values to a stream, or to sys.stdout by default.\n",
      "    Optional keyword arguments:\n",
      "    file:  a file-like object (stream); defaults to the current sys.stdout.\n",
      "    sep:   string inserted between values, default a space.\n",
      "    end:   string appended after the last value, default a newline.\n",
      "    flush: whether to forcibly flush the stream.\n",
      "\n"
     ]
    }
   ],
   "source": [
    "help(print)"
   ]
  },
  {
   "cell_type": "markdown",
   "metadata": {},
   "source": [
    "On voit ici qu'il y a plusieurs entrées. Les entrées obligatoires sont celles qui ne sont pas suivies du signe `=`. Les points ... signifient que l'on peut écrire plusieurs valeurs. Les entrées optionnelles sont suivies du signe `=`, qui indique leur valeur par défaut.\n",
    "\n",
    "Pour la fonction `print()`, il faut en entrée une ou plusieurs valeurs, séparées par des virgules. On peut ensuite spécifier, dans l'ordre que l'on veut, les entrées optionnelles :\n",
    "\n",
    "option | valeur par défaut | description\n",
    "--|--|--\n",
    "`sep` | `\" \"` | séparateur entre les valeurs\n",
    "`end` | `\"\\n\"` | caractère à écrire en fin de ligne\n",
    "\n",
    "On verra les autres options possibles plus tard. Par exemple, on peut écrire :"
   ]
  },
  {
   "cell_type": "code",
   "execution_count": 9,
   "metadata": {},
   "outputs": [
    {
     "name": "stdout",
     "output_type": "stream",
     "text": [
      "Le Mans, Nantes, Limoges (mes destinations)\n"
     ]
    }
   ],
   "source": [
    "print(\"Le Mans\", \"Nantes\", \"Limoges\", sep = \", \", end = \" (mes destinations)\\n\")"
   ]
  },
  {
   "cell_type": "markdown",
   "metadata": {},
   "source": [
    "<div class=\"alert alert-info\">\n",
    "\n",
    "**Aide du site Python**\n",
    "\n",
    "Vous pouvez [consulter l'aide du site Python](https://docs.python.org/fr/3.8/index.html) en Français. Il y a des [tutoriels](https://docs.python.org/fr/3.8/tutorial/index.html), des [aides pour l'installation](https://docs.python.org/fr/3.8/using/index.html), une [description de la bibliothèque standard](https://docs.python.org/fr/3.8/library/index.html), entre autres choses.\n",
    "\n",
    "</div>"
   ]
  },
  {
   "cell_type": "markdown",
   "metadata": {},
   "source": [
    "### Exercice\n",
    "1. Afficher l'aide de la fonction `sorted()` et comprendre son fonctionnement. Note : un itérable (*iterable*) est un objet capable de renvoyer ses éléments un à un, comme les listes et les chaînes.\n",
    "2. Afficher à l'écran les villes contenues dans la liste `villes` créée plus haut dans un ordre alphabétique descendant (de z vers a), grâce à l'option `reverse = True` de la fonction `sorted()`, et de la fonction `print()`."
   ]
  },
  {
   "cell_type": "code",
   "execution_count": 10,
   "metadata": {},
   "outputs": [
    {
     "name": "stdout",
     "output_type": "stream",
     "text": [
      "Help on built-in function sorted in module builtins:\n",
      "\n",
      "sorted(iterable, /, *, key=None, reverse=False)\n",
      "    Return a new list containing all items from the iterable in ascending order.\n",
      "    \n",
      "    A custom key function can be supplied to customize the sort order, and the\n",
      "    reverse flag can be set to request the result in descending order.\n",
      "\n"
     ]
    }
   ],
   "source": [
    "help(sorted)"
   ]
  },
  {
   "cell_type": "markdown",
   "metadata": {},
   "source": [
    "Fonction sorted:\n",
    "\n",
    "option | valeur par défaut | description\n",
    "--|--|--\n",
    "`key` | `None` | Custom key to define the order\n",
    "`reverse` | `False` | If we want the sorted array inversed (ascending or descending)\n"
   ]
  },
  {
   "cell_type": "code",
   "execution_count": 14,
   "metadata": {},
   "outputs": [
    {
     "name": "stdout",
     "output_type": "stream",
     "text": [
      "['Toulouse', 'Nantes', 'Nancy', 'Montpellier', 'Lyon', 'Limoges', 'Le Mans', 'Dijon']\n"
     ]
    }
   ],
   "source": [
    "print(sorted(villes,reverse=True))"
   ]
  },
  {
   "cell_type": "markdown",
   "metadata": {},
   "source": [
    "## Méthodes de chaînes"
   ]
  },
  {
   "cell_type": "markdown",
   "metadata": {},
   "source": [
    "Il existe beaucoup de méthodes pré-définies pour les chaînes de caractères. Nous en présentons quelques-unes ici. Pour avoir la liste complète, vous pouvez utiliser l'instruction `help(str)` ou bien [consulter l'aide du site Python](https://docs.python.org/fr/3/library/stdtypes.html#string-methods).\n",
    "\n",
    "méthode | description\n",
    "--|--\n",
    "`str.lower()` | renvoit un texte en minuscules\n",
    "`str.upper()` | renvoit un texte en majuscules\n",
    "`str.capitalize()` | première lettre en majuscule\n",
    "`str.split()` | renvoie une liste des mots séparés par des espaces\n",
    "`str.find(str)` | recherche une chaîne spécifiée en entrée\n",
    "`str.replace(str1, str2)` | substitue une chaîne par une autre\n",
    "`str.count(str)` | compte le nombre d'occurrences d'une chaîne\n",
    "`str.startswith(str)` | vérifie si une chaîne commence par une autre chaîne\n",
    "`str.strip()` | \"nettoie les bords\" d'une chaîne"
   ]
  },
  {
   "cell_type": "code",
   "execution_count": 15,
   "metadata": {},
   "outputs": [
    {
     "data": {
      "text/plain": [
       "True"
      ]
     },
     "execution_count": 15,
     "metadata": {},
     "output_type": "execute_result"
    }
   ],
   "source": [
    "\"camilo\".startswith(\"c\")"
   ]
  },
  {
   "cell_type": "markdown",
   "metadata": {},
   "source": [
    "### Exercice\n",
    "1. Créer une variable `ville = \"TOULOUSE\"`\n",
    "2. Afficher le nom de la ville à l'écran avec la première lettre en capitale et le reste en minuscule\n",
    "3. Afficher à l'écran le nombre de fois que la lettre \"o\" apparaît dans le mot"
   ]
  },
  {
   "cell_type": "code",
   "execution_count": 20,
   "metadata": {},
   "outputs": [
    {
     "name": "stdout",
     "output_type": "stream",
     "text": [
      "Toulose\n",
      "2\n"
     ]
    }
   ],
   "source": [
    "ville = \"TOULOSE\"\n",
    "print(ville.capitalize())\n",
    "print(ville.lower().count(\"o\"))"
   ]
  },
  {
   "cell_type": "markdown",
   "metadata": {},
   "source": [
    "## Méthodes de liste"
   ]
  },
  {
   "cell_type": "markdown",
   "metadata": {},
   "source": [
    "Il existe aussi beaucoup de méthodes pré-définies pour les listes. Nous en présentons quelques-unes ici. Pour avoir la liste complète, vous pouvez utiliser l'instruction `help(list)` ou bien [consulter l'aide du site Python](https://docs.python.org/fr/3/library/stdtypes.html#mutable-sequence-types).\n",
    "\n",
    "méthode | description\n",
    "--|--\n",
    "`s.index(x)` | indice de la première occurrence de `x` dans `s`\n",
    "`s.count(x)` | nombre total d'occurrences de `x` dans `s`\n",
    "`s.append(x)` | ajoute `x` à la fin de la séquence `s`\n",
    "`s.clear()` | supprime tous les éléments de `s` (comme `del(s[:])`)\n",
    "`s.copy()` | crée une copie de `s` (comme `s[:]`)\n",
    "`s.extend(t)` | étend `s` avec le contenu de `t`\n",
    "`s.insert(i, x)` | insère `x` dans `s` à l'indice `i`\n",
    "`s.pop(i = -1)` | récupère l'élément à l'indice `i` et le supprime de `s`\n",
    "`s.remove(x)` | supprime le premier élément de `s` égal à `x`\n",
    "`s.reverse()` | inverse l'ordre des éléments de `s`"
   ]
  },
  {
   "cell_type": "markdown",
   "metadata": {},
   "source": [
    "<div class=\"alert alert-info\">\n",
    "\n",
    "**Argument optionnel**\n",
    "\n",
    "Un argument suivi du signe `=`, comme dans `s.pop(i = -1)`, veut dire que l'on n'est pas obligé d'écrire explicitement cet argument. Si on ne l'écrit pas, alors il prend une valeur par défaut qui est spécifiée après le signe `=`, et que l'on peut trouver dans l'aide de la fonction ; ici, c'est `-1`, donc `s.pop()` supprime le dernier élément de la liste `s`.\n",
    "\n",
    "</div>"
   ]
  },
  {
   "cell_type": "markdown",
   "metadata": {},
   "source": [
    "### Exercice\n",
    "On décide d'aller à Poitiers plutôt qu'à Limoges. Il faut donc substituer `\"Poitiers\"` à `\"Limoges\"` dans notre liste des destinations. De plus, on veut ajouter Paris comme destination finale.\n",
    "\n",
    "1. Créer la liste `villes = [\"Le Mans\", \"Nantes\", \"Limoges\", \"Toulouse\", \"Montpellier\", \"Lyon\", \"Dijon\"]`\n",
    "2. Affecter l'indice de la chaîne `\"Limoges\"` dans la liste `villes` à une variable `i`.\n",
    "3. Insérer la chaîne `\"Poitiers\"` dans la liste `villes` à l'indice `i`.\n",
    "4. Retirer la chaîne `\"Limoges\"` de la liste `villes`, et ajouter `\"Paris\"` à la fin de la liste.\n",
    "5. Afficher la liste `villes` à l'écran."
   ]
  },
  {
   "cell_type": "code",
   "execution_count": 33,
   "metadata": {},
   "outputs": [
    {
     "name": "stdout",
     "output_type": "stream",
     "text": [
      "['Le Mans', 'Nantes', 'Limoges', 'Toulouse', 'Montpellier', 'Lyon', 'Dijon']\n",
      "['Le Mans', 'Nantes', 'Poitiers', 'Toulouse', 'Montpellier', 'Lyon', 'Dijon', 'Paris']\n"
     ]
    }
   ],
   "source": [
    "villes = [\"Le Mans\", \"Nantes\", \"Limoges\", \"Toulouse\", \"Montpellier\", \"Lyon\", \"Dijon\"]\n",
    "\n",
    "print(villes)\n",
    "\n",
    "# find the index\n",
    "i = villes.index(\"Limoges\")\n",
    "\n",
    "# add Poitiers\n",
    "villes.insert(i, \"Poitiers\")\n",
    "\n",
    "# Retirer Limoges\n",
    "villes.remove(\"Limoges\")\n",
    "\n",
    "# Add paris\n",
    "villes.append(\"Paris\")\n",
    "\n",
    "print(villes)"
   ]
  },
  {
   "cell_type": "markdown",
   "metadata": {},
   "source": [
    "## **Vidéo**: Les modules"
   ]
  },
  {
   "cell_type": "code",
   "execution_count": 43,
   "metadata": {
    "tags": [
     "remove-input"
    ]
   },
   "outputs": [
    {
     "data": {
      "text/html": [
       "<iframe src=\"https://sorbonne-universite.cloud.panopto.eu/Panopto/Pages/Embed.aspx?id=a175b955-f706-49cb-8997-adb100bd4f2e&autoplay=false&offerviewer=true&showtitle=true&showbrand=false&captions=false&interactivity=all\" height=\"405\" width=\"720\" style=\"border: 1px solid #464646;\" allowfullscreen allow=\"autoplay\"></iframe>\n"
      ],
      "text/plain": [
       "<IPython.core.display.HTML object>"
      ]
     },
     "metadata": {},
     "output_type": "display_data"
    }
   ],
   "source": [
    "%%HTML\n",
    "<iframe src=\"https://sorbonne-universite.cloud.panopto.eu/Panopto/Pages/Embed.aspx?id=a175b955-f706-49cb-8997-adb100bd4f2e&autoplay=false&offerviewer=true&showtitle=true&showbrand=false&captions=false&interactivity=all\" height=\"405\" width=\"720\" style=\"border: 1px solid #464646;\" allowfullscreen allow=\"autoplay\"></iframe>"
   ]
  },
  {
   "cell_type": "markdown",
   "metadata": {},
   "source": [
    "## Importer un module\n",
    "Les modules sont des bibliothèques de fonctions. Il existe de nombreux modules pour le calcul scientifique, que nous verrons dans la suite du cours. La bibliothèque Python propose quelques [modules numériques et mathématiques](https://docs.python.org/fr/3/library/numeric.html).\n",
    "\n",
    "Pour importer un module dans notre programme, par exemple le module `math`, il suffit d'écrire :"
   ]
  },
  {
   "cell_type": "code",
   "execution_count": 34,
   "metadata": {},
   "outputs": [],
   "source": [
    "import math"
   ]
  },
  {
   "cell_type": "markdown",
   "metadata": {},
   "source": [
    "On peut alors utiliser [les variables et les fonctions du module `math`](https://docs.python.org/fr/3/library/math.html) en écrivant :"
   ]
  },
  {
   "cell_type": "code",
   "execution_count": 35,
   "metadata": {},
   "outputs": [
    {
     "data": {
      "text/plain": [
       "3.141592653589793"
      ]
     },
     "execution_count": 35,
     "metadata": {},
     "output_type": "execute_result"
    }
   ],
   "source": [
    "math.pi"
   ]
  },
  {
   "cell_type": "code",
   "execution_count": 36,
   "metadata": {},
   "outputs": [
    {
     "data": {
      "text/plain": [
       "0.7071067811865476"
      ]
     },
     "execution_count": 36,
     "metadata": {},
     "output_type": "execute_result"
    }
   ],
   "source": [
    "math.sin(3 * math.pi / 4)"
   ]
  },
  {
   "cell_type": "markdown",
   "metadata": {},
   "source": [
    "On peut aussi changer le nom du module dans notre programme :"
   ]
  },
  {
   "cell_type": "code",
   "execution_count": 37,
   "metadata": {},
   "outputs": [],
   "source": [
    "import math as mt"
   ]
  },
  {
   "cell_type": "markdown",
   "metadata": {},
   "source": [
    "On accède alors aux fonctions avec le nouveau nom :"
   ]
  },
  {
   "cell_type": "code",
   "execution_count": 38,
   "metadata": {},
   "outputs": [
    {
     "data": {
      "text/plain": [
       "2.718281828459045"
      ]
     },
     "execution_count": 38,
     "metadata": {},
     "output_type": "execute_result"
    }
   ],
   "source": [
    "mt.e"
   ]
  },
  {
   "cell_type": "code",
   "execution_count": 39,
   "metadata": {},
   "outputs": [
    {
     "data": {
      "text/plain": [
       "1.0"
      ]
     },
     "execution_count": 39,
     "metadata": {},
     "output_type": "execute_result"
    }
   ],
   "source": [
    "mt.log(mt.e)"
   ]
  },
  {
   "cell_type": "markdown",
   "metadata": {},
   "source": [
    "### Exercice\n",
    "1. Importer le module `random` en lui donnant le nom `rd`.\n",
    "2. Afficher à l'écran un chiffre aléatoire entre 0 et 1 à l'aide de [la fonction `random()`](https://docs.python.org/fr/3/library/random.html) du module `random`."
   ]
  },
  {
   "cell_type": "code",
   "execution_count": 42,
   "metadata": {},
   "outputs": [
    {
     "name": "stdout",
     "output_type": "stream",
     "text": [
      "0.4571688411503576\n"
     ]
    }
   ],
   "source": [
    "import random as rd\n",
    "\n",
    "print(rd.random())"
   ]
  },
  {
   "cell_type": "markdown",
   "metadata": {},
   "source": [
    "## Import sélectif\n",
    "Finalement, on peut importer seulement quelques fonctions d'un module en les nommant. On n'a alors pas besoin de spécifier le module quand on les utilise : "
   ]
  },
  {
   "cell_type": "code",
   "execution_count": 45,
   "metadata": {},
   "outputs": [
    {
     "name": "stdout",
     "output_type": "stream",
     "text": [
      "1.0\n",
      "-0.2836910914865273\n"
     ]
    }
   ],
   "source": [
    "from math import cos, radians # radians(x) convertit l'angle x de degrés en radians\n",
    "\n",
    "angle = 360 # degrés\n",
    "print(cos(radians(angle)))\n",
    "print(cos(angle))"
   ]
  },
  {
   "cell_type": "markdown",
   "metadata": {},
   "source": [
    "### Exercice\n",
    "1. Importer les fonctions `mean()` et `median()` du module `statistics`.\n",
    "2. Lire leurs descriptions dans [l'aide du module statistics](https://docs.python.org/fr/3/library/statistics.html).\n",
    "3. Créer une liste `nombres = [7.2, 1.5, 9.3, 6.9, 14.2, 2.5, 87.2]`\n",
    "4. Afficher à l'écran la moyenne et la médiane de la liste `nombres`."
   ]
  },
  {
   "cell_type": "code",
   "execution_count": 51,
   "metadata": {},
   "outputs": [],
   "source": [
    "from statistics import mean, median"
   ]
  },
  {
   "cell_type": "code",
   "execution_count": 52,
   "metadata": {},
   "outputs": [
    {
     "name": "stdout",
     "output_type": "stream",
     "text": [
      "Help on function mean in module statistics:\n",
      "\n",
      "mean(data)\n",
      "    Return the sample arithmetic mean of data.\n",
      "    \n",
      "    >>> mean([1, 2, 3, 4, 4])\n",
      "    2.8\n",
      "    \n",
      "    >>> from fractions import Fraction as F\n",
      "    >>> mean([F(3, 7), F(1, 21), F(5, 3), F(1, 3)])\n",
      "    Fraction(13, 21)\n",
      "    \n",
      "    >>> from decimal import Decimal as D\n",
      "    >>> mean([D(\"0.5\"), D(\"0.75\"), D(\"0.625\"), D(\"0.375\")])\n",
      "    Decimal('0.5625')\n",
      "    \n",
      "    If ``data`` is empty, StatisticsError will be raised.\n",
      "\n"
     ]
    }
   ],
   "source": [
    "help(mean)"
   ]
  },
  {
   "cell_type": "code",
   "execution_count": 53,
   "metadata": {},
   "outputs": [
    {
     "name": "stdout",
     "output_type": "stream",
     "text": [
      "Help on function median in module statistics:\n",
      "\n",
      "median(data)\n",
      "    Return the median (middle value) of numeric data.\n",
      "    \n",
      "    When the number of data points is odd, return the middle data point.\n",
      "    When the number of data points is even, the median is interpolated by\n",
      "    taking the average of the two middle values:\n",
      "    \n",
      "    >>> median([1, 3, 5])\n",
      "    3\n",
      "    >>> median([1, 3, 5, 7])\n",
      "    4.0\n",
      "\n"
     ]
    }
   ],
   "source": [
    "help(median)"
   ]
  },
  {
   "cell_type": "code",
   "execution_count": 54,
   "metadata": {},
   "outputs": [],
   "source": [
    "nombres = [7.2, 1.5, 9.3, 6.9, 14.2, 2.5, 87.2]"
   ]
  },
  {
   "cell_type": "code",
   "execution_count": 63,
   "metadata": {},
   "outputs": [
    {
     "name": "stdout",
     "output_type": "stream",
     "text": [
      "Mean: 18.400000000000002, Median: 7.2\n"
     ]
    }
   ],
   "source": [
    "print(\"Mean: \" + str(mean(nombres)), \" Median: \" + str(median(nombres)), sep=\",\")"
   ]
  },
  {
   "cell_type": "code",
   "execution_count": null,
   "metadata": {},
   "outputs": [],
   "source": []
  }
 ],
 "metadata": {
  "celltoolbar": "Tags",
  "interpreter": {
   "hash": "7e1f28879991ede76d46e9c7fb47f802595d36e9b3f8686cb619aadab09304b5"
  },
  "kernelspec": {
   "display_name": "Python 3 (ipykernel)",
   "language": "python",
   "name": "python3"
  },
  "language_info": {
   "codemirror_mode": {
    "name": "ipython",
    "version": 3
   },
   "file_extension": ".py",
   "mimetype": "text/x-python",
   "name": "python",
   "nbconvert_exporter": "python",
   "pygments_lexer": "ipython3",
   "version": "3.9.5"
  }
 },
 "nbformat": 4,
 "nbformat_minor": 4
}
