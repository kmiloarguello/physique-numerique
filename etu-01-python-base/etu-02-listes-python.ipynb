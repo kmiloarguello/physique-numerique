{
 "cells": [
  {
   "cell_type": "markdown",
   "metadata": {},
   "source": [
    "# Les listes Python"
   ]
  },
  {
   "cell_type": "markdown",
   "metadata": {},
   "source": [
    "## **Vidéo**: Éléments de base"
   ]
  },
  {
   "cell_type": "code",
   "execution_count": 1,
   "metadata": {
    "tags": [
     "remove-input"
    ]
   },
   "outputs": [
    {
     "data": {
      "text/html": [
       "<iframe src=\"https://sorbonne-universite.cloud.panopto.eu/Panopto/Pages/Embed.aspx?id=3f7ad3ca-b863-42b4-ba5a-adb201017e95&autoplay=false&offerviewer=true&showtitle=true&showbrand=false&captions=false&interactivity=all\" height=\"405\" width=\"720\" style=\"border: 1px solid #464646;\" allowfullscreen allow=\"autoplay\"></iframe>\n"
      ],
      "text/plain": [
       "<IPython.core.display.HTML object>"
      ]
     },
     "metadata": {},
     "output_type": "display_data"
    }
   ],
   "source": [
    "%%HTML\n",
    "<iframe src=\"https://sorbonne-universite.cloud.panopto.eu/Panopto/Pages/Embed.aspx?id=3f7ad3ca-b863-42b4-ba5a-adb201017e95&autoplay=false&offerviewer=true&showtitle=true&showbrand=false&captions=false&interactivity=all\" height=\"405\" width=\"720\" style=\"border: 1px solid #464646;\" allowfullscreen allow=\"autoplay\"></iframe>"
   ]
  },
  {
   "cell_type": "markdown",
   "metadata": {},
   "source": [
    "## Créer une liste\n",
    "Une *liste* est une séquence de valeurs, comme une chaîne. Dans une chaîne, ces valeurs sont des caractères. Dans une liste, les valeurs peuvent être de n'importe quel type.\n",
    "\n",
    "Les valeurs dans une liste sont appelées *éléments*.\n",
    "\n",
    "Le plus simple pour créer une liste est d'entourer les éléments par des crochets `[` et `]`. Voici une liste, nommée `ma_liste`, qui contient des valeurs des trois types que l'on a introduits dans l'activité \"Première prise en main de Python\". Saurez-vous les reconnaître ?"
   ]
  },
  {
   "cell_type": "code",
   "execution_count": 4,
   "metadata": {
    "tags": []
   },
   "outputs": [
    {
     "name": "stdout",
     "output_type": "stream",
     "text": [
      "[1, 2, 3.0, 'a']\n",
      "1 <class 'int'>\n",
      "2 <class 'int'>\n",
      "3.0 <class 'float'>\n",
      "a <class 'str'>\n"
     ]
    }
   ],
   "source": [
    "# Création de la liste\n",
    "ma_liste = [1, 2, 3.0, \"a\"]\n",
    "\n",
    "# Affichage de la liste\n",
    "print(ma_liste)\n",
    "\n",
    "\n",
    "for i in ma_liste:\n",
    "    print(i, type(i))"
   ]
  },
  {
   "cell_type": "markdown",
   "metadata": {},
   "source": [
    "### Exercice\n",
    "1. Créer trois variables nommées `plante1`, `plante2` et `plante3`, contenant respectivement les valeurs `\"gentiane\"`, `\"campanule\"` et `\"pensée\"`.\n",
    "2. Créer une liste nommée `plantes`, à partir des noms des 3 variables créées en 1, qui contient les noms des trois plantes.\n",
    "3. Vous possédez ces trois plantes chez vous, et vous voulez suivre leur croissance. Créez une nouvelle liste nommée `taille_plantes` qui contient le nom des trois plantes, et juste après le nom de chaque plante, sa taille (valeur de type *float*). La gentiane fait 7.5 cm, la campanule 5.8 cm et la pensée 11.4 cm.\n",
    "4. Afficher le contenu des 2 listes à l'écran avec la fonction `print()`"
   ]
  },
  {
   "cell_type": "code",
   "execution_count": 18,
   "metadata": {},
   "outputs": [
    {
     "name": "stdout",
     "output_type": "stream",
     "text": [
      "[['gentiane', 7.5], ['campanule', 5.8], ['pensée', 11.4]]\n"
     ]
    }
   ],
   "source": [
    "# 1\n",
    "plante1 = \"gentiane\"\n",
    "plante2 = \"campanule\"\n",
    "plante3 = \"pensée\"\n",
    "\n",
    "# 2\n",
    "plantes = [plante1, plante2, plante3]\n",
    "\n",
    "# 3\n",
    "tailles = [7.5, 5.8, 11.4] # in cm\n",
    "\n",
    "taille_plantes = [[plantes[0], tailles[0]], [plantes[1], tailles[1]], [plantes[2], tailles[2]]]\n",
    "\n",
    "print(taille_plantes)"
   ]
  },
  {
   "cell_type": "markdown",
   "metadata": {},
   "source": [
    "## Liste de listes"
   ]
  },
  {
   "cell_type": "markdown",
   "metadata": {},
   "source": [
    "Une liste peut contenir une autre liste. On dit alors que la liste est *imbriquée*. Dans l'exemple suivant, on crée une liste de trois listes imbriquées :"
   ]
  },
  {
   "cell_type": "code",
   "execution_count": 19,
   "metadata": {},
   "outputs": [],
   "source": [
    "taille_plantes = [[plante1, 7.5], \n",
    "                  [plante2, 5.8],\n",
    "                  [plante3, 11.4]]"
   ]
  },
  {
   "cell_type": "markdown",
   "metadata": {},
   "source": [
    "### Exercice\n",
    "1. Afficher le contenu de la liste `taille_plantes` à l'écran.\n",
    "2. Afficher le type de la liste avec la fonction `type()`."
   ]
  },
  {
   "cell_type": "code",
   "execution_count": 20,
   "metadata": {},
   "outputs": [
    {
     "name": "stdout",
     "output_type": "stream",
     "text": [
      "[['gentiane', 7.5], ['campanule', 5.8], ['pensée', 11.4]]\n",
      "<class 'list'>\n"
     ]
    }
   ],
   "source": [
    "print(taille_plantes)\n",
    "print(type(taille_plantes))"
   ]
  },
  {
   "cell_type": "markdown",
   "metadata": {},
   "source": [
    "<div class=\"alert alert-info\">\n",
    "\n",
    "**Classe et type**\n",
    "\n",
    "On retrouve ici le mot *class*, que l'on peut traduire par classe. Dans Python 3 les concepts de classe et de type sont équivalents. \n",
    "</div>"
   ]
  },
  {
   "cell_type": "markdown",
   "metadata": {},
   "source": [
    "## Modifier une liste"
   ]
  },
  {
   "cell_type": "markdown",
   "metadata": {},
   "source": [
    "On peut accéder à un élément de la liste en utilisant l'opérateur `[]` d'indexation :"
   ]
  },
  {
   "cell_type": "code",
   "execution_count": 21,
   "metadata": {
    "tags": []
   },
   "outputs": [
    {
     "name": "stdout",
     "output_type": "stream",
     "text": [
      "gentiane\n"
     ]
    }
   ],
   "source": [
    "# Accès à un élément de la liste\n",
    "plante_choisie = plantes[0]\n",
    "\n",
    "# Affichage de la plante choisie\n",
    "print(plante_choisie)"
   ]
  },
  {
   "cell_type": "markdown",
   "metadata": {},
   "source": [
    "La première instruction sélectionne l'élément numéroté par 0 de la liste `plantes` et l'affecte à la variable `plante_choisie`. L'expression entre crochets s'appelle un *indice*."
   ]
  },
  {
   "cell_type": "markdown",
   "metadata": {},
   "source": [
    "<div class=\"alert alert-warning\">\n",
    "\n",
    "**Attention**\n",
    "\n",
    "Le premier élément de la liste est numéroté avec l'entier `0`, le deuxième élement avec l'entier `1`, et ainsi de suite.\n",
    "</div>"
   ]
  },
  {
   "cell_type": "markdown",
   "metadata": {},
   "source": [
    "Les listes sont *modifiables*. Lorsque l'opérateur d'indexation apparaît du côté gauche de l'affectation, il indique l'élément de la liste auquel la valeur sera affectée :"
   ]
  },
  {
   "cell_type": "code",
   "execution_count": 22,
   "metadata": {
    "tags": []
   },
   "outputs": [
    {
     "name": "stdout",
     "output_type": "stream",
     "text": [
      "['gentiane', 'digitale', 'pensée']\n"
     ]
    }
   ],
   "source": [
    "# Création de la liste\n",
    "plantes = [\"gentiane\", \"campanule\", \"pensée\"]\n",
    "\n",
    "# Modification d'un élément de la liste\n",
    "plantes[1] = \"digitale\"\n",
    "\n",
    "# Affichage de la liste\n",
    "print(plantes)"
   ]
  },
  {
   "cell_type": "markdown",
   "metadata": {},
   "source": [
    "Le deuxième élément de la liste (indice 1), qui avait la valeur `\"campanule\"`, a maintenant la valeur `\"digitale\"`.\n",
    "\n",
    "Voici quelques règles d'indexation :\n",
    "\n",
    "- toute expression entière peut être utilisée comme indice\n",
    "- si un indice a une valeur négative, il compte en sens inverse, à partir de la fin de la liste\n",
    "- si vous essayez de lire ou d'écrire un élément qui n'existe pas, vous obtenez une erreur\n",
    "\n",
    "Voici une illustration de ces trois règles :"
   ]
  },
  {
   "cell_type": "code",
   "execution_count": 23,
   "metadata": {
    "tags": []
   },
   "outputs": [
    {
     "name": "stdout",
     "output_type": "stream",
     "text": [
      "pensée\n"
     ]
    }
   ],
   "source": [
    "# Accès à un élement de liste avec une expression\n",
    "i = 1\n",
    "print(plantes[i + 1])"
   ]
  },
  {
   "cell_type": "code",
   "execution_count": 30,
   "metadata": {
    "tags": []
   },
   "outputs": [
    {
     "name": "stdout",
     "output_type": "stream",
     "text": [
      "['gentiane', 'digitale', 'pensée']\n",
      "pensée\n",
      "digitale\n",
      "gentiane\n"
     ]
    }
   ],
   "source": [
    "# Accès à un élément de liste depuis la fin\n",
    "print(plantes)\n",
    "\n",
    "print(plantes[-1])\n",
    "print(plantes[-2])\n",
    "print(plantes[-3])"
   ]
  },
  {
   "cell_type": "code",
   "execution_count": 33,
   "metadata": {
    "tags": [
     "raises-exception"
    ]
   },
   "outputs": [],
   "source": [
    "# Accès à un élément de liste qui n'existe pas : message d'erreur\n",
    "#print(plantes[3])"
   ]
  },
  {
   "cell_type": "markdown",
   "metadata": {},
   "source": [
    "## Opérations sur listes"
   ]
  },
  {
   "cell_type": "markdown",
   "metadata": {},
   "source": [
    "L'opérateur `+` concatène 2 listes, alors que l'opérateur `*` répète une liste un certain nombre de fois :"
   ]
  },
  {
   "cell_type": "code",
   "execution_count": 32,
   "metadata": {
    "tags": []
   },
   "outputs": [
    {
     "name": "stdout",
     "output_type": "stream",
     "text": [
      "['gentiane', 'campanule', 'pensée', 'marguerite', 'oseille']\n"
     ]
    }
   ],
   "source": [
    "# Création de la liste\n",
    "plantes = [\"gentiane\", \"campanule\", \"pensée\"]\n",
    "\n",
    "# Concaténation\n",
    "plantes2 = plantes + [\"marguerite\", \"oseille\"]\n",
    "\n",
    "# Affichage de la liste\n",
    "print(plantes2)"
   ]
  },
  {
   "cell_type": "code",
   "execution_count": 34,
   "metadata": {
    "tags": []
   },
   "outputs": [
    {
     "name": "stdout",
     "output_type": "stream",
     "text": [
      "['gentiane', 'campanule', 'pensée', 'gentiane', 'campanule', 'pensée']\n"
     ]
    }
   ],
   "source": [
    "# Répétition de la liste\n",
    "print(plantes * 2)"
   ]
  },
  {
   "cell_type": "markdown",
   "metadata": {},
   "source": [
    "On peut aussi effectuer des calculs en utilisant directement des éléments de la liste. Par exemple :"
   ]
  },
  {
   "cell_type": "code",
   "execution_count": 44,
   "metadata": {
    "tags": []
   },
   "outputs": [
    {
     "name": "stdout",
     "output_type": "stream",
     "text": [
      "24.700000000000003\n"
     ]
    }
   ],
   "source": [
    "# Création de la liste\n",
    "taille_plantes = [\"gentiane\", 7.5, \"campanule\", 5.8, \"pensée\", 11.4]\n",
    "\n",
    "# Calcul de la taille totale\n",
    "taille_totale = taille_plantes[1] + taille_plantes[3] + taille_plantes[5]\n",
    "\n",
    "# Affichage du résultat\n",
    "print(taille_totale)"
   ]
  },
  {
   "cell_type": "markdown",
   "metadata": {},
   "source": [
    "### Exercice\n",
    "1. Après une semaine, vos plantes ont poussé. Modifier la liste `taille_plantes` avec les tailles 8.3 cm, 6.4 cm et 13.2 cm pour respectivement les plantes gentiane, campanule et pensée.\n",
    "2. Afficher la liste avec `print()`"
   ]
  },
  {
   "cell_type": "code",
   "execution_count": 45,
   "metadata": {},
   "outputs": [
    {
     "name": "stdout",
     "output_type": "stream",
     "text": [
      "before ['gentiane', 7.5, 'campanule', 5.8, 'pensée', 11.4]\n",
      "after ['gentiane', 8.3, 'campanule', 6.4, 'pensée', 13.2]\n"
     ]
    }
   ],
   "source": [
    "print(\"before\", taille_plantes)\n",
    "\n",
    "taille_plantes[1] = 8.3 # cm\n",
    "taille_plantes[3] = 6.4 # cm\n",
    "taille_plantes[5] = 13.2 # cm\n",
    "\n",
    "print(\"after\", taille_plantes)"
   ]
  },
  {
   "cell_type": "markdown",
   "metadata": {},
   "source": [
    "## **Vidéo**: Sous-listes et tranches"
   ]
  },
  {
   "cell_type": "code",
   "execution_count": 1,
   "metadata": {
    "tags": [
     "remove-input"
    ]
   },
   "outputs": [
    {
     "data": {
      "text/html": [
       "<iframe src=\"https://sorbonne-universite.cloud.panopto.eu/Panopto/Pages/Embed.aspx?id=5504058e-ba2e-49ad-a303-adb100bb4fa6&autoplay=false&offerviewer=true&showtitle=true&showbrand=false&captions=false&interactivity=all\" height=\"405\" width=\"720\" style=\"border: 1px solid #464646;\" allowfullscreen allow=\"autoplay\"></iframe>\n"
      ],
      "text/plain": [
       "<IPython.core.display.HTML object>"
      ]
     },
     "metadata": {},
     "output_type": "display_data"
    }
   ],
   "source": [
    "%%HTML\n",
    "<iframe src=\"https://sorbonne-universite.cloud.panopto.eu/Panopto/Pages/Embed.aspx?id=5504058e-ba2e-49ad-a303-adb100bb4fa6&autoplay=false&offerviewer=true&showtitle=true&showbrand=false&captions=false&interactivity=all\" height=\"405\" width=\"720\" style=\"border: 1px solid #464646;\" allowfullscreen allow=\"autoplay\"></iframe>"
   ]
  },
  {
   "cell_type": "markdown",
   "metadata": {},
   "source": [
    "## Tranches de liste"
   ]
  },
  {
   "cell_type": "markdown",
   "metadata": {},
   "source": [
    "Il est possible de sélectionner plusieurs éléments d'une liste en utilisant l'opérateur *tranche* `[m:n]`, où `m` et `n` sont des expression entières. L'opérateur de tranche inclut l'élément de départ, mais **exclut l'élément de fin de la tranche**. Ainsi, l'opérateur `[0:2]` revient à sélectionner les élements d'indice `0` et `1`. Par exemple :"
   ]
  },
  {
   "cell_type": "code",
   "execution_count": 2,
   "metadata": {
    "tags": []
   },
   "outputs": [
    {
     "name": "stdout",
     "output_type": "stream",
     "text": [
      "['gentiane', 'campanule']\n"
     ]
    }
   ],
   "source": [
    "# Création de la liste\n",
    "plantes = [\"gentiane\", \"campanule\", \"pensée\"]\n",
    "\n",
    "# Affichage d'une tranche de liste : l'élément de fin de tranche EST EXCLUT\n",
    "print(plantes[0:2])"
   ]
  },
  {
   "cell_type": "markdown",
   "metadata": {},
   "source": [
    "Si vous omettez le premier indice, la tranche commence au début de la liste. Si vous omettez le second indice, la tranche s'étend jusqu'à la  fin de la liste. Si vous omettez les deux indices, la liste entière est sélectionnée :"
   ]
  },
  {
   "cell_type": "code",
   "execution_count": 3,
   "metadata": {
    "tags": []
   },
   "outputs": [
    {
     "name": "stdout",
     "output_type": "stream",
     "text": [
      "['gentiane', 'campanule']\n"
     ]
    }
   ],
   "source": [
    "# Omission du 1er indice : commence à l'élément 0\n",
    "print(plantes[:2])"
   ]
  },
  {
   "cell_type": "code",
   "execution_count": 4,
   "metadata": {
    "tags": []
   },
   "outputs": [
    {
     "name": "stdout",
     "output_type": "stream",
     "text": [
      "['campanule', 'pensée']\n"
     ]
    }
   ],
   "source": [
    "# Omission du dernier indice : va jusqu'à la fin de la liste\n",
    "print(plantes[1:])"
   ]
  },
  {
   "cell_type": "code",
   "execution_count": 5,
   "metadata": {
    "tags": []
   },
   "outputs": [
    {
     "name": "stdout",
     "output_type": "stream",
     "text": [
      "['gentiane', 'campanule', 'pensée']\n"
     ]
    }
   ],
   "source": [
    "# Omission de 2 indices : tous les éléments de la liste\n",
    "print(plantes[:])"
   ]
  },
  {
   "cell_type": "markdown",
   "metadata": {},
   "source": [
    "Il est possible de modifier plusieurs éléments en même temps en utilisant l'opérateur tranche à gauche de l'opérateur affection. Il faut alors mettre à droite de l'opérateur affectation **une liste de longueur quelconque qui va remplacer la tranche sélectionnée**. Par exemple :"
   ]
  },
  {
   "cell_type": "code",
   "execution_count": 6,
   "metadata": {
    "tags": []
   },
   "outputs": [
    {
     "name": "stdout",
     "output_type": "stream",
     "text": [
      "['marguerite', 'oseille', 'saxifrage', 'pensée']\n"
     ]
    }
   ],
   "source": [
    "# Création de la liste\n",
    "plantes = [\"gentiane\", \"campanule\", \"pensée\"]\n",
    "\n",
    "# Modification d'une tranche\n",
    "plantes[0:2] = [\"marguerite\", \"oseille\", \"saxifrage\"]\n",
    "\n",
    "# Affichage de la liste\n",
    "print(plantes)"
   ]
  },
  {
   "cell_type": "markdown",
   "metadata": {},
   "source": [
    "On a remplacé les deux premiers éléments de la liste par une liste de trois éléments. La taille de la liste a donc changé."
   ]
  },
  {
   "cell_type": "markdown",
   "metadata": {},
   "source": [
    "### Exercice"
   ]
  },
  {
   "cell_type": "code",
   "execution_count": 14,
   "metadata": {},
   "outputs": [],
   "source": [
    "# Création de la liste\n",
    "plantes = [\"gentiane\", \"campanule\", \"pensée\", \"marguerite\", \"oseille\"]"
   ]
  },
  {
   "cell_type": "markdown",
   "metadata": {},
   "source": [
    "1. Dans la liste `plantes` créée ci-dessus, remplacer les chaînes `\"campanule\"` et `\"pensée\"` par les chaînes `\"saxifrage\"`, `\"primevère\"` et `\"orchis\"` à l'aide de l'opérateur tranche.\n",
    "2. Afficher la liste avec `print()` pour vérifier le résultat."
   ]
  },
  {
   "cell_type": "code",
   "execution_count": 15,
   "metadata": {},
   "outputs": [
    {
     "name": "stdout",
     "output_type": "stream",
     "text": [
      "['gentiane', 'saxifrage', 'primevère', 'marguerite', 'oseille']\n"
     ]
    }
   ],
   "source": [
    "plantes[1:3] = [\"saxifrage\", \"primevère\"]\n",
    "print(plantes)"
   ]
  },
  {
   "cell_type": "markdown",
   "metadata": {},
   "source": [
    "## Indexation et tranche de liste de listes"
   ]
  },
  {
   "cell_type": "markdown",
   "metadata": {},
   "source": [
    "On a vu qu'une liste peut contenir d'autres listes (listes imbriquées). Il est possible d'utiliser l'opérateur d'indexation sur les listes de listes. Par exemple :"
   ]
  },
  {
   "cell_type": "code",
   "execution_count": 16,
   "metadata": {},
   "outputs": [],
   "source": [
    "# Création de la liste\n",
    "taille_plantes = [[\"gentiane\",   7.5], \n",
    "                  [\"campanule\",  5.8],\n",
    "                  [\"pensée\",     11.4]]"
   ]
  },
  {
   "cell_type": "code",
   "execution_count": 17,
   "metadata": {
    "tags": []
   },
   "outputs": [
    {
     "name": "stdout",
     "output_type": "stream",
     "text": [
      "['campanule', 5.8]\n"
     ]
    }
   ],
   "source": [
    "# Sélection d'une liste imbriquée\n",
    "print(taille_plantes[1])"
   ]
  },
  {
   "cell_type": "code",
   "execution_count": 18,
   "metadata": {
    "tags": []
   },
   "outputs": [
    {
     "name": "stdout",
     "output_type": "stream",
     "text": [
      "campanule\n"
     ]
    }
   ],
   "source": [
    "# Sélection d'un élement dans la liste imbriquée\n",
    "print(taille_plantes[1][0])"
   ]
  },
  {
   "cell_type": "markdown",
   "metadata": {},
   "source": [
    "Le premier opérateur sélectionne la liste (dans l'exemple la liste d'indice 1), et le deuxième opérateur sélectionne l'élément dans la liste sélectionnée (dans l'exemple celui d'indice 0).\n",
    "\n",
    "On peut aussi utiliser l'opérateur tranche :"
   ]
  },
  {
   "cell_type": "code",
   "execution_count": 19,
   "metadata": {
    "tags": []
   },
   "outputs": [
    {
     "name": "stdout",
     "output_type": "stream",
     "text": [
      "[['campanule', 5.8], ['pensée', 11.4]]\n"
     ]
    }
   ],
   "source": [
    "# Sélection d'une tranche de listes imbriquées\n",
    "print(taille_plantes[1:3])"
   ]
  },
  {
   "cell_type": "code",
   "execution_count": 20,
   "metadata": {
    "tags": []
   },
   "outputs": [
    {
     "name": "stdout",
     "output_type": "stream",
     "text": [
      "['campanule']\n"
     ]
    }
   ],
   "source": [
    "# Sélection d'une tranche de la liste imbriquée\n",
    "print(taille_plantes[1][0:1])"
   ]
  },
  {
   "cell_type": "code",
   "execution_count": 21,
   "metadata": {},
   "outputs": [
    {
     "name": "stdout",
     "output_type": "stream",
     "text": [
      "['campanule', 5.8]\n"
     ]
    }
   ],
   "source": [
    "print(taille_plantes[1][:])"
   ]
  },
  {
   "cell_type": "markdown",
   "metadata": {},
   "source": [
    "La première instruction sélectionne les listes d'indices 1 et 2 et retourne une liste de listes. La deuxième instruction sélectionne l'élément d'indice 0 dans la liste d'indice 1."
   ]
  },
  {
   "cell_type": "markdown",
   "metadata": {},
   "source": [
    "### Exercice\n",
    "Quelle est la difference entre les instructions `taille_plantes[1][0]` et `taille_plantes[1][0:1]` ? Vous pouvez utiliser l'opérateur `type()` pour vérifier cette différence."
   ]
  },
  {
   "cell_type": "code",
   "execution_count": 23,
   "metadata": {},
   "outputs": [
    {
     "name": "stdout",
     "output_type": "stream",
     "text": [
      "<class 'str'> <class 'list'>\n"
     ]
    }
   ],
   "source": [
    "print(type(taille_plantes[1][0]) , type(taille_plantes[1][0:1]))"
   ]
  },
  {
   "cell_type": "markdown",
   "metadata": {},
   "source": [
    "## **Vidéo**: Manipuler les listes"
   ]
  },
  {
   "cell_type": "code",
   "execution_count": 4,
   "metadata": {
    "tags": [
     "remove-input"
    ]
   },
   "outputs": [
    {
     "data": {
      "text/html": [
       "<iframe src=\"https://sorbonne-universite.cloud.panopto.eu/Panopto/Pages/Embed.aspx?id=74d9ddaf-66ac-4405-8b91-adb100bb6549&autoplay=false&offerviewer=true&showtitle=true&showbrand=false&captions=false&interactivity=all\" height=\"405\" width=\"720\" style=\"border: 1px solid #464646;\" allowfullscreen allow=\"autoplay\"></iframe>\n"
      ],
      "text/plain": [
       "<IPython.core.display.HTML object>"
      ]
     },
     "metadata": {},
     "output_type": "display_data"
    }
   ],
   "source": [
    "%%HTML\n",
    "<iframe src=\"https://sorbonne-universite.cloud.panopto.eu/Panopto/Pages/Embed.aspx?id=74d9ddaf-66ac-4405-8b91-adb100bb6549&autoplay=false&offerviewer=true&showtitle=true&showbrand=false&captions=false&interactivity=all\" height=\"405\" width=\"720\" style=\"border: 1px solid #464646;\" allowfullscreen allow=\"autoplay\"></iframe>"
   ]
  },
  {
   "cell_type": "markdown",
   "metadata": {},
   "source": [
    "## Supprimer un élément"
   ]
  },
  {
   "cell_type": "markdown",
   "metadata": {},
   "source": [
    "Il existe deux possibilités pour supprimer un élément d'une liste : en utilisant l'instruction `del()` ou bien en insérant une liste vide `[]`. Par exemple :"
   ]
  },
  {
   "cell_type": "code",
   "execution_count": 24,
   "metadata": {},
   "outputs": [],
   "source": [
    "plantes = [\"gentiane\", \"campanule\", \"pensée\", \"marguerite\", \"oseille\"]"
   ]
  },
  {
   "cell_type": "code",
   "execution_count": 25,
   "metadata": {
    "tags": []
   },
   "outputs": [
    {
     "name": "stdout",
     "output_type": "stream",
     "text": [
      "['gentiane', 'campanule', 'marguerite', 'oseille']\n"
     ]
    }
   ],
   "source": [
    "del(plantes[2]); print(plantes)"
   ]
  },
  {
   "cell_type": "code",
   "execution_count": 26,
   "metadata": {
    "tags": []
   },
   "outputs": [
    {
     "name": "stdout",
     "output_type": "stream",
     "text": [
      "['gentiane', 'oseille']\n"
     ]
    }
   ],
   "source": [
    "plantes[1:3] = []; print(plantes)"
   ]
  },
  {
   "cell_type": "markdown",
   "metadata": {},
   "source": [
    "Dans la deuxième ligne, on a supprimé l'élément d'indice 2. On remarque alors que les indices des élements de la liste changent. Dans la troisième ligne, on a supprimé grâce à l'opérateur tranche les élements 1 et 2, en introduisant à la place une liste vide."
   ]
  },
  {
   "cell_type": "markdown",
   "metadata": {},
   "source": [
    "<div class=\"alert alert-info\">\n",
    "\n",
    "**Le point-virgule**\n",
    "\n",
    "Ici nous avons utilisé un point-virgule à la fin d'une instruction pour pouvoir écrire deux instructions sur la même ligne.\n",
    "\n",
    "Il est tout de même conseillé de ne pas le faire, pour que le code soit plus lisible, mais sachez que c'est possible.\n",
    "</div>"
   ]
  },
  {
   "cell_type": "markdown",
   "metadata": {},
   "source": [
    "## Les chaînes\n",
    "\n",
    "On a vu que les chaînes sont constituées d'une séquence de caractères. Comme pour les listes, on peut utiliser les opérateurs indexation et tranche pour accéder à certains caractères de la chaîne. Par exemple :"
   ]
  },
  {
   "cell_type": "code",
   "execution_count": 27,
   "metadata": {},
   "outputs": [],
   "source": [
    "# Création de la chaîne\n",
    "plante1 = \"gentiane\""
   ]
  },
  {
   "cell_type": "code",
   "execution_count": 28,
   "metadata": {
    "tags": []
   },
   "outputs": [
    {
     "name": "stdout",
     "output_type": "stream",
     "text": [
      "t\n"
     ]
    }
   ],
   "source": [
    "# Sélection d'un caractère\n",
    "print(plante1[3])"
   ]
  },
  {
   "cell_type": "code",
   "execution_count": 29,
   "metadata": {
    "tags": []
   },
   "outputs": [
    {
     "name": "stdout",
     "output_type": "stream",
     "text": [
      "tia\n"
     ]
    }
   ],
   "source": [
    "# Sélection d'une tranche\n",
    "print(plante1[3:6])"
   ]
  },
  {
   "cell_type": "markdown",
   "metadata": {},
   "source": [
    "Par contre, contrairement aux listes, les chaînes sont *immuables*, ce qui signifie que l'on ne peut pas modifier une chaîne existante. Si on essaye, on a alors un message d'erreur :"
   ]
  },
  {
   "cell_type": "code",
   "execution_count": 30,
   "metadata": {
    "tags": [
     "raises-exception"
    ]
   },
   "outputs": [
    {
     "ename": "TypeError",
     "evalue": "'str' object does not support item assignment",
     "output_type": "error",
     "traceback": [
      "\u001b[0;31m---------------------------------------------------------------------------\u001b[0m",
      "\u001b[0;31mTypeError\u001b[0m                                 Traceback (most recent call last)",
      "\u001b[0;32m/var/folders/zz/qrq62qr91b50sgmzsqb1jx2w0000gn/T/ipykernel_27449/252376294.py\u001b[0m in \u001b[0;36m<module>\u001b[0;34m\u001b[0m\n\u001b[0;32m----> 1\u001b[0;31m \u001b[0mplante1\u001b[0m\u001b[0;34m[\u001b[0m\u001b[0;36m3\u001b[0m\u001b[0;34m]\u001b[0m \u001b[0;34m=\u001b[0m \u001b[0;34m\"b\"\u001b[0m\u001b[0;34m\u001b[0m\u001b[0;34m\u001b[0m\u001b[0m\n\u001b[0m",
      "\u001b[0;31mTypeError\u001b[0m: 'str' object does not support item assignment"
     ]
    }
   ],
   "source": [
    "plante1[3] = \"b\""
   ]
  },
  {
   "cell_type": "markdown",
   "metadata": {},
   "source": [
    "<div class=\"alert alert-info\">\n",
    "\n",
    "**Objet**\n",
    "\n",
    "La chaîne de caractères `\"gentiane\"` est un objet dont les éléments sont les caractères de la chaîne, qui sont aussi des objets. De manière générale, un objet est *quelque chose* auquel une variable peut se référer. Ici, la variable `plante1` se réfère à l'objet `\"gentiane\"`.\n",
    "\n",
    "</div>"
   ]
  },
  {
   "cell_type": "markdown",
   "metadata": {},
   "source": [
    "<div class=\"alert alert-info\">\n",
    "\n",
    "**Muable**\n",
    "\n",
    "Un objet muable est un objet qui peut être modifié, comme les listes. À l'inverse, un objet immuable ne peut pas être modifié, comme les chaînes.\n",
    "\n",
    "</div>"
   ]
  },
  {
   "cell_type": "markdown",
   "metadata": {},
   "source": [
    "## Objets et valeurs\n",
    "Effectuons les affectations suivantes :"
   ]
  },
  {
   "cell_type": "code",
   "execution_count": 31,
   "metadata": {},
   "outputs": [],
   "source": [
    "plante1 = \"gentiane\"\n",
    "plante2 = \"gentiane\""
   ]
  },
  {
   "cell_type": "markdown",
   "metadata": {},
   "source": [
    "Dans cet exemple on a créé une variable `plante1` qui se réfère à un objet \"gentiane\", et une variable `plante2` qui se réfère à un objet \"gentiane\". Python a-t-il créé deux objets \"gentiane\" ou un seul ? Autrement dit, les variables `plante1` et `plante2` se réfèrent-elles à deux objets différents ou bien à un seul objet commun ?\n",
    "\n",
    "Pour vérifier si deux variables font référence au même objet, nous pouvons utiliser l'opérateur `is` :"
   ]
  },
  {
   "cell_type": "code",
   "execution_count": 33,
   "metadata": {},
   "outputs": [
    {
     "data": {
      "text/plain": [
       "True"
      ]
     },
     "execution_count": 33,
     "metadata": {},
     "output_type": "execute_result"
    }
   ],
   "source": [
    "plante1 is plante2\n",
    "\n",
    "# c'est à dire on a le même objet ici D:"
   ]
  },
  {
   "cell_type": "markdown",
   "metadata": {},
   "source": [
    "Cette instruction nous renvoie la valeur `True`, c'est-à-dire Vrai. Donc les deux variables se réfèrent bien au même objet chaîne.\n",
    "\n",
    "Cependant, ce n'est pas le cas lorsque l'on crée deux listes:"
   ]
  },
  {
   "cell_type": "code",
   "execution_count": 34,
   "metadata": {},
   "outputs": [],
   "source": [
    "plantes1 = [\"gentiane\", \"campanule\", \"pensée\"]\n",
    "plantes2 = [\"gentiane\", \"campanule\", \"pensée\"]"
   ]
  },
  {
   "cell_type": "code",
   "execution_count": 35,
   "metadata": {},
   "outputs": [
    {
     "data": {
      "text/plain": [
       "False"
      ]
     },
     "execution_count": 35,
     "metadata": {},
     "output_type": "execute_result"
    }
   ],
   "source": [
    "plantes1 is plantes2"
   ]
  },
  {
   "cell_type": "markdown",
   "metadata": {},
   "source": [
    "Dans ce cas, les deux listes sont *équivalentes*, parce qu'elles ont les mêmes éléments, mais pas *identiques*, car il ne s'agit pas d'un même objet."
   ]
  },
  {
   "cell_type": "markdown",
   "metadata": {},
   "source": [
    "<div class=\"alert alert-info\">\n",
    "\n",
    "**Valeur d'un objet**\n",
    "\n",
    "Une variable se réfère à un objet, qui a une certaine valeur. En évaluant `[1, 2, 3]`, on obtient un objet liste dont la valeur est une séquence d'entiers. Si une autre liste a les mêmes éléments, on dit qu'elle a la même valeur, mais ce n'est pas le même objet.\n",
    "\n",
    "</div>"
   ]
  },
  {
   "cell_type": "markdown",
   "metadata": {},
   "source": [
    "## Aliasing\n"
   ]
  },
  {
   "cell_type": "markdown",
   "metadata": {},
   "source": [
    "Créons une variable `plantes1` qui se réfère à un objet et écrivons `plantes2 = plantes1`. Alors les 2 variable `plantes1` et `plantes2` se réfèrent au même objet. Pour le vérifier, utilisons l'opérateur `is` :"
   ]
  },
  {
   "cell_type": "code",
   "execution_count": 39,
   "metadata": {},
   "outputs": [],
   "source": [
    "plantes1 = [\"gentiane\", \"campanule\", \"pensée\"]\n",
    "plantes2 = plantes1"
   ]
  },
  {
   "cell_type": "code",
   "execution_count": 40,
   "metadata": {},
   "outputs": [
    {
     "data": {
      "text/plain": [
       "True"
      ]
     },
     "execution_count": 40,
     "metadata": {},
     "output_type": "execute_result"
    }
   ],
   "source": [
    "# Les deux variables se réfèrent au même objet\n",
    "plantes2 is plantes1"
   ]
  },
  {
   "cell_type": "markdown",
   "metadata": {},
   "source": [
    "L'association entre une variable et un objet s'appelle une *référence*. Dans l'exemple il existe deux références vers le même objet `[\"gentiane\", \"campanule\", \"pensée\"]`. Comme l'objet est une liste, il est *muable*, c'est-à-dire qu'on peut le modifier. Alors les modifications faites à un alias (une référence) affectent l'autre :"
   ]
  },
  {
   "cell_type": "code",
   "execution_count": 41,
   "metadata": {
    "tags": []
   },
   "outputs": [
    {
     "name": "stdout",
     "output_type": "stream",
     "text": [
      "['gentiane', 'primevère', 'pensée']\n"
     ]
    }
   ],
   "source": [
    "# On modifie l'objet auquel se réfère plante2\n",
    "plantes2[1] = \"primevère\"\n",
    "\n",
    "# L'objet auquel se réfère plantes1 est aussi modifié, car c'est le même objet\n",
    "print(plantes1)"
   ]
  },
  {
   "cell_type": "markdown",
   "metadata": {},
   "source": [
    "Ce comportement, appelé *aliasing*, peut être source d'erreur. Pour éviter cela, vous pouvez copier de façon *superficielle* l'objet à l'aide de `list()` ou de `[:]`."
   ]
  },
  {
   "cell_type": "code",
   "execution_count": 42,
   "metadata": {
    "tags": []
   },
   "outputs": [
    {
     "name": "stdout",
     "output_type": "stream",
     "text": [
      "False\n",
      "False\n"
     ]
    }
   ],
   "source": [
    "plantes1 = [\"gentiane\", \"campanule\", \"pensée\"]\n",
    "\n",
    "# Copie superficielle de la liste : version 1\n",
    "plantes2 = plantes1[:]\n",
    "\n",
    "# Copie superficielle de la liste : version 2\n",
    "plantes3 = list(plantes1)\n",
    "\n",
    "# Les variables plantes2 et plantes3 ne se réfèrent pas au même objet que la variable plantes1\n",
    "print(plantes2 is plantes1)\n",
    "print(plantes3 is plantes1)"
   ]
  },
  {
   "cell_type": "code",
   "execution_count": null,
   "metadata": {},
   "outputs": [],
   "source": []
  }
 ],
 "metadata": {
  "celltoolbar": "Tags",
  "interpreter": {
   "hash": "7e1f28879991ede76d46e9c7fb47f802595d36e9b3f8686cb619aadab09304b5"
  },
  "kernelspec": {
   "display_name": "Python 3 (ipykernel)",
   "language": "python",
   "name": "python3"
  },
  "language_info": {
   "codemirror_mode": {
    "name": "ipython",
    "version": 3
   },
   "file_extension": ".py",
   "mimetype": "text/x-python",
   "name": "python",
   "nbconvert_exporter": "python",
   "pygments_lexer": "ipython3",
   "version": "3.9.5"
  }
 },
 "nbformat": 4,
 "nbformat_minor": 4
}
