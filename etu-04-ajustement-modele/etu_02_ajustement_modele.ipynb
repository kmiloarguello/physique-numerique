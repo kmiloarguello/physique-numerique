{
  "cells": [
    {
      "cell_type": "markdown",
      "metadata": {
        "id": "Kph8t0liKEMd"
      },
      "source": [
        "# Ajuster un modèle aux données"
      ]
    },
    {
      "cell_type": "markdown",
      "metadata": {
        "id": "R0uE8uZMKEMe"
      },
      "source": [
        "Nous avons vu jusqu'ici plusieurs exemples de modèles en physique, et leur représentation numérique. Ces modèles sont construits pour représenter des données expérimentales ou des observations.\n",
        "\n",
        "Les modèles dépendent d'un certain nombre de paramètres qu'il faut choisir afin de représenter au mieux les données. Une méthode possible est d'utiliser les données expérimentales ou les observations afin de trouver le meilleur jeu de paramètres qui les représente à l'aide d'un modèle donné. On dit que l'on fait un **ajustement du modèle aux données**. En anglais on appelle cela un ***fit***, terme qui est souvent repris par les physiciens, même en français.\n",
        "\n",
        "Une méthode pour trouver le meilleur ajustement d'un modèle aux données est la méthode des moindres carrés, ce que nous allons voir ici."
      ]
    },
    {
      "cell_type": "markdown",
      "metadata": {
        "id": "3ehKCjlIKEMf"
      },
      "source": [
        "## Paramètres d'un modèle"
      ]
    },
    {
      "cell_type": "markdown",
      "metadata": {
        "id": "wd4d42V3KEMf"
      },
      "source": [
        "Reprenons le modèle de l'accéleration constante vu dans la séquence sur la démarche de modélisation. Nous avons mesuré la vitesse $v_i$ d'un objet pour des temps $t_i$. L'objet est lâché avec une vitesse initiale vers le bas d'environ 1,6 m/s. Voici le résultat des mesures :\n",
        "\n",
        "|$i$|0|1|2|3|4|5|6|7|8|9|10|\n",
        "|--|--|--|--|--|--|--|--|--|--|--|--|\n",
        "|$t_i$|0.0|0.1|0.2|0.3|0.4|0.5|0.6|0.7|0.8|0.9|1.0|\n",
        "|$v_i$|0.338|   -1.509|  -5.301|  -4.404|  -6.967|  -6.229|  -5.279|  -9.266|  -8.847| -11.260| -12.040|\n",
        "\n",
        "Le modèle est :\n",
        "\n",
        "$$\n",
        "v(t;v_0,g) = v_0 - gt\n",
        "$$\n",
        "\n",
        "Nous déclarons que $v_0$ et $g$ sont les paramètres du modèle. Il est d'usage en physique de noter les paramètres après un point-virgule dans la fonction : $v(t;v_0,g)$, pour les distinguer de la variable libre $t$.\n",
        "\n",
        "Nous supposons que les paramètres du modèle, $v_0$ et $g$, ne sont pas connus *a priori*. Nous allons utiliser les données expérimentales pour trouver les meilleures valeurs possibles des paramètres, d'après ces données.\n",
        "\n",
        "Représentons graphiquement les données et le modèle :"
      ]
    },
    {
      "cell_type": "code",
      "execution_count": 1,
      "metadata": {
        "colab": {
          "base_uri": "https://localhost:8080/",
          "height": 279
        },
        "id": "S7kA793xKEMg",
        "outputId": "143dac28-c008-4f7f-c8a4-f6f3963e981b"
      },
      "outputs": [
        {
          "data": {
            "image/png": "[encoded data removed]",
            "text/plain": [
              "<Figure size 432x288 with 1 Axes>"
            ]
          },
          "metadata": {
            "needs_background": "light"
          },
          "output_type": "display_data"
        }
      ],
      "source": [
        "# Importation des modules\n",
        "import numpy as np\n",
        "import matplotlib.pyplot as plt\n",
        "\n",
        "# Données experimentales\n",
        "N = 11\n",
        "t_exp = np.linspace(0, 1, N)\n",
        "v_exp = np.array([0.338, -1.509, -5.301, -4.404, -6.967, -6.229, -5.279, -9.266, -8.847, -11.260, -12.040])\n",
        "\n",
        "# Paramètres du modèle\n",
        "g = 5\n",
        "v0 = 0\n",
        "\n",
        "# Discrétisation du modèle\n",
        "t_mod = np.linspace(0, 1, N)\n",
        "v_mod = v0 - g * t_exp\n",
        "\n",
        "# Représentation graphique du modèle et des données\n",
        "plt.plot(t_exp, v_exp, '+k', label = 'données expérimentales')\n",
        "plt.plot(t_mod, v_mod, '-b', label = 'modèle')\n",
        "plt.xlabel('t [s]')\n",
        "plt.ylabel('v [m/s]')\n",
        "plt.grid()\n",
        "plt.legend()\n",
        "plt.show()"
      ]
    },
    {
      "cell_type": "markdown",
      "metadata": {
        "id": "4CDg5hfTKEMi"
      },
      "source": [
        "### Exercice\n",
        "Ajuster la valeur des paramètres $v_0$ et $g$ *à la main*, c'est-à-dire en changeant directement leur valeur dans le script ci-dessus, afin que le modèle représente au mieux les données.\n",
        "\n",
        "Quel est le critère qui vous permet de dire que le modèle représente mieux les données ?"
      ]
    },
    {
      "cell_type": "code",
      "execution_count": 2,
      "metadata": {
        "colab": {
          "base_uri": "https://localhost:8080/",
          "height": 279
        },
        "id": "IDszRYEFKEMi",
        "outputId": "95b7d1d4-ee93-4dbf-c1cb-9360d8bd34b3"
      },
      "outputs": [
        {
          "data": {
            "image/png": "[encoded data removed]",
            "text/plain": [
              "<Figure size 432x288 with 1 Axes>"
            ]
          },
          "metadata": {
            "needs_background": "light"
          },
          "output_type": "display_data"
        }
      ],
      "source": [
        "# Paramètres du modèle\n",
        "g = 10\n",
        "v0 = -1\n",
        "\n",
        "# Discrétisation du modèle\n",
        "t_mod = np.linspace(0, 1, N)\n",
        "v_mod = v0 - g * t_exp\n",
        "\n",
        "# Représentation graphique du modèle et des données\n",
        "plt.plot(t_exp, v_exp, '+k', label = 'données expérimentales')\n",
        "plt.plot(t_mod, v_mod, '-b', label = 'modèle')\n",
        "plt.xlabel('t [s]')\n",
        "plt.ylabel('v [m/s]')\n",
        "plt.grid()\n",
        "plt.legend()\n",
        "plt.show()"
      ]
    },
    {
      "cell_type": "markdown",
      "metadata": {
        "id": "yPC0XPV2KEMj"
      },
      "source": [
        "##  La méthode des moindres-carrés"
      ]
    },
    {
      "cell_type": "markdown",
      "metadata": {
        "id": "_SnA_0tjKEMj"
      },
      "source": [
        "La méthode des moindres carrés permet d'utiliser un critère quantitatif afin de trouver le meilleur ajustement d'un modèle d'après des données expérimentales. Calculons la somme quadratique des écarts entre le modèle et les données du problème : \n",
        "\n",
        "$$\n",
        "S = \\sum_{i=0}^{N-1} (y_i - P(x_i))^2 \n",
        "$$\n",
        "\n",
        "Les couples $(x_i,y_i)$ sont les données expérimentales, alors que $y=P(x)$ est le modèle. Le but pour trouver le modèle le mieux ajusté aux données expérimentales est de minimiser la somme $S$. On minimise les carrés des écarts, d'où le nom de la méthode des « moindres carrés ».\n",
        "\n",
        "Si on applique cela au problème de l'accélération constante, on a :\n",
        "\n",
        "$$\n",
        "S(v_0,g) = \\sum_{i=0}^{N-1} (v_i - (v_0 - g t_i))^2 \n",
        "$$\n",
        "\n",
        "$S$ est une fonction des paramètres du problème, qui doit avoir un minimum pour le meilleur ajustement du modèle aux données (*best fit* en anglais).\n",
        "\n",
        "Représentons graphiquement cette somme :"
      ]
    },
    {
      "cell_type": "code",
      "execution_count": 4,
      "metadata": {
        "colab": {
          "base_uri": "https://localhost:8080/",
          "height": 313
        },
        "id": "zsN5hl_OKEMk",
        "outputId": "4b1f3daa-c43a-4308-93ff-f827cda0f678"
      },
      "outputs": [
        {
          "name": "stdout",
          "output_type": "stream",
          "text": [
            "[ 0.  -0.5 -1.  -1.5 -2.  -2.5 -3.  -3.5 -4.  -4.5 -5. ]\n",
            "(11,) ()\n"
          ]
        },
        {
          "data": {
            "image/png": "[encoded data removed]",
            "text/plain": [
              "<Figure size 432x288 with 1 Axes>"
            ]
          },
          "metadata": {
            "needs_background": "light"
          },
          "output_type": "display_data"
        }
      ],
      "source": [
        "# Paramètres du modèle\n",
        "g = 5\n",
        "v0 = 0\n",
        "\n",
        "# Discrétisation du modèle\n",
        "t_mod = np.linspace(0, 1, N)\n",
        "v_mod = v0 - g * t_exp\n",
        "print(v_mod)\n",
        "\n",
        "# Calcul de la somme S\n",
        "Si = (v_exp - v_mod) ** 2\n",
        "S = np.sum(Si)\n",
        "\n",
        "print(Si.shape, S.shape)\n",
        "\n",
        "# Représentation graphique du modèle et des données\n",
        "plt.plot(t_exp, v_exp, '+k', label = 'données expérimentales')\n",
        "plt.plot(t_mod, v_mod, '-b', label = 'modèle')\n",
        "\n",
        "# représentation des écarts entre le modèle et les données\n",
        "for i in range(N - 1):\n",
        "    plt.plot((t_exp[i], t_exp[i]), (v_exp[i], v_mod[i]), '-r')\n",
        "\n",
        "plt.title('S = ' + str(np.around(S,2)))\n",
        "plt.xlabel('t [s]')\n",
        "plt.ylabel('v [m/s]')\n",
        "plt.grid()\n",
        "plt.legend()\n",
        "plt.show()"
      ]
    },
    {
      "cell_type": "markdown",
      "metadata": {
        "id": "U_svypWUKEMk"
      },
      "source": [
        "### Exercice\n",
        "Dans la cellule ci-dessus, calculer $S$ pour les paramètres trouvés à l'exercice précedent. Pouvez-vous améliorer la valeur des paramètres en vous basant sur la valeur de $S$ ?\n",
        "\n",
        "Pourquoi les éléments de la somme des écarts entre les données et le modèle sont-ils mis au carré ?"
      ]
    },
    {
      "cell_type": "code",
      "execution_count": 10,
      "metadata": {
        "colab": {
          "base_uri": "https://localhost:8080/",
          "height": 313
        },
        "id": "D2AlD3qoKEMk",
        "outputId": "21b598cd-729f-4517-baa7-673438023cde"
      },
      "outputs": [
        {
          "name": "stdout",
          "output_type": "stream",
          "text": [
            "[ -1.  -2.  -3.  -4.  -5.  -6.  -7.  -8.  -9. -10. -11.]\n"
          ]
        },
        {
          "data": {
            "image/png": "[encoded data removed]",
            "text/plain": [
              "<Figure size 432x288 with 1 Axes>"
            ]
          },
          "metadata": {
            "needs_background": "light"
          },
          "output_type": "display_data"
        }
      ],
      "source": [
        "\n",
        "# Paramètres du modèle\n",
        "g = 10\n",
        "v0 = -1\n",
        "\n",
        "# Discrétisation du modèle\n",
        "t_mod = np.linspace(0, 1, N)\n",
        "v_mod = v0 - g * t_exp\n",
        "print(v_mod)\n",
        "\n",
        "# Calcul de la somme S\n",
        "Si = (v_exp - v_mod) ** 2\n",
        "S = np.sum(Si)\n",
        "\n",
        "# Représentation graphique du modèle et des données\n",
        "plt.plot(t_exp, v_exp, '+k', label = 'données expérimentales')\n",
        "plt.plot(t_mod, v_mod, '-b', label = 'modèle')\n",
        "\n",
        "# représentation des écarts entre le modèle et les données\n",
        "for i in range(N - 1):\n",
        "    plt.plot((t_exp[i], t_exp[i]), (v_exp[i], v_mod[i]), '-r')\n",
        "\n",
        "plt.title('S = ' + str(np.around(S,2)))\n",
        "plt.xlabel('t [s]')\n",
        "plt.ylabel('v [m/s]')\n",
        "plt.grid()\n",
        "plt.legend()\n",
        "plt.show()\n"
      ]
    },
    {
      "cell_type": "markdown",
      "metadata": {
        "id": "DeyygNB1KEMl"
      },
      "source": [
        "## Régression linéaire\n",
        "Pour un modèle linéaire tel que celui de l'accélération constante, il est possible de trouver le minimum de la fonction $S$ de façon analytique.\n",
        "\n",
        "Le modèle linéaire est de la forme $P(x; a, b) = a + b x$. La somme $S$ s'écrit alors\n",
        "\n",
        "$$\n",
        "S(a,b) = \\sum_{i=0}^{N-1} [y_i - (a + b x_i)]^2\n",
        "$$\n",
        "\n",
        "Le polynôme $S$ obtenu est du second degré en $a$ et $b$. Il peut s'écrire\n",
        "\n",
        "$$\n",
        "S(a,b) = b^2 \\sum_{i=0}^{N-1} x_i^2 + 2 a b \\sum_{i=0}^{N-1} x_i + N a^2 - 2 b \\sum_{i=0}^{N-1} x_i y_i - 2 a \\sum_{i=0}^{N-1} y_i + \\sum_{i=0}^{N-1} y_i^2\n",
        "$$\n",
        "\n",
        "Une condition nécessaire pour que $S$ ait un minimum en $(a_m,b_m)$ est que le gradient de $S$ s'annule au point $(a_m,b_m)$ :\n",
        "\n",
        "\\begin{eqnarray*}\n",
        "\\frac{\\partial S}{\\partial a} (a_m,b_m) & = & 0 \\;\\;\\;\\; \\Rightarrow \\;\\;\\;\\; N a_m + b_m \\sum_{i=0}^{N-1} x_i = \\sum_{i=0}^{N-1} y_i\\\\\n",
        "\\frac{\\partial S}{\\partial b} (a_m,b_m) & = & 0 \\;\\;\\;\\; \\Rightarrow \\;\\;\\;\\; a_m \\sum_{i=0}^{N-1} x_i + b_m \\sum_{i=0}^{N-1} x_i^2 = \\sum_{i=0}^{N-1} x_i y_i\n",
        "\\end{eqnarray*}\n",
        "\n",
        "On obtient alors :\n",
        "\n",
        "\\begin{eqnarray*}\n",
        "a_m &=& \\bar{y}-b_m \\bar{x}\\\\\n",
        "b_m &=& \\frac{\\mathrm{cov}(x,y)}{\\mathrm{var}(x)}\n",
        "\\end{eqnarray*}\n",
        "\n",
        "\n",
        "où\n",
        "\n",
        "\\begin{eqnarray*}\n",
        "            & \\bar{x} = \\frac{1}{N} \\sum_{i=0}^{N-1} x_{i} \\\\\n",
        "            & \\bar{y} = \\frac{1}{N} \\sum_{i=0}^{N-1} y_{i} \\\\\n",
        "            & \\mathrm{cov}(x,y) = \\frac{1}{N} \\sum_{i=0}^{N-1} (x_{i} - \\bar{x}) (y_{i} - \\bar{y_i}) = \\left( \\frac{1}{N} \\sum_{i=0}^{N-1} x_{i} y_{i} \\right) - \\bar{x}\\bar{y} \\\\\n",
        "            & \\mathrm{var}(x) = \\frac{1}{N} \\sum_{i=0}^{N-1} (x_{i} - \\bar{x})^2 = \\left( \\frac{1}{N} \\sum_{i=0}^{N-1} x_{i}^2 \\right) - \\bar{x}^2\n",
        "\\end{eqnarray*}\n",
        "\n",
        "La fonction suivante renvoie les paramètres $a$ et $b$ de la régression linéaire pour un jeu de données expérimentales :"
      ]
    },
    {
      "cell_type": "code",
      "execution_count": 11,
      "metadata": {
        "id": "cytPsPk6KEMl"
      },
      "outputs": [],
      "source": [
        "# Fonction régression linéaire\n",
        "def reglin(xi, yi):\n",
        "    '''\n",
        "        Calcule les paramètres a et b du meilleur ajustement d'un modèle linéaire\n",
        "        y = ax + b sur un jeu de données (xi, yi)\n",
        "    '''\n",
        "    N = np.size(xi)\n",
        "    \n",
        "    xm = np.mean(xi)\n",
        "    ym = np.mean(yi)\n",
        "    cov = 1 / N * np.sum(xi * yi) - xm * ym\n",
        "    var = 1 / N * np.sum(xi ** 2) - xm ** 2\n",
        "    \n",
        "    b = cov / var\n",
        "    a = ym - b * xm\n",
        "    \n",
        "    return (a, b)"
      ]
    },
    {
      "cell_type": "markdown",
      "metadata": {
        "id": "KXVjZUInKEMl"
      },
      "source": [
        "### Exercice\n",
        "1. Faire une régression linéaire sur les données temps, vitesse : $(t_{\\mathrm{exp}},v_{\\mathrm{exp}})$ en utilisant la fonction `reglin()`.\n",
        "2. Comparer le résultat obtenu avec les valeurs des paramètres trouvés « à la main » dans l'exercice précédent.\n",
        "3. Calculer $S$ et le comparer à celui obtenu à l'exercice précédent\n",
        "3. Tracer les données et le modèle trouvé avec la régression linéaire"
      ]
    },
    {
      "cell_type": "code",
      "execution_count": 14,
      "metadata": {
        "colab": {
          "base_uri": "https://localhost:8080/"
        },
        "id": "ylQxufK-M0Qd",
        "outputId": "c563c3da-8536-4141-87f6-f71d500814ea"
      },
      "outputs": [
        {
          "name": "stdout",
          "output_type": "stream",
          "text": [
            "(-0.9981818181818154, -10.869818181818184)\n"
          ]
        }
      ],
      "source": [
        "# 1\n",
        "regl = reglin(t_exp, v_exp)\n",
        "print(regl)"
      ]
    },
    {
      "cell_type": "code",
      "execution_count": 34,
      "metadata": {
        "colab": {
          "base_uri": "https://localhost:8080/"
        },
        "id": "n_Qi_eDlNGJg",
        "outputId": "994fe660-e96a-4bb4-c049-978eeb997592"
      },
      "outputs": [
        {
          "name": "stdout",
          "output_type": "stream",
          "text": [
            "La différence pour les valuers de g = -10.869818181863707 -10.869818181818184\n",
            "La différence pour les valuers de v_0 = -0.9981818181839934 -0.9981818181818154\n",
            "v0 = -1.00 m.s**-1\n",
            "g = 10.87 m.s**-2\n"
          ]
        }
      ],
      "source": [
        "# 2\n",
        "print(\"La différence pour les valuers de g =\", str(-g), str(regl[1]))\n",
        "print(\"La différence pour les valuers de v_0 =\" , str(v0), str(regl[0]))"
      ]
    },
    {
      "cell_type": "code",
      "execution_count": 29,
      "metadata": {
        "colab": {
          "base_uri": "https://localhost:8080/",
          "height": 350
        },
        "id": "EgK-rt6JN9uz",
        "outputId": "0bd9e4b1-b7aa-4e22-9a9b-c94dddfb6b2a"
      },
      "outputs": [
        {
          "name": "stdout",
          "output_type": "stream",
          "text": [
            "[ -0.99818182  -2.08516364  -3.17214545  -4.25912727  -5.34610909\n",
            "  -6.43309091  -7.52007273  -8.60705455  -9.69403636 -10.78101818\n",
            " -11.868     ]\n"
          ]
        },
        {
          "data": {
            "image/png": "[encoded data removed]",
            "text/plain": [
              "<Figure size 432x288 with 1 Axes>"
            ]
          },
          "metadata": {
            "needs_background": "light"
          },
          "output_type": "display_data"
        }
      ],
      "source": [
        "# Paramètres du modèle\n",
        "g = regl[1]\n",
        "v0 = regl[0]\n",
        "\n",
        "# Discrétisation du modèle\n",
        "t_mod = np.linspace(0, 1, N)\n",
        "v_mod = v0 + g * t_exp\n",
        "print(v_mod)\n",
        "\n",
        "# Calcul de la somme S\n",
        "Si = (v_exp - v_mod) ** 2\n",
        "S = np.sum(Si)\n",
        "\n",
        "# Représentation graphique du modèle et des données\n",
        "plt.plot(t_exp, v_exp, '+k', label = 'données expérimentales')\n",
        "plt.plot(t_mod, v_mod, '-b', label = 'modèle')\n",
        "\n",
        "# représentation des écarts entre le modèle et les données\n",
        "for i in range(N - 1):\n",
        "    plt.plot((t_exp[i], t_exp[i]), (v_exp[i], v_mod[i]), '-r')\n",
        "\n",
        "plt.title('S = ' + str(np.around(S,2)))\n",
        "plt.xlabel('t [s]')\n",
        "plt.ylabel('v [m/s]')\n",
        "plt.grid()\n",
        "plt.legend()\n",
        "plt.show()"
      ]
    },
    {
      "cell_type": "markdown",
      "metadata": {
        "id": "ekhupYyhKEMm"
      },
      "source": [
        "## La fonction `curve_fit`"
      ]
    },
    {
      "cell_type": "markdown",
      "metadata": {
        "id": "CGtbxLTtKEMm"
      },
      "source": [
        "La fonction `curve_fit` du module `optimize` de `scipy` permet d'ajuster n'importe quel modèle à des données expérimentales.\n",
        "\n",
        "Voyons comment elle fonctionne avec les données de vitesse. Il faut d'abord définir la fonction python qui représente le modèle :"
      ]
    },
    {
      "cell_type": "code",
      "execution_count": 30,
      "metadata": {
        "id": "cOMZIruLKEMm"
      },
      "outputs": [],
      "source": [
        "def modlin(x, a, b):\n",
        "    '''\n",
        "        Fonction qui représente le modèle linéaire\n",
        "        y(x; a, b) = a + bx\n",
        "    '''\n",
        "    return a + b * x"
      ]
    },
    {
      "cell_type": "markdown",
      "metadata": {
        "id": "M8PtcFMeKEMm"
      },
      "source": [
        "<div class=\"alert alert-warning\">\n",
        "\n",
        "> **Attention**\n",
        ">\n",
        "> Dans la fonction python qui représente le modèle, il faut absolument que **la variable libre soit le premier argument** de la fonction. Suivent ensuite les paramètres du problème.\n",
        "</div>"
      ]
    },
    {
      "cell_type": "markdown",
      "metadata": {
        "id": "Q9oqUGV-KEMn"
      },
      "source": [
        "Nous importons ensuite la fonction `curve_fit` :"
      ]
    },
    {
      "cell_type": "code",
      "execution_count": 31,
      "metadata": {
        "id": "FxhLreuyKEMn"
      },
      "outputs": [],
      "source": [
        "from scipy.optimize import curve_fit"
      ]
    },
    {
      "cell_type": "markdown",
      "metadata": {
        "id": "ZfbpfD9FKEMn"
      },
      "source": [
        "Les arguments de la fonction `curve_fit` sont :\n",
        "\n",
        "1. La fonction python qui représente le modèle\n",
        "2. Le tableau qui représente les données $x_i$\n",
        "3. Le tableau qui représente les données $y_i$"
      ]
    },
    {
      "cell_type": "code",
      "execution_count": 35,
      "metadata": {
        "colab": {
          "base_uri": "https://localhost:8080/",
          "height": 332
        },
        "id": "_77_hm-dKEMn",
        "outputId": "53ca6921-00ec-4684-ff0d-cda0856326c9"
      },
      "outputs": [
        {
          "name": "stdout",
          "output_type": "stream",
          "text": [
            "v0 = -1.00 m.s**-1\n",
            "g = 10.87 m.s**-2\n"
          ]
        },
        {
          "data": {
            "image/png": "[encoded data removed]",
            "text/plain": [
              "<Figure size 432x288 with 1 Axes>"
            ]
          },
          "metadata": {
            "needs_background": "light"
          },
          "output_type": "display_data"
        }
      ],
      "source": [
        "# Ajustement du modèle linéaire\n",
        "solution = curve_fit(modlin, t_exp, v_exp, p0 = [0., 10.])\n",
        "\n",
        "# Identification des paramètres du modèle\n",
        "a, b = solution[0]\n",
        "v0 = a\n",
        "g = -b\n",
        "\n",
        "# Affichage du résultat\n",
        "print('v0 = {:4.2f} m.s**-1'.format(v0))\n",
        "print('g = {:4.2f} m.s**-2'.format(g))\n",
        "\n",
        "# Calcul du modèle\n",
        "t_mod = np.linspace(0, 1, N)\n",
        "v_mod = modlin(t_mod, a, b)\n",
        "\n",
        "# Calcul de la somme S\n",
        "Si = (v_exp - v_mod) ** 2\n",
        "S = np.sum(Si)\n",
        "\n",
        "# Représentation graphique du modèle et des données\n",
        "plt.plot(t_exp, v_exp, '+k', label = 'données expérimentales')\n",
        "plt.plot(t_mod, v_mod, '-b', label = 'modèle')\n",
        "plt.title('S = ' + str(S))\n",
        "plt.xlabel('t [s]')\n",
        "plt.ylabel('v [m/s]')\n",
        "plt.grid()\n",
        "plt.legend()\n",
        "plt.show()"
      ]
    },
    {
      "cell_type": "markdown",
      "metadata": {
        "id": "RL3xE4RxKEMo"
      },
      "source": [
        "On voit que l'on obtient le même résultat qu'avec la régression linéaire. Ce ne sont pourtant pas les mêmes méthodes numériques qui sont employées. En augmentant le nombre de chiffres après la virgule utilisés pour afficher les paramètres trouvés avec chaque méthode, vous verrez que les résultats finissent par différer. On appelle cela la précision numérique de la méthode numérique. On le voit aussi sur les sommes $S$ qui sont différentes, certes pas de beaucoup !"
      ]
    },
    {
      "cell_type": "markdown",
      "metadata": {
        "id": "0J3wEpYiKEMo"
      },
      "source": [
        "<div class=\"alert alert-warning\">\n",
        "\n",
        "**Attention**\n",
        "\n",
        "La fonction `curve_fit()` utilise des valeurs de départ par défaut égales à 1 pour tous les paramètres, avant d'ajuster ces valeurs grâce à un algorithme que l'on ne verra pas dans ce cours. Il arrive parfois que la fonction `curve_fit()` ne trouve pas de solution car les valeurs de départ des paramètres sont trop éloignées de la solution. Il faut alors utiliser l'option `p0` de la fonction `curve_fit()`, où il faut spécifier le tableau des valeurs de départ voulues, qui soient plus approchées de la solution. Afin de connaître une valeur approximative de la solution, on peut comme dans le tout 1er exercice ajuster à la main les paramètres.\n",
        "</div>"
      ]
    },
    {
      "cell_type": "code",
      "execution_count": 36,
      "metadata": {
        "colab": {
          "base_uri": "https://localhost:8080/"
        },
        "id": "Cd4KzA7BOuyx",
        "outputId": "689f1c75-a846-4e2f-bc15-2a32b63a9dfd"
      },
      "outputs": [
        {
          "name": "stdout",
          "output_type": "stream",
          "text": [
            "Help on function curve_fit in module scipy.optimize.minpack:\n",
            "\n",
            "curve_fit(f, xdata, ydata, p0=None, sigma=None, absolute_sigma=False, check_finite=True, bounds=(-inf, inf), method=None, jac=None, **kwargs)\n",
            "    Use non-linear least squares to fit a function, f, to data.\n",
            "    \n",
            "    Assumes ``ydata = f(xdata, *params) + eps``\n",
            "    \n",
            "    Parameters\n",
            "    ----------\n",
            "    f : callable\n",
            "        The model function, f(x, ...).  It must take the independent\n",
            "        variable as the first argument and the parameters to fit as\n",
            "        separate remaining arguments.\n",
            "    xdata : array_like or object\n",
            "        The independent variable where the data is measured.\n",
            "        Should usually be an M-length sequence or an (k,M)-shaped array for\n",
            "        functions with k predictors, but can actually be any object.\n",
            "    ydata : array_like\n",
            "        The dependent data, a length M array - nominally ``f(xdata, ...)``.\n",
            "    p0 : array_like, optional\n",
            "        Initial guess for the parameters (length N).  If None, then the\n",
            "        initial values will all be 1 (if the number of parameters for the\n",
            "        function can be determined using introspection, otherwise a\n",
            "        ValueError is raised).\n",
            "    sigma : None or M-length sequence or MxM array, optional\n",
            "        Determines the uncertainty in `ydata`. If we define residuals as\n",
            "        ``r = ydata - f(xdata, *popt)``, then the interpretation of `sigma`\n",
            "        depends on its number of dimensions:\n",
            "    \n",
            "            - A 1-d `sigma` should contain values of standard deviations of\n",
            "              errors in `ydata`. In this case, the optimized function is\n",
            "              ``chisq = sum((r / sigma) ** 2)``.\n",
            "    \n",
            "            - A 2-d `sigma` should contain the covariance matrix of\n",
            "              errors in `ydata`. In this case, the optimized function is\n",
            "              ``chisq = r.T @ inv(sigma) @ r``.\n",
            "    \n",
            "              .. versionadded:: 0.19\n",
            "    \n",
            "        None (default) is equivalent of 1-d `sigma` filled with ones.\n",
            "    absolute_sigma : bool, optional\n",
            "        If True, `sigma` is used in an absolute sense and the estimated parameter\n",
            "        covariance `pcov` reflects these absolute values.\n",
            "    \n",
            "        If False, only the relative magnitudes of the `sigma` values matter.\n",
            "        The returned parameter covariance matrix `pcov` is based on scaling\n",
            "        `sigma` by a constant factor. This constant is set by demanding that the\n",
            "        reduced `chisq` for the optimal parameters `popt` when using the\n",
            "        *scaled* `sigma` equals unity. In other words, `sigma` is scaled to\n",
            "        match the sample variance of the residuals after the fit.\n",
            "        Mathematically,\n",
            "        ``pcov(absolute_sigma=False) = pcov(absolute_sigma=True) * chisq(popt)/(M-N)``\n",
            "    check_finite : bool, optional\n",
            "        If True, check that the input arrays do not contain nans of infs,\n",
            "        and raise a ValueError if they do. Setting this parameter to\n",
            "        False may silently produce nonsensical results if the input arrays\n",
            "        do contain nans. Default is True.\n",
            "    bounds : 2-tuple of array_like, optional\n",
            "        Lower and upper bounds on parameters. Defaults to no bounds.\n",
            "        Each element of the tuple must be either an array with the length equal\n",
            "        to the number of parameters, or a scalar (in which case the bound is\n",
            "        taken to be the same for all parameters.) Use ``np.inf`` with an\n",
            "        appropriate sign to disable bounds on all or some parameters.\n",
            "    \n",
            "        .. versionadded:: 0.17\n",
            "    method : {'lm', 'trf', 'dogbox'}, optional\n",
            "        Method to use for optimization.  See `least_squares` for more details.\n",
            "        Default is 'lm' for unconstrained problems and 'trf' if `bounds` are\n",
            "        provided. The method 'lm' won't work when the number of observations\n",
            "        is less than the number of variables, use 'trf' or 'dogbox' in this\n",
            "        case.\n",
            "    \n",
            "        .. versionadded:: 0.17\n",
            "    jac : callable, string or None, optional\n",
            "        Function with signature ``jac(x, ...)`` which computes the Jacobian\n",
            "        matrix of the model function with respect to parameters as a dense\n",
            "        array_like structure. It will be scaled according to provided `sigma`.\n",
            "        If None (default), the Jacobian will be estimated numerically.\n",
            "        String keywords for 'trf' and 'dogbox' methods can be used to select\n",
            "        a finite difference scheme, see `least_squares`.\n",
            "    \n",
            "        .. versionadded:: 0.18\n",
            "    kwargs\n",
            "        Keyword arguments passed to `leastsq` for ``method='lm'`` or\n",
            "        `least_squares` otherwise.\n",
            "    \n",
            "    Returns\n",
            "    -------\n",
            "    popt : array\n",
            "        Optimal values for the parameters so that the sum of the squared\n",
            "        residuals of ``f(xdata, *popt) - ydata`` is minimized\n",
            "    pcov : 2d array\n",
            "        The estimated covariance of popt. The diagonals provide the variance\n",
            "        of the parameter estimate. To compute one standard deviation errors\n",
            "        on the parameters use ``perr = np.sqrt(np.diag(pcov))``.\n",
            "    \n",
            "        How the `sigma` parameter affects the estimated covariance\n",
            "        depends on `absolute_sigma` argument, as described above.\n",
            "    \n",
            "        If the Jacobian matrix at the solution doesn't have a full rank, then\n",
            "        'lm' method returns a matrix filled with ``np.inf``, on the other hand\n",
            "        'trf'  and 'dogbox' methods use Moore-Penrose pseudoinverse to compute\n",
            "        the covariance matrix.\n",
            "    \n",
            "    Raises\n",
            "    ------\n",
            "    ValueError\n",
            "        if either `ydata` or `xdata` contain NaNs, or if incompatible options\n",
            "        are used.\n",
            "    \n",
            "    RuntimeError\n",
            "        if the least-squares minimization fails.\n",
            "    \n",
            "    OptimizeWarning\n",
            "        if covariance of the parameters can not be estimated.\n",
            "    \n",
            "    See Also\n",
            "    --------\n",
            "    least_squares : Minimize the sum of squares of nonlinear functions.\n",
            "    scipy.stats.linregress : Calculate a linear least squares regression for\n",
            "                             two sets of measurements.\n",
            "    \n",
            "    Notes\n",
            "    -----\n",
            "    With ``method='lm'``, the algorithm uses the Levenberg-Marquardt algorithm\n",
            "    through `leastsq`. Note that this algorithm can only deal with\n",
            "    unconstrained problems.\n",
            "    \n",
            "    Box constraints can be handled by methods 'trf' and 'dogbox'. Refer to\n",
            "    the docstring of `least_squares` for more information.\n",
            "    \n",
            "    Examples\n",
            "    --------\n",
            "    >>> import matplotlib.pyplot as plt\n",
            "    >>> from scipy.optimize import curve_fit\n",
            "    \n",
            "    >>> def func(x, a, b, c):\n",
            "    ...     return a * np.exp(-b * x) + c\n",
            "    \n",
            "    Define the data to be fit with some noise:\n",
            "    \n",
            "    >>> xdata = np.linspace(0, 4, 50)\n",
            "    >>> y = func(xdata, 2.5, 1.3, 0.5)\n",
            "    >>> np.random.seed(1729)\n",
            "    >>> y_noise = 0.2 * np.random.normal(size=xdata.size)\n",
            "    >>> ydata = y + y_noise\n",
            "    >>> plt.plot(xdata, ydata, 'b-', label='data')\n",
            "    \n",
            "    Fit for the parameters a, b, c of the function `func`:\n",
            "    \n",
            "    >>> popt, pcov = curve_fit(func, xdata, ydata)\n",
            "    >>> popt\n",
            "    array([ 2.55423706,  1.35190947,  0.47450618])\n",
            "    >>> plt.plot(xdata, func(xdata, *popt), 'r-',\n",
            "    ...          label='fit: a=%5.3f, b=%5.3f, c=%5.3f' % tuple(popt))\n",
            "    \n",
            "    Constrain the optimization to the region of ``0 <= a <= 3``,\n",
            "    ``0 <= b <= 1`` and ``0 <= c <= 0.5``:\n",
            "    \n",
            "    >>> popt, pcov = curve_fit(func, xdata, ydata, bounds=(0, [3., 1., 0.5]))\n",
            "    >>> popt\n",
            "    array([ 2.43708906,  1.        ,  0.35015434])\n",
            "    >>> plt.plot(xdata, func(xdata, *popt), 'g--',\n",
            "    ...          label='fit: a=%5.3f, b=%5.3f, c=%5.3f' % tuple(popt))\n",
            "    \n",
            "    >>> plt.xlabel('x')\n",
            "    >>> plt.ylabel('y')\n",
            "    >>> plt.legend()\n",
            "    >>> plt.show()\n",
            "\n"
          ]
        }
      ],
      "source": [
        "help(curve_fit)"
      ]
    },
    {
      "cell_type": "markdown",
      "metadata": {
        "id": "nfVwZR9gKEMo"
      },
      "source": [
        "### Exercice\n",
        "Grâce à la fonction `curve_fit`, on peut facilement changer de modèle. Définir un modèle quadratique de la forme $y(x;a,b,c) = a + bx + cx^2$, et ajuster les paramètres sur les données de vitesse. Calculer la somme $S$ et représenter le modèle et les données."
      ]
    },
    {
      "cell_type": "code",
      "execution_count": 14,
      "metadata": {
        "id": "DVwNPdJLPuyM"
      },
      "outputs": [],
      "source": [
        "def quadmodel(x, a, b, c):\n",
        "  return (a + (b * x)) + (c * (x ** 2))"
      ]
    },
    {
      "cell_type": "code",
      "execution_count": 15,
      "metadata": {
        "colab": {
          "base_uri": "https://localhost:8080/",
          "height": 295
        },
        "id": "rw5PEvwET8sr",
        "outputId": "65a19031-5ef1-49d1-ecf0-b3437c7e0568"
      },
      "outputs": [
        {
          "data": {
            "image/png": "[encoded data removed]",
            "text/plain": [
              "<Figure size 432x288 with 1 Axes>"
            ]
          },
          "metadata": {
            "needs_background": "light"
          },
          "output_type": "display_data"
        }
      ],
      "source": [
        "# On peut définir une valeur de 'c' pour vérifier si çà marche la fonction 'quadmodel'\n",
        "c = -3\n",
        "v_mod = quadmodel(t_mod, a, b, c)\n",
        "\n",
        "# Calcul de la somme S\n",
        "Si = (v_exp - v_mod) ** 2\n",
        "S = np.sum(Si)\n",
        "\n",
        "# Représentation graphique du modèle et des données\n",
        "plt.plot(t_exp, v_exp, '+k', label = 'données expérimentales')\n",
        "plt.plot(t_mod, v_mod, '-b', label = 'modèle')\n",
        "plt.title('S = ' + str(S))\n",
        "plt.xlabel('t [s]')\n",
        "plt.ylabel('v [m/s]')\n",
        "plt.grid()\n",
        "plt.legend()\n",
        "plt.show()"
      ]
    },
    {
      "cell_type": "code",
      "execution_count": 83,
      "metadata": {
        "colab": {
          "base_uri": "https://localhost:8080/",
          "height": 350
        },
        "id": "s5dtUbuyQC59",
        "outputId": "21ba21c8-92c3-4603-e1df-b1de2e037bd6"
      },
      "outputs": [
        {
          "name": "stdout",
          "output_type": "stream",
          "text": [
            "v0 = -1.29 m.s**-1\n",
            "g = 9.10 m.s**-2\n",
            "c = -2.32\n"
          ]
        },
        {
          "data": {
            "image/png": "[encoded data removed]",
            "text/plain": [
              "<Figure size 432x288 with 1 Axes>"
            ]
          },
          "metadata": {
            "needs_background": "light"
          },
          "output_type": "display_data"
        }
      ],
      "source": [
        "c = -2\n",
        "\n",
        "y = quadmodel(t_mod, a, b, c)\n",
        "np.random.seed(1729)\n",
        "y_noise = 0.2 * np.random.normal(size=t_exp.size)\n",
        "ydata = y + y_noise\n",
        "solution, _ = curve_fit(quadmodel, t_exp,ydata)\n",
        "# Identification des paramètres du modèle\n",
        "a, b, c2 = solution\n",
        "v0 = a\n",
        "g = -b\n",
        "\n",
        "# Affichage du résultat\n",
        "print('v0 = {:4.2f} m.s**-1'.format(v0))\n",
        "print('g = {:4.2f} m.s**-2'.format(g))\n",
        "print('c = {:4.2f}'.format(c2))\n",
        "\n",
        "# Calcul du modèle\n",
        "t_mod = np.linspace(0, 1, N)\n",
        "v_mod = quadmodel(t_mod, a, b, c2)\n",
        "\n",
        "# Calcul de la somme S\n",
        "Si = (v_exp - v_mod) ** 2\n",
        "S = np.sum(Si)\n",
        "\n",
        "# Représentation graphique du modèle et des données\n",
        "plt.plot(t_exp, v_exp, '+k', label = 'données expérimentales')\n",
        "plt.plot(t_mod, v_mod, '-b', label = 'modèle')\n",
        "plt.title('S = ' + str(S))\n",
        "plt.xlabel('t [s]')\n",
        "plt.ylabel('v [m/s]')\n",
        "plt.grid()\n",
        "plt.legend()\n",
        "plt.show()"
      ]
    },
    {
      "cell_type": "markdown",
      "metadata": {
        "id": "lPbvJ68NKEMp"
      },
      "source": [
        "## Erreurs de mesures\n",
        "Vous savez pour avoir déjà fait des expériences de physique en Travaux Pratiques, que l'on attache toujours une erreur estimée aux mesures expérimentales. Il est possible avec la fonction `errorbar()` de matplotlib d'afficher à la fois les mesures et leur barre d'erreur.\n",
        "\n",
        "Dans notre exemple, on suppose que chaque mesure a la même erreur de mesure qui est de $\\pm 2$ m.s $^{-1}$. On peut alors représenter les barres d'erreur avec l'option `yerr` (par défaut le 3ème argument) de la fonction `errorbar()`, qui est un tableau de même dimension que les données contenant les erreurs sur chaque point de mesure:"
      ]
    },
    {
      "cell_type": "code",
      "execution_count": 84,
      "metadata": {
        "colab": {
          "base_uri": "https://localhost:8080/",
          "height": 279
        },
        "id": "KOjJakxzKEMp",
        "outputId": "e5edc30d-079a-40ca-e25c-9b5c4054f11d"
      },
      "outputs": [
        {
          "data": {
            "image/png": "[encoded data removed]",
            "text/plain": [
              "<Figure size 432x288 with 1 Axes>"
            ]
          },
          "metadata": {
            "needs_background": "light"
          },
          "output_type": "display_data"
        }
      ],
      "source": [
        "# définition du tableau des erreurs de mesure\n",
        "erreurs = 2. * np.ones(v_exp.shape) # m/s\n",
        "\n",
        "# Représentation graphique des données avec les barres d'erreur\n",
        "plt.errorbar(t_exp, v_exp, yerr=erreurs, marker = '+', linestyle = '')\n",
        "\n",
        "# Option du graphique\n",
        "plt.xlabel('t [s]')\n",
        "plt.ylabel('v [m/s]')\n",
        "plt.grid()\n",
        "plt.show()"
      ]
    },
    {
      "cell_type": "markdown",
      "metadata": {
        "id": "F32oOva0KEMp"
      },
      "source": [
        "## Erreurs sur les paramètres ajustés\n",
        "Nous ne rentrerons pas dans les détails, mais la fonction `curve_fit()` permet d'estimer l'erreur sur les paramètres du modèle ajustés aux données grâce à la donnée des erreurs de mesure. Il faut alors spécifier les erreurs de mesure grâce à l'option `sigma` de la fonction `curve_fit()`, avec le tableau contenant les erreurs $\\sigma_{y_i}$ sur chaque mesure. \n",
        "\n",
        "La somme quadratique des écarts entre le modèle et les données du problème est alors pondérée par les incertitudes de mesure :\n",
        "\n",
        "$$\n",
        "S = \\sum_{i=0}^{N-1} \\frac{(y_i - P(x_i))^2}{{\\sigma_{y_i}}^2}\n",
        "$$\n",
        "\n",
        "Ainsi, les mesures avec une grande incertitude vont moins contribuer à la somme, et donc auront moins d'impact sur l'ajustement du modèle aux données.\n",
        "\n",
        "On pourra remarquer qu'en plus du tableau contenant les paramètres ajustés, un deuxième tableau est retourné par la fonction `curve_fit()`. Il s'agit de la matrice de covariance de ces paramètres (que l'on notera `pcov` dans le code ci-dessous). On peut extraire de la matrice de covariance l'incertitude sur chacun des paramètres, donnée par la racine carrée des éléments diagonaux : `perr = np.sqrt(np.diag(pcov))`. \n",
        "\n",
        "Par exemple, estimons l'erreur sur les paramètres ajustés pour le modèle linéaire :"
      ]
    },
    {
      "cell_type": "code",
      "execution_count": 85,
      "metadata": {
        "colab": {
          "base_uri": "https://localhost:8080/"
        },
        "id": "o3__1-CVKEMp",
        "outputId": "70ba615f-d105-4455-be89-78ad711f78f3"
      },
      "outputs": [
        {
          "name": "stdout",
          "output_type": "stream",
          "text": [
            "v0 = -0.998 ± 1.128 m/s\n",
            "g = 10.870 ± 1.907 m/s\n"
          ]
        }
      ],
      "source": [
        "# Ajustement du modèle linéaire\n",
        "solution, pcov = curve_fit(modlin, t_exp, v_exp, sigma = erreurs, absolute_sigma = True)\n",
        "\n",
        "# Identification des paramètres du modèle\n",
        "a, b = solution\n",
        "v0 = a\n",
        "g = -b\n",
        "\n",
        "# Calcul de l'incertitude sur les paramètres ajustés\n",
        "perr = np.sqrt(np.diag(pcov))\n",
        "\n",
        "# Affichage\n",
        "print('v0 = %5.3f \\u00B1 %5.3f m/s' % (v0, perr[0]))\n",
        "print('g = %5.3f \\u00B1 %5.3f m/s' % (g, perr[1]))"
      ]
    },
    {
      "cell_type": "markdown",
      "metadata": {
        "id": "tayMsqS8KEMq"
      },
      "source": [
        "<div class=\"alert alert-warning\">\n",
        "\n",
        "**Attention**\n",
        "\n",
        "Par défaut la fonction `curve_fit` applique un facteur multiplicatif global sur les erreurs afin de normaliser la somme $S$, c'est-à-dire pour que $S=1$. Ainsi, par défaut, les erreurs n'ont pas un sens absolu mais seulement relatif entre elles. Afin d'obtenir l'erreur absolue, il faut mettre l'option `absolute_sigma = True` dans la fonction `curve_fit()`.\n",
        "</div>"
      ]
    }
  ],
  "metadata": {
    "colab": {
      "collapsed_sections": [],
      "name": "etu-02-ajustement-modele.ipynb",
      "provenance": []
    },
    "interpreter": {
      "hash": "31f2aee4e71d21fbe5cf8b01ff0e069b9275f58929596ceb00d14d90e3e16cd6"
    },
    "kernelspec": {
      "display_name": "Python 3 (ipykernel)",
      "language": "python",
      "name": "python3"
    },
    "language_info": {
      "codemirror_mode": {
        "name": "ipython",
        "version": 3
      },
      "file_extension": ".py",
      "mimetype": "text/x-python",
      "name": "python",
      "nbconvert_exporter": "python",
      "pygments_lexer": "ipython3",
      "version": "3.9.5"
    }
  },
  "nbformat": 4,
  "nbformat_minor": 0
}
